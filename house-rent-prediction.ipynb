{
 "cells": [
  {
   "cell_type": "code",
   "execution_count": 1,
   "id": "15b42491",
   "metadata": {
    "_cell_guid": "b1076dfc-b9ad-4769-8c92-a6c4dae69d19",
    "_uuid": "8f2839f25d086af736a60e9eeb907d3b93b6e0e5",
    "execution": {
     "iopub.execute_input": "2023-05-09T14:26:44.201133Z",
     "iopub.status.busy": "2023-05-09T14:26:44.200547Z",
     "iopub.status.idle": "2023-05-09T14:26:44.219903Z",
     "shell.execute_reply": "2023-05-09T14:26:44.218162Z"
    },
    "papermill": {
     "duration": 0.042913,
     "end_time": "2023-05-09T14:26:44.222461",
     "exception": false,
     "start_time": "2023-05-09T14:26:44.179548",
     "status": "completed"
    },
    "tags": []
   },
   "outputs": [
    {
     "name": "stdout",
     "output_type": "stream",
     "text": [
      "/kaggle/input/superstore-dataset-final/Sample - Superstore.csv\n"
     ]
    }
   ],
   "source": [
    "# This Python 3 environment comes with many helpful analytics libraries installed\n",
    "# It is defined by the kaggle/python Docker image: https://github.com/kaggle/docker-python\n",
    "# For example, here's several helpful packages to load\n",
    "\n",
    "import numpy as np # linear algebra\n",
    "import pandas as pd # data processing, CSV file I/O (e.g. pd.read_csv)\n",
    "\n",
    "# Input data files are available in the read-only \"../input/\" directory\n",
    "# For example, running this (by clicking run or pressing Shift+Enter) will list all files under the input directory\n",
    "\n",
    "import os\n",
    "for dirname, _, filenames in os.walk('/kaggle/input'):\n",
    "    for filename in filenames:\n",
    "        print(os.path.join(dirname, filename))\n",
    "\n",
    "# You can write up to 20GB to the current directory (/kaggle/working/) that gets preserved as output when you create a version using \"Save & Run All\" \n",
    "# You can also write temporary files to /kaggle/temp/, but they won't be saved outside of the current session"
   ]
  },
  {
   "cell_type": "code",
   "execution_count": 2,
   "id": "6f5f474f",
   "metadata": {
    "execution": {
     "iopub.execute_input": "2023-05-09T14:26:44.255417Z",
     "iopub.status.busy": "2023-05-09T14:26:44.254994Z",
     "iopub.status.idle": "2023-05-09T14:26:46.424236Z",
     "shell.execute_reply": "2023-05-09T14:26:46.423115Z"
    },
    "papermill": {
     "duration": 2.189134,
     "end_time": "2023-05-09T14:26:46.427376",
     "exception": false,
     "start_time": "2023-05-09T14:26:44.238242",
     "status": "completed"
    },
    "tags": []
   },
   "outputs": [
    {
     "name": "stderr",
     "output_type": "stream",
     "text": [
      "/opt/conda/lib/python3.10/site-packages/scipy/__init__.py:146: UserWarning: A NumPy version >=1.16.5 and <1.23.0 is required for this version of SciPy (detected version 1.23.5\n",
      "  warnings.warn(f\"A NumPy version >={np_minversion} and <{np_maxversion}\"\n"
     ]
    }
   ],
   "source": [
    "import pandas as pd\n",
    "import numpy as np\n",
    "import seaborn as sns\n",
    "import matplotlib.pyplot as plt\n",
    "from scipy import stats\n",
    "from scipy.stats import norm\n",
    "import warnings\n",
    "warnings.filterwarnings(\"ignore\")\n",
    "\n",
    "\n",
    "\n",
    "from imblearn.combine import SMOTETomek\n",
    "\n",
    "#Data Visualization \n",
    "import seaborn as sns\n",
    "import matplotlib.pyplot as plt\n",
    "%matplotlib inline\n",
    "\n",
    "#Machine Learning \n",
    "from sklearn.preprocessing import RobustScaler,StandardScaler,LabelEncoder\n",
    "from sklearn.pipeline import Pipeline\n",
    "from sklearn.model_selection import train_test_split\n",
    "from sklearn.linear_model import LinearRegression,Lasso,Ridge\n",
    "from sklearn.neighbors import KNeighborsRegressor\n",
    "from sklearn.svm import SVR\n",
    "from sklearn.ensemble import RandomForestRegressor,GradientBoostingRegressor,VotingRegressor,RandomForestClassifier\n",
    "from sklearn.metrics import mean_absolute_error,mean_squared_error, median_absolute_error,r2_score\n",
    "from sklearn.feature_selection import SelectKBest,f_regression\n"
   ]
  },
  {
   "cell_type": "code",
   "execution_count": 3,
   "id": "e320fd17",
   "metadata": {
    "execution": {
     "iopub.execute_input": "2023-05-09T14:26:46.460548Z",
     "iopub.status.busy": "2023-05-09T14:26:46.460121Z",
     "iopub.status.idle": "2023-05-09T14:26:46.623992Z",
     "shell.execute_reply": "2023-05-09T14:26:46.622880Z"
    },
    "papermill": {
     "duration": 0.183393,
     "end_time": "2023-05-09T14:26:46.626599",
     "exception": false,
     "start_time": "2023-05-09T14:26:46.443206",
     "status": "completed"
    },
    "tags": []
   },
   "outputs": [
    {
     "data": {
      "text/html": [
       "<div>\n",
       "<style scoped>\n",
       "    .dataframe tbody tr th:only-of-type {\n",
       "        vertical-align: middle;\n",
       "    }\n",
       "\n",
       "    .dataframe tbody tr th {\n",
       "        vertical-align: top;\n",
       "    }\n",
       "\n",
       "    .dataframe thead th {\n",
       "        text-align: right;\n",
       "    }\n",
       "</style>\n",
       "<table border=\"1\" class=\"dataframe\">\n",
       "  <thead>\n",
       "    <tr style=\"text-align: right;\">\n",
       "      <th></th>\n",
       "      <th>Row ID</th>\n",
       "      <th>Order ID</th>\n",
       "      <th>Order Date</th>\n",
       "      <th>Ship Date</th>\n",
       "      <th>Ship Mode</th>\n",
       "      <th>Customer ID</th>\n",
       "      <th>Customer Name</th>\n",
       "      <th>Segment</th>\n",
       "      <th>Country</th>\n",
       "      <th>City</th>\n",
       "      <th>...</th>\n",
       "      <th>Postal Code</th>\n",
       "      <th>Region</th>\n",
       "      <th>Product ID</th>\n",
       "      <th>Category</th>\n",
       "      <th>Sub-Category</th>\n",
       "      <th>Product Name</th>\n",
       "      <th>Sales</th>\n",
       "      <th>Quantity</th>\n",
       "      <th>Discount</th>\n",
       "      <th>Profit</th>\n",
       "    </tr>\n",
       "  </thead>\n",
       "  <tbody>\n",
       "    <tr>\n",
       "      <th>0</th>\n",
       "      <td>1</td>\n",
       "      <td>CA-2016-152156</td>\n",
       "      <td>11/8/2016</td>\n",
       "      <td>11/11/2016</td>\n",
       "      <td>Second Class</td>\n",
       "      <td>CG-12520</td>\n",
       "      <td>Claire Gute</td>\n",
       "      <td>Consumer</td>\n",
       "      <td>United States</td>\n",
       "      <td>Henderson</td>\n",
       "      <td>...</td>\n",
       "      <td>42420</td>\n",
       "      <td>South</td>\n",
       "      <td>FUR-BO-10001798</td>\n",
       "      <td>Furniture</td>\n",
       "      <td>Bookcases</td>\n",
       "      <td>Bush Somerset Collection Bookcase</td>\n",
       "      <td>261.9600</td>\n",
       "      <td>2</td>\n",
       "      <td>0.00</td>\n",
       "      <td>41.9136</td>\n",
       "    </tr>\n",
       "    <tr>\n",
       "      <th>1</th>\n",
       "      <td>2</td>\n",
       "      <td>CA-2016-152156</td>\n",
       "      <td>11/8/2016</td>\n",
       "      <td>11/11/2016</td>\n",
       "      <td>Second Class</td>\n",
       "      <td>CG-12520</td>\n",
       "      <td>Claire Gute</td>\n",
       "      <td>Consumer</td>\n",
       "      <td>United States</td>\n",
       "      <td>Henderson</td>\n",
       "      <td>...</td>\n",
       "      <td>42420</td>\n",
       "      <td>South</td>\n",
       "      <td>FUR-CH-10000454</td>\n",
       "      <td>Furniture</td>\n",
       "      <td>Chairs</td>\n",
       "      <td>Hon Deluxe Fabric Upholstered Stacking Chairs,...</td>\n",
       "      <td>731.9400</td>\n",
       "      <td>3</td>\n",
       "      <td>0.00</td>\n",
       "      <td>219.5820</td>\n",
       "    </tr>\n",
       "    <tr>\n",
       "      <th>2</th>\n",
       "      <td>3</td>\n",
       "      <td>CA-2016-138688</td>\n",
       "      <td>6/12/2016</td>\n",
       "      <td>6/16/2016</td>\n",
       "      <td>Second Class</td>\n",
       "      <td>DV-13045</td>\n",
       "      <td>Darrin Van Huff</td>\n",
       "      <td>Corporate</td>\n",
       "      <td>United States</td>\n",
       "      <td>Los Angeles</td>\n",
       "      <td>...</td>\n",
       "      <td>90036</td>\n",
       "      <td>West</td>\n",
       "      <td>OFF-LA-10000240</td>\n",
       "      <td>Office Supplies</td>\n",
       "      <td>Labels</td>\n",
       "      <td>Self-Adhesive Address Labels for Typewriters b...</td>\n",
       "      <td>14.6200</td>\n",
       "      <td>2</td>\n",
       "      <td>0.00</td>\n",
       "      <td>6.8714</td>\n",
       "    </tr>\n",
       "    <tr>\n",
       "      <th>3</th>\n",
       "      <td>4</td>\n",
       "      <td>US-2015-108966</td>\n",
       "      <td>10/11/2015</td>\n",
       "      <td>10/18/2015</td>\n",
       "      <td>Standard Class</td>\n",
       "      <td>SO-20335</td>\n",
       "      <td>Sean O'Donnell</td>\n",
       "      <td>Consumer</td>\n",
       "      <td>United States</td>\n",
       "      <td>Fort Lauderdale</td>\n",
       "      <td>...</td>\n",
       "      <td>33311</td>\n",
       "      <td>South</td>\n",
       "      <td>FUR-TA-10000577</td>\n",
       "      <td>Furniture</td>\n",
       "      <td>Tables</td>\n",
       "      <td>Bretford CR4500 Series Slim Rectangular Table</td>\n",
       "      <td>957.5775</td>\n",
       "      <td>5</td>\n",
       "      <td>0.45</td>\n",
       "      <td>-383.0310</td>\n",
       "    </tr>\n",
       "    <tr>\n",
       "      <th>4</th>\n",
       "      <td>5</td>\n",
       "      <td>US-2015-108966</td>\n",
       "      <td>10/11/2015</td>\n",
       "      <td>10/18/2015</td>\n",
       "      <td>Standard Class</td>\n",
       "      <td>SO-20335</td>\n",
       "      <td>Sean O'Donnell</td>\n",
       "      <td>Consumer</td>\n",
       "      <td>United States</td>\n",
       "      <td>Fort Lauderdale</td>\n",
       "      <td>...</td>\n",
       "      <td>33311</td>\n",
       "      <td>South</td>\n",
       "      <td>OFF-ST-10000760</td>\n",
       "      <td>Office Supplies</td>\n",
       "      <td>Storage</td>\n",
       "      <td>Eldon Fold 'N Roll Cart System</td>\n",
       "      <td>22.3680</td>\n",
       "      <td>2</td>\n",
       "      <td>0.20</td>\n",
       "      <td>2.5164</td>\n",
       "    </tr>\n",
       "  </tbody>\n",
       "</table>\n",
       "<p>5 rows × 21 columns</p>\n",
       "</div>"
      ],
      "text/plain": [
       "   Row ID        Order ID  Order Date   Ship Date       Ship Mode Customer ID  \\\n",
       "0       1  CA-2016-152156   11/8/2016  11/11/2016    Second Class    CG-12520   \n",
       "1       2  CA-2016-152156   11/8/2016  11/11/2016    Second Class    CG-12520   \n",
       "2       3  CA-2016-138688   6/12/2016   6/16/2016    Second Class    DV-13045   \n",
       "3       4  US-2015-108966  10/11/2015  10/18/2015  Standard Class    SO-20335   \n",
       "4       5  US-2015-108966  10/11/2015  10/18/2015  Standard Class    SO-20335   \n",
       "\n",
       "     Customer Name    Segment        Country             City  ...  \\\n",
       "0      Claire Gute   Consumer  United States        Henderson  ...   \n",
       "1      Claire Gute   Consumer  United States        Henderson  ...   \n",
       "2  Darrin Van Huff  Corporate  United States      Los Angeles  ...   \n",
       "3   Sean O'Donnell   Consumer  United States  Fort Lauderdale  ...   \n",
       "4   Sean O'Donnell   Consumer  United States  Fort Lauderdale  ...   \n",
       "\n",
       "  Postal Code  Region       Product ID         Category Sub-Category  \\\n",
       "0       42420   South  FUR-BO-10001798        Furniture    Bookcases   \n",
       "1       42420   South  FUR-CH-10000454        Furniture       Chairs   \n",
       "2       90036    West  OFF-LA-10000240  Office Supplies       Labels   \n",
       "3       33311   South  FUR-TA-10000577        Furniture       Tables   \n",
       "4       33311   South  OFF-ST-10000760  Office Supplies      Storage   \n",
       "\n",
       "                                        Product Name     Sales  Quantity  \\\n",
       "0                  Bush Somerset Collection Bookcase  261.9600         2   \n",
       "1  Hon Deluxe Fabric Upholstered Stacking Chairs,...  731.9400         3   \n",
       "2  Self-Adhesive Address Labels for Typewriters b...   14.6200         2   \n",
       "3      Bretford CR4500 Series Slim Rectangular Table  957.5775         5   \n",
       "4                     Eldon Fold 'N Roll Cart System   22.3680         2   \n",
       "\n",
       "   Discount    Profit  \n",
       "0      0.00   41.9136  \n",
       "1      0.00  219.5820  \n",
       "2      0.00    6.8714  \n",
       "3      0.45 -383.0310  \n",
       "4      0.20    2.5164  \n",
       "\n",
       "[5 rows x 21 columns]"
      ]
     },
     "execution_count": 3,
     "metadata": {},
     "output_type": "execute_result"
    }
   ],
   "source": [
    "df = pd.read_csv(\"/kaggle/input/superstore-dataset-final/Sample - Superstore.csv\",encoding='windows-1254')\n",
    "\n",
    "df.head()"
   ]
  },
  {
   "cell_type": "code",
   "execution_count": 4,
   "id": "e80c2788",
   "metadata": {
    "execution": {
     "iopub.execute_input": "2023-05-09T14:26:46.660739Z",
     "iopub.status.busy": "2023-05-09T14:26:46.660297Z",
     "iopub.status.idle": "2023-05-09T14:26:46.666531Z",
     "shell.execute_reply": "2023-05-09T14:26:46.665608Z"
    },
    "papermill": {
     "duration": 0.025937,
     "end_time": "2023-05-09T14:26:46.668896",
     "exception": false,
     "start_time": "2023-05-09T14:26:46.642959",
     "status": "completed"
    },
    "tags": []
   },
   "outputs": [
    {
     "data": {
      "text/plain": [
       "Index(['Row ID', 'Order ID', 'Order Date', 'Ship Date', 'Ship Mode',\n",
       "       'Customer ID', 'Customer Name', 'Segment', 'Country', 'City', 'State',\n",
       "       'Postal Code', 'Region', 'Product ID', 'Category', 'Sub-Category',\n",
       "       'Product Name', 'Sales', 'Quantity', 'Discount', 'Profit'],\n",
       "      dtype='object')"
      ]
     },
     "execution_count": 4,
     "metadata": {},
     "output_type": "execute_result"
    }
   ],
   "source": [
    "df.columns"
   ]
  },
  {
   "cell_type": "code",
   "execution_count": 5,
   "id": "62fe736e",
   "metadata": {
    "execution": {
     "iopub.execute_input": "2023-05-09T14:26:46.703703Z",
     "iopub.status.busy": "2023-05-09T14:26:46.703263Z",
     "iopub.status.idle": "2023-05-09T14:26:46.751235Z",
     "shell.execute_reply": "2023-05-09T14:26:46.749740Z"
    },
    "papermill": {
     "duration": 0.068487,
     "end_time": "2023-05-09T14:26:46.754061",
     "exception": false,
     "start_time": "2023-05-09T14:26:46.685574",
     "status": "completed"
    },
    "tags": []
   },
   "outputs": [
    {
     "name": "stdout",
     "output_type": "stream",
     "text": [
      "<class 'pandas.core.frame.DataFrame'>\n",
      "RangeIndex: 9994 entries, 0 to 9993\n",
      "Data columns (total 21 columns):\n",
      " #   Column         Non-Null Count  Dtype  \n",
      "---  ------         --------------  -----  \n",
      " 0   Row ID         9994 non-null   int64  \n",
      " 1   Order ID       9994 non-null   object \n",
      " 2   Order Date     9994 non-null   object \n",
      " 3   Ship Date      9994 non-null   object \n",
      " 4   Ship Mode      9994 non-null   object \n",
      " 5   Customer ID    9994 non-null   object \n",
      " 6   Customer Name  9994 non-null   object \n",
      " 7   Segment        9994 non-null   object \n",
      " 8   Country        9994 non-null   object \n",
      " 9   City           9994 non-null   object \n",
      " 10  State          9994 non-null   object \n",
      " 11  Postal Code    9994 non-null   int64  \n",
      " 12  Region         9994 non-null   object \n",
      " 13  Product ID     9994 non-null   object \n",
      " 14  Category       9994 non-null   object \n",
      " 15  Sub-Category   9994 non-null   object \n",
      " 16  Product Name   9994 non-null   object \n",
      " 17  Sales          9994 non-null   float64\n",
      " 18  Quantity       9994 non-null   int64  \n",
      " 19  Discount       9994 non-null   float64\n",
      " 20  Profit         9994 non-null   float64\n",
      "dtypes: float64(3), int64(3), object(15)\n",
      "memory usage: 1.6+ MB\n"
     ]
    }
   ],
   "source": [
    "df.info()"
   ]
  },
  {
   "cell_type": "code",
   "execution_count": 6,
   "id": "ba9115cc",
   "metadata": {
    "execution": {
     "iopub.execute_input": "2023-05-09T14:26:46.788925Z",
     "iopub.status.busy": "2023-05-09T14:26:46.788499Z",
     "iopub.status.idle": "2023-05-09T14:26:46.795083Z",
     "shell.execute_reply": "2023-05-09T14:26:46.794068Z"
    },
    "papermill": {
     "duration": 0.026901,
     "end_time": "2023-05-09T14:26:46.797416",
     "exception": false,
     "start_time": "2023-05-09T14:26:46.770515",
     "status": "completed"
    },
    "tags": []
   },
   "outputs": [
    {
     "data": {
      "text/plain": [
       "(9994, 21)"
      ]
     },
     "execution_count": 6,
     "metadata": {},
     "output_type": "execute_result"
    }
   ],
   "source": [
    "df.shape"
   ]
  },
  {
   "cell_type": "code",
   "execution_count": 7,
   "id": "6a062b45",
   "metadata": {
    "execution": {
     "iopub.execute_input": "2023-05-09T14:26:46.832460Z",
     "iopub.status.busy": "2023-05-09T14:26:46.831694Z",
     "iopub.status.idle": "2023-05-09T14:26:46.866449Z",
     "shell.execute_reply": "2023-05-09T14:26:46.865128Z"
    },
    "papermill": {
     "duration": 0.054785,
     "end_time": "2023-05-09T14:26:46.868935",
     "exception": false,
     "start_time": "2023-05-09T14:26:46.814150",
     "status": "completed"
    },
    "tags": []
   },
   "outputs": [
    {
     "data": {
      "text/html": [
       "<div>\n",
       "<style scoped>\n",
       "    .dataframe tbody tr th:only-of-type {\n",
       "        vertical-align: middle;\n",
       "    }\n",
       "\n",
       "    .dataframe tbody tr th {\n",
       "        vertical-align: top;\n",
       "    }\n",
       "\n",
       "    .dataframe thead th {\n",
       "        text-align: right;\n",
       "    }\n",
       "</style>\n",
       "<table border=\"1\" class=\"dataframe\">\n",
       "  <thead>\n",
       "    <tr style=\"text-align: right;\">\n",
       "      <th></th>\n",
       "      <th>Row ID</th>\n",
       "      <th>Postal Code</th>\n",
       "      <th>Sales</th>\n",
       "      <th>Quantity</th>\n",
       "      <th>Discount</th>\n",
       "      <th>Profit</th>\n",
       "    </tr>\n",
       "  </thead>\n",
       "  <tbody>\n",
       "    <tr>\n",
       "      <th>count</th>\n",
       "      <td>9994.000000</td>\n",
       "      <td>9994.000000</td>\n",
       "      <td>9994.000000</td>\n",
       "      <td>9994.000000</td>\n",
       "      <td>9994.000000</td>\n",
       "      <td>9994.000000</td>\n",
       "    </tr>\n",
       "    <tr>\n",
       "      <th>mean</th>\n",
       "      <td>4997.500000</td>\n",
       "      <td>55190.379428</td>\n",
       "      <td>229.858001</td>\n",
       "      <td>3.789574</td>\n",
       "      <td>0.156203</td>\n",
       "      <td>28.656896</td>\n",
       "    </tr>\n",
       "    <tr>\n",
       "      <th>std</th>\n",
       "      <td>2885.163629</td>\n",
       "      <td>32063.693350</td>\n",
       "      <td>623.245101</td>\n",
       "      <td>2.225110</td>\n",
       "      <td>0.206452</td>\n",
       "      <td>234.260108</td>\n",
       "    </tr>\n",
       "    <tr>\n",
       "      <th>min</th>\n",
       "      <td>1.000000</td>\n",
       "      <td>1040.000000</td>\n",
       "      <td>0.444000</td>\n",
       "      <td>1.000000</td>\n",
       "      <td>0.000000</td>\n",
       "      <td>-6599.978000</td>\n",
       "    </tr>\n",
       "    <tr>\n",
       "      <th>25%</th>\n",
       "      <td>2499.250000</td>\n",
       "      <td>23223.000000</td>\n",
       "      <td>17.280000</td>\n",
       "      <td>2.000000</td>\n",
       "      <td>0.000000</td>\n",
       "      <td>1.728750</td>\n",
       "    </tr>\n",
       "    <tr>\n",
       "      <th>50%</th>\n",
       "      <td>4997.500000</td>\n",
       "      <td>56430.500000</td>\n",
       "      <td>54.490000</td>\n",
       "      <td>3.000000</td>\n",
       "      <td>0.200000</td>\n",
       "      <td>8.666500</td>\n",
       "    </tr>\n",
       "    <tr>\n",
       "      <th>75%</th>\n",
       "      <td>7495.750000</td>\n",
       "      <td>90008.000000</td>\n",
       "      <td>209.940000</td>\n",
       "      <td>5.000000</td>\n",
       "      <td>0.200000</td>\n",
       "      <td>29.364000</td>\n",
       "    </tr>\n",
       "    <tr>\n",
       "      <th>max</th>\n",
       "      <td>9994.000000</td>\n",
       "      <td>99301.000000</td>\n",
       "      <td>22638.480000</td>\n",
       "      <td>14.000000</td>\n",
       "      <td>0.800000</td>\n",
       "      <td>8399.976000</td>\n",
       "    </tr>\n",
       "  </tbody>\n",
       "</table>\n",
       "</div>"
      ],
      "text/plain": [
       "            Row ID   Postal Code         Sales     Quantity     Discount  \\\n",
       "count  9994.000000   9994.000000   9994.000000  9994.000000  9994.000000   \n",
       "mean   4997.500000  55190.379428    229.858001     3.789574     0.156203   \n",
       "std    2885.163629  32063.693350    623.245101     2.225110     0.206452   \n",
       "min       1.000000   1040.000000      0.444000     1.000000     0.000000   \n",
       "25%    2499.250000  23223.000000     17.280000     2.000000     0.000000   \n",
       "50%    4997.500000  56430.500000     54.490000     3.000000     0.200000   \n",
       "75%    7495.750000  90008.000000    209.940000     5.000000     0.200000   \n",
       "max    9994.000000  99301.000000  22638.480000    14.000000     0.800000   \n",
       "\n",
       "            Profit  \n",
       "count  9994.000000  \n",
       "mean     28.656896  \n",
       "std     234.260108  \n",
       "min   -6599.978000  \n",
       "25%       1.728750  \n",
       "50%       8.666500  \n",
       "75%      29.364000  \n",
       "max    8399.976000  "
      ]
     },
     "execution_count": 7,
     "metadata": {},
     "output_type": "execute_result"
    }
   ],
   "source": [
    "df.describe()"
   ]
  },
  {
   "cell_type": "code",
   "execution_count": 8,
   "id": "edad8ddb",
   "metadata": {
    "execution": {
     "iopub.execute_input": "2023-05-09T14:26:46.904173Z",
     "iopub.status.busy": "2023-05-09T14:26:46.903781Z",
     "iopub.status.idle": "2023-05-09T14:26:46.964185Z",
     "shell.execute_reply": "2023-05-09T14:26:46.963215Z"
    },
    "papermill": {
     "duration": 0.080792,
     "end_time": "2023-05-09T14:26:46.966659",
     "exception": false,
     "start_time": "2023-05-09T14:26:46.885867",
     "status": "completed"
    },
    "tags": []
   },
   "outputs": [
    {
     "data": {
      "text/html": [
       "<div>\n",
       "<style scoped>\n",
       "    .dataframe tbody tr th:only-of-type {\n",
       "        vertical-align: middle;\n",
       "    }\n",
       "\n",
       "    .dataframe tbody tr th {\n",
       "        vertical-align: top;\n",
       "    }\n",
       "\n",
       "    .dataframe thead th {\n",
       "        text-align: right;\n",
       "    }\n",
       "</style>\n",
       "<table border=\"1\" class=\"dataframe\">\n",
       "  <thead>\n",
       "    <tr style=\"text-align: right;\">\n",
       "      <th></th>\n",
       "      <th>Order ID</th>\n",
       "      <th>Order Date</th>\n",
       "      <th>Ship Date</th>\n",
       "      <th>Ship Mode</th>\n",
       "      <th>Customer ID</th>\n",
       "      <th>Customer Name</th>\n",
       "      <th>Segment</th>\n",
       "      <th>Country</th>\n",
       "      <th>City</th>\n",
       "      <th>State</th>\n",
       "      <th>Region</th>\n",
       "      <th>Product ID</th>\n",
       "      <th>Category</th>\n",
       "      <th>Sub-Category</th>\n",
       "      <th>Product Name</th>\n",
       "    </tr>\n",
       "  </thead>\n",
       "  <tbody>\n",
       "    <tr>\n",
       "      <th>count</th>\n",
       "      <td>9994</td>\n",
       "      <td>9994</td>\n",
       "      <td>9994</td>\n",
       "      <td>9994</td>\n",
       "      <td>9994</td>\n",
       "      <td>9994</td>\n",
       "      <td>9994</td>\n",
       "      <td>9994</td>\n",
       "      <td>9994</td>\n",
       "      <td>9994</td>\n",
       "      <td>9994</td>\n",
       "      <td>9994</td>\n",
       "      <td>9994</td>\n",
       "      <td>9994</td>\n",
       "      <td>9994</td>\n",
       "    </tr>\n",
       "    <tr>\n",
       "      <th>unique</th>\n",
       "      <td>5009</td>\n",
       "      <td>1237</td>\n",
       "      <td>1334</td>\n",
       "      <td>4</td>\n",
       "      <td>793</td>\n",
       "      <td>793</td>\n",
       "      <td>3</td>\n",
       "      <td>1</td>\n",
       "      <td>531</td>\n",
       "      <td>49</td>\n",
       "      <td>4</td>\n",
       "      <td>1862</td>\n",
       "      <td>3</td>\n",
       "      <td>17</td>\n",
       "      <td>1850</td>\n",
       "    </tr>\n",
       "    <tr>\n",
       "      <th>top</th>\n",
       "      <td>CA-2017-100111</td>\n",
       "      <td>9/5/2016</td>\n",
       "      <td>12/16/2015</td>\n",
       "      <td>Standard Class</td>\n",
       "      <td>WB-21850</td>\n",
       "      <td>William Brown</td>\n",
       "      <td>Consumer</td>\n",
       "      <td>United States</td>\n",
       "      <td>New York City</td>\n",
       "      <td>California</td>\n",
       "      <td>West</td>\n",
       "      <td>OFF-PA-10001970</td>\n",
       "      <td>Office Supplies</td>\n",
       "      <td>Binders</td>\n",
       "      <td>Staple envelope</td>\n",
       "    </tr>\n",
       "    <tr>\n",
       "      <th>freq</th>\n",
       "      <td>14</td>\n",
       "      <td>38</td>\n",
       "      <td>35</td>\n",
       "      <td>5968</td>\n",
       "      <td>37</td>\n",
       "      <td>37</td>\n",
       "      <td>5191</td>\n",
       "      <td>9994</td>\n",
       "      <td>915</td>\n",
       "      <td>2001</td>\n",
       "      <td>3203</td>\n",
       "      <td>19</td>\n",
       "      <td>6026</td>\n",
       "      <td>1523</td>\n",
       "      <td>48</td>\n",
       "    </tr>\n",
       "  </tbody>\n",
       "</table>\n",
       "</div>"
      ],
      "text/plain": [
       "              Order ID Order Date   Ship Date       Ship Mode Customer ID  \\\n",
       "count             9994       9994        9994            9994        9994   \n",
       "unique            5009       1237        1334               4         793   \n",
       "top     CA-2017-100111   9/5/2016  12/16/2015  Standard Class    WB-21850   \n",
       "freq                14         38          35            5968          37   \n",
       "\n",
       "        Customer Name   Segment        Country           City       State  \\\n",
       "count            9994      9994           9994           9994        9994   \n",
       "unique            793         3              1            531          49   \n",
       "top     William Brown  Consumer  United States  New York City  California   \n",
       "freq               37      5191           9994            915        2001   \n",
       "\n",
       "       Region       Product ID         Category Sub-Category     Product Name  \n",
       "count    9994             9994             9994         9994             9994  \n",
       "unique      4             1862                3           17             1850  \n",
       "top      West  OFF-PA-10001970  Office Supplies      Binders  Staple envelope  \n",
       "freq     3203               19             6026         1523               48  "
      ]
     },
     "execution_count": 8,
     "metadata": {},
     "output_type": "execute_result"
    }
   ],
   "source": [
    "df.describe(include=\"object\")"
   ]
  },
  {
   "cell_type": "code",
   "execution_count": 9,
   "id": "4a07ee64",
   "metadata": {
    "execution": {
     "iopub.execute_input": "2023-05-09T14:26:47.002271Z",
     "iopub.status.busy": "2023-05-09T14:26:47.001900Z",
     "iopub.status.idle": "2023-05-09T14:26:47.010665Z",
     "shell.execute_reply": "2023-05-09T14:26:47.009343Z"
    },
    "papermill": {
     "duration": 0.029054,
     "end_time": "2023-05-09T14:26:47.012655",
     "exception": false,
     "start_time": "2023-05-09T14:26:46.983601",
     "status": "completed"
    },
    "tags": []
   },
   "outputs": [
    {
     "data": {
      "text/plain": [
       "Row ID             int64\n",
       "Order ID          object\n",
       "Order Date        object\n",
       "Ship Date         object\n",
       "Ship Mode         object\n",
       "Customer ID       object\n",
       "Customer Name     object\n",
       "Segment           object\n",
       "Country           object\n",
       "City              object\n",
       "State             object\n",
       "Postal Code        int64\n",
       "Region            object\n",
       "Product ID        object\n",
       "Category          object\n",
       "Sub-Category      object\n",
       "Product Name      object\n",
       "Sales            float64\n",
       "Quantity           int64\n",
       "Discount         float64\n",
       "Profit           float64\n",
       "dtype: object"
      ]
     },
     "execution_count": 9,
     "metadata": {},
     "output_type": "execute_result"
    }
   ],
   "source": [
    "df.dtypes"
   ]
  },
  {
   "cell_type": "code",
   "execution_count": 10,
   "id": "1110811d",
   "metadata": {
    "execution": {
     "iopub.execute_input": "2023-05-09T14:26:47.048201Z",
     "iopub.status.busy": "2023-05-09T14:26:47.047809Z",
     "iopub.status.idle": "2023-05-09T14:26:47.053889Z",
     "shell.execute_reply": "2023-05-09T14:26:47.052770Z"
    },
    "papermill": {
     "duration": 0.026358,
     "end_time": "2023-05-09T14:26:47.055908",
     "exception": false,
     "start_time": "2023-05-09T14:26:47.029550",
     "status": "completed"
    },
    "tags": []
   },
   "outputs": [],
   "source": [
    "df[\"Revenue\"]=df[\"Sales\"]-df[\"Profit\"]"
   ]
  },
  {
   "cell_type": "code",
   "execution_count": 11,
   "id": "0f31ef6e",
   "metadata": {
    "execution": {
     "iopub.execute_input": "2023-05-09T14:26:47.091648Z",
     "iopub.status.busy": "2023-05-09T14:26:47.091231Z",
     "iopub.status.idle": "2023-05-09T14:26:47.112699Z",
     "shell.execute_reply": "2023-05-09T14:26:47.111547Z"
    },
    "papermill": {
     "duration": 0.042093,
     "end_time": "2023-05-09T14:26:47.114985",
     "exception": false,
     "start_time": "2023-05-09T14:26:47.072892",
     "status": "completed"
    },
    "tags": []
   },
   "outputs": [
    {
     "data": {
      "text/html": [
       "<div>\n",
       "<style scoped>\n",
       "    .dataframe tbody tr th:only-of-type {\n",
       "        vertical-align: middle;\n",
       "    }\n",
       "\n",
       "    .dataframe tbody tr th {\n",
       "        vertical-align: top;\n",
       "    }\n",
       "\n",
       "    .dataframe thead th {\n",
       "        text-align: right;\n",
       "    }\n",
       "</style>\n",
       "<table border=\"1\" class=\"dataframe\">\n",
       "  <thead>\n",
       "    <tr style=\"text-align: right;\">\n",
       "      <th></th>\n",
       "      <th>Row ID</th>\n",
       "      <th>Order ID</th>\n",
       "      <th>Order Date</th>\n",
       "      <th>Ship Date</th>\n",
       "      <th>Ship Mode</th>\n",
       "      <th>Customer ID</th>\n",
       "      <th>Customer Name</th>\n",
       "      <th>Segment</th>\n",
       "      <th>Country</th>\n",
       "      <th>City</th>\n",
       "      <th>...</th>\n",
       "      <th>Region</th>\n",
       "      <th>Product ID</th>\n",
       "      <th>Category</th>\n",
       "      <th>Sub-Category</th>\n",
       "      <th>Product Name</th>\n",
       "      <th>Sales</th>\n",
       "      <th>Quantity</th>\n",
       "      <th>Discount</th>\n",
       "      <th>Profit</th>\n",
       "      <th>Revenue</th>\n",
       "    </tr>\n",
       "  </thead>\n",
       "  <tbody>\n",
       "    <tr>\n",
       "      <th>0</th>\n",
       "      <td>1</td>\n",
       "      <td>CA-2016-152156</td>\n",
       "      <td>11/8/2016</td>\n",
       "      <td>11/11/2016</td>\n",
       "      <td>Second Class</td>\n",
       "      <td>CG-12520</td>\n",
       "      <td>Claire Gute</td>\n",
       "      <td>Consumer</td>\n",
       "      <td>United States</td>\n",
       "      <td>Henderson</td>\n",
       "      <td>...</td>\n",
       "      <td>South</td>\n",
       "      <td>FUR-BO-10001798</td>\n",
       "      <td>Furniture</td>\n",
       "      <td>Bookcases</td>\n",
       "      <td>Bush Somerset Collection Bookcase</td>\n",
       "      <td>261.96</td>\n",
       "      <td>2</td>\n",
       "      <td>0.0</td>\n",
       "      <td>41.9136</td>\n",
       "      <td>220.0464</td>\n",
       "    </tr>\n",
       "    <tr>\n",
       "      <th>1</th>\n",
       "      <td>2</td>\n",
       "      <td>CA-2016-152156</td>\n",
       "      <td>11/8/2016</td>\n",
       "      <td>11/11/2016</td>\n",
       "      <td>Second Class</td>\n",
       "      <td>CG-12520</td>\n",
       "      <td>Claire Gute</td>\n",
       "      <td>Consumer</td>\n",
       "      <td>United States</td>\n",
       "      <td>Henderson</td>\n",
       "      <td>...</td>\n",
       "      <td>South</td>\n",
       "      <td>FUR-CH-10000454</td>\n",
       "      <td>Furniture</td>\n",
       "      <td>Chairs</td>\n",
       "      <td>Hon Deluxe Fabric Upholstered Stacking Chairs,...</td>\n",
       "      <td>731.94</td>\n",
       "      <td>3</td>\n",
       "      <td>0.0</td>\n",
       "      <td>219.5820</td>\n",
       "      <td>512.3580</td>\n",
       "    </tr>\n",
       "  </tbody>\n",
       "</table>\n",
       "<p>2 rows × 22 columns</p>\n",
       "</div>"
      ],
      "text/plain": [
       "   Row ID        Order ID Order Date   Ship Date     Ship Mode Customer ID  \\\n",
       "0       1  CA-2016-152156  11/8/2016  11/11/2016  Second Class    CG-12520   \n",
       "1       2  CA-2016-152156  11/8/2016  11/11/2016  Second Class    CG-12520   \n",
       "\n",
       "  Customer Name   Segment        Country       City  ... Region  \\\n",
       "0   Claire Gute  Consumer  United States  Henderson  ...  South   \n",
       "1   Claire Gute  Consumer  United States  Henderson  ...  South   \n",
       "\n",
       "        Product ID   Category Sub-Category  \\\n",
       "0  FUR-BO-10001798  Furniture    Bookcases   \n",
       "1  FUR-CH-10000454  Furniture       Chairs   \n",
       "\n",
       "                                        Product Name   Sales Quantity  \\\n",
       "0                  Bush Somerset Collection Bookcase  261.96        2   \n",
       "1  Hon Deluxe Fabric Upholstered Stacking Chairs,...  731.94        3   \n",
       "\n",
       "   Discount    Profit   Revenue  \n",
       "0       0.0   41.9136  220.0464  \n",
       "1       0.0  219.5820  512.3580  \n",
       "\n",
       "[2 rows x 22 columns]"
      ]
     },
     "execution_count": 11,
     "metadata": {},
     "output_type": "execute_result"
    }
   ],
   "source": [
    "df.head(2)"
   ]
  },
  {
   "cell_type": "markdown",
   "id": "19e5fd71",
   "metadata": {
    "papermill": {
     "duration": 0.018173,
     "end_time": "2023-05-09T14:26:47.150562",
     "exception": false,
     "start_time": "2023-05-09T14:26:47.132389",
     "status": "completed"
    },
    "tags": []
   },
   "source": [
    "# ****Data Cleaing****\n"
   ]
  },
  {
   "cell_type": "code",
   "execution_count": 12,
   "id": "f7c71bd8",
   "metadata": {
    "execution": {
     "iopub.execute_input": "2023-05-09T14:26:47.186985Z",
     "iopub.status.busy": "2023-05-09T14:26:47.186381Z",
     "iopub.status.idle": "2023-05-09T14:26:47.216955Z",
     "shell.execute_reply": "2023-05-09T14:26:47.215824Z"
    },
    "papermill": {
     "duration": 0.051443,
     "end_time": "2023-05-09T14:26:47.219137",
     "exception": false,
     "start_time": "2023-05-09T14:26:47.167694",
     "status": "completed"
    },
    "tags": []
   },
   "outputs": [
    {
     "data": {
      "text/plain": [
       "Row ID           0\n",
       "Order ID         0\n",
       "Order Date       0\n",
       "Ship Date        0\n",
       "Ship Mode        0\n",
       "Customer ID      0\n",
       "Customer Name    0\n",
       "Segment          0\n",
       "Country          0\n",
       "City             0\n",
       "State            0\n",
       "Postal Code      0\n",
       "Region           0\n",
       "Product ID       0\n",
       "Category         0\n",
       "Sub-Category     0\n",
       "Product Name     0\n",
       "Sales            0\n",
       "Quantity         0\n",
       "Discount         0\n",
       "Profit           0\n",
       "Revenue          0\n",
       "dtype: int64"
      ]
     },
     "execution_count": 12,
     "metadata": {},
     "output_type": "execute_result"
    }
   ],
   "source": [
    "df.isnull().sum()"
   ]
  },
  {
   "cell_type": "code",
   "execution_count": 13,
   "id": "1f33d964",
   "metadata": {
    "execution": {
     "iopub.execute_input": "2023-05-09T14:26:47.255594Z",
     "iopub.status.busy": "2023-05-09T14:26:47.255193Z",
     "iopub.status.idle": "2023-05-09T14:26:47.262620Z",
     "shell.execute_reply": "2023-05-09T14:26:47.261394Z"
    },
    "papermill": {
     "duration": 0.028503,
     "end_time": "2023-05-09T14:26:47.264922",
     "exception": false,
     "start_time": "2023-05-09T14:26:47.236419",
     "status": "completed"
    },
    "tags": []
   },
   "outputs": [],
   "source": [
    "df.drop(\"Row ID\",axis=1,inplace=True)"
   ]
  },
  {
   "cell_type": "code",
   "execution_count": 14,
   "id": "b950d066",
   "metadata": {
    "execution": {
     "iopub.execute_input": "2023-05-09T14:26:47.302818Z",
     "iopub.status.busy": "2023-05-09T14:26:47.302422Z",
     "iopub.status.idle": "2023-05-09T14:26:47.308203Z",
     "shell.execute_reply": "2023-05-09T14:26:47.307245Z"
    },
    "papermill": {
     "duration": 0.026876,
     "end_time": "2023-05-09T14:26:47.310469",
     "exception": false,
     "start_time": "2023-05-09T14:26:47.283593",
     "status": "completed"
    },
    "tags": []
   },
   "outputs": [],
   "source": [
    "df.set_index(\"Order ID\",inplace=True)"
   ]
  },
  {
   "cell_type": "code",
   "execution_count": 15,
   "id": "be4c656d",
   "metadata": {
    "execution": {
     "iopub.execute_input": "2023-05-09T14:26:47.347811Z",
     "iopub.status.busy": "2023-05-09T14:26:47.347193Z",
     "iopub.status.idle": "2023-05-09T14:26:47.366037Z",
     "shell.execute_reply": "2023-05-09T14:26:47.364649Z"
    },
    "papermill": {
     "duration": 0.040531,
     "end_time": "2023-05-09T14:26:47.368530",
     "exception": false,
     "start_time": "2023-05-09T14:26:47.327999",
     "status": "completed"
    },
    "tags": []
   },
   "outputs": [
    {
     "data": {
      "text/html": [
       "<div>\n",
       "<style scoped>\n",
       "    .dataframe tbody tr th:only-of-type {\n",
       "        vertical-align: middle;\n",
       "    }\n",
       "\n",
       "    .dataframe tbody tr th {\n",
       "        vertical-align: top;\n",
       "    }\n",
       "\n",
       "    .dataframe thead th {\n",
       "        text-align: right;\n",
       "    }\n",
       "</style>\n",
       "<table border=\"1\" class=\"dataframe\">\n",
       "  <thead>\n",
       "    <tr style=\"text-align: right;\">\n",
       "      <th></th>\n",
       "      <th>Order Date</th>\n",
       "      <th>Ship Date</th>\n",
       "      <th>Ship Mode</th>\n",
       "      <th>Customer ID</th>\n",
       "      <th>Customer Name</th>\n",
       "      <th>Segment</th>\n",
       "      <th>Country</th>\n",
       "      <th>City</th>\n",
       "      <th>State</th>\n",
       "      <th>Postal Code</th>\n",
       "      <th>Region</th>\n",
       "      <th>Product ID</th>\n",
       "      <th>Category</th>\n",
       "      <th>Sub-Category</th>\n",
       "      <th>Product Name</th>\n",
       "      <th>Sales</th>\n",
       "      <th>Quantity</th>\n",
       "      <th>Discount</th>\n",
       "      <th>Profit</th>\n",
       "      <th>Revenue</th>\n",
       "    </tr>\n",
       "    <tr>\n",
       "      <th>Order ID</th>\n",
       "      <th></th>\n",
       "      <th></th>\n",
       "      <th></th>\n",
       "      <th></th>\n",
       "      <th></th>\n",
       "      <th></th>\n",
       "      <th></th>\n",
       "      <th></th>\n",
       "      <th></th>\n",
       "      <th></th>\n",
       "      <th></th>\n",
       "      <th></th>\n",
       "      <th></th>\n",
       "      <th></th>\n",
       "      <th></th>\n",
       "      <th></th>\n",
       "      <th></th>\n",
       "      <th></th>\n",
       "      <th></th>\n",
       "      <th></th>\n",
       "    </tr>\n",
       "  </thead>\n",
       "  <tbody>\n",
       "    <tr>\n",
       "      <th>CA-2016-152156</th>\n",
       "      <td>11/8/2016</td>\n",
       "      <td>11/11/2016</td>\n",
       "      <td>Second Class</td>\n",
       "      <td>CG-12520</td>\n",
       "      <td>Claire Gute</td>\n",
       "      <td>Consumer</td>\n",
       "      <td>United States</td>\n",
       "      <td>Henderson</td>\n",
       "      <td>Kentucky</td>\n",
       "      <td>42420</td>\n",
       "      <td>South</td>\n",
       "      <td>FUR-BO-10001798</td>\n",
       "      <td>Furniture</td>\n",
       "      <td>Bookcases</td>\n",
       "      <td>Bush Somerset Collection Bookcase</td>\n",
       "      <td>261.96</td>\n",
       "      <td>2</td>\n",
       "      <td>0.0</td>\n",
       "      <td>41.9136</td>\n",
       "      <td>220.0464</td>\n",
       "    </tr>\n",
       "    <tr>\n",
       "      <th>CA-2016-152156</th>\n",
       "      <td>11/8/2016</td>\n",
       "      <td>11/11/2016</td>\n",
       "      <td>Second Class</td>\n",
       "      <td>CG-12520</td>\n",
       "      <td>Claire Gute</td>\n",
       "      <td>Consumer</td>\n",
       "      <td>United States</td>\n",
       "      <td>Henderson</td>\n",
       "      <td>Kentucky</td>\n",
       "      <td>42420</td>\n",
       "      <td>South</td>\n",
       "      <td>FUR-CH-10000454</td>\n",
       "      <td>Furniture</td>\n",
       "      <td>Chairs</td>\n",
       "      <td>Hon Deluxe Fabric Upholstered Stacking Chairs,...</td>\n",
       "      <td>731.94</td>\n",
       "      <td>3</td>\n",
       "      <td>0.0</td>\n",
       "      <td>219.5820</td>\n",
       "      <td>512.3580</td>\n",
       "    </tr>\n",
       "  </tbody>\n",
       "</table>\n",
       "</div>"
      ],
      "text/plain": [
       "               Order Date   Ship Date     Ship Mode Customer ID Customer Name  \\\n",
       "Order ID                                                                        \n",
       "CA-2016-152156  11/8/2016  11/11/2016  Second Class    CG-12520   Claire Gute   \n",
       "CA-2016-152156  11/8/2016  11/11/2016  Second Class    CG-12520   Claire Gute   \n",
       "\n",
       "                 Segment        Country       City     State  Postal Code  \\\n",
       "Order ID                                                                    \n",
       "CA-2016-152156  Consumer  United States  Henderson  Kentucky        42420   \n",
       "CA-2016-152156  Consumer  United States  Henderson  Kentucky        42420   \n",
       "\n",
       "               Region       Product ID   Category Sub-Category  \\\n",
       "Order ID                                                         \n",
       "CA-2016-152156  South  FUR-BO-10001798  Furniture    Bookcases   \n",
       "CA-2016-152156  South  FUR-CH-10000454  Furniture       Chairs   \n",
       "\n",
       "                                                     Product Name   Sales  \\\n",
       "Order ID                                                                    \n",
       "CA-2016-152156                  Bush Somerset Collection Bookcase  261.96   \n",
       "CA-2016-152156  Hon Deluxe Fabric Upholstered Stacking Chairs,...  731.94   \n",
       "\n",
       "                Quantity  Discount    Profit   Revenue  \n",
       "Order ID                                                \n",
       "CA-2016-152156         2       0.0   41.9136  220.0464  \n",
       "CA-2016-152156         3       0.0  219.5820  512.3580  "
      ]
     },
     "execution_count": 15,
     "metadata": {},
     "output_type": "execute_result"
    }
   ],
   "source": [
    "df.head(2)"
   ]
  },
  {
   "cell_type": "markdown",
   "id": "823f1513",
   "metadata": {
    "papermill": {
     "duration": 0.017299,
     "end_time": "2023-05-09T14:26:47.403843",
     "exception": false,
     "start_time": "2023-05-09T14:26:47.386544",
     "status": "completed"
    },
    "tags": []
   },
   "source": [
    "**Change Data type to date time and postal code to object**"
   ]
  },
  {
   "cell_type": "code",
   "execution_count": 16,
   "id": "201187aa",
   "metadata": {
    "execution": {
     "iopub.execute_input": "2023-05-09T14:26:47.441081Z",
     "iopub.status.busy": "2023-05-09T14:26:47.440698Z",
     "iopub.status.idle": "2023-05-09T14:26:47.447591Z",
     "shell.execute_reply": "2023-05-09T14:26:47.446476Z"
    },
    "papermill": {
     "duration": 0.028294,
     "end_time": "2023-05-09T14:26:47.449789",
     "exception": false,
     "start_time": "2023-05-09T14:26:47.421495",
     "status": "completed"
    },
    "tags": []
   },
   "outputs": [
    {
     "data": {
      "text/plain": [
       "Index(['Order Date', 'Ship Date', 'Ship Mode', 'Customer ID', 'Customer Name',\n",
       "       'Segment', 'Country', 'City', 'State', 'Postal Code', 'Region',\n",
       "       'Product ID', 'Category', 'Sub-Category', 'Product Name', 'Sales',\n",
       "       'Quantity', 'Discount', 'Profit', 'Revenue'],\n",
       "      dtype='object')"
      ]
     },
     "execution_count": 16,
     "metadata": {},
     "output_type": "execute_result"
    }
   ],
   "source": [
    "df.columns"
   ]
  },
  {
   "cell_type": "code",
   "execution_count": 17,
   "id": "860e31e9",
   "metadata": {
    "execution": {
     "iopub.execute_input": "2023-05-09T14:26:47.489346Z",
     "iopub.status.busy": "2023-05-09T14:26:47.488542Z",
     "iopub.status.idle": "2023-05-09T14:26:47.512519Z",
     "shell.execute_reply": "2023-05-09T14:26:47.511314Z"
    },
    "papermill": {
     "duration": 0.046903,
     "end_time": "2023-05-09T14:26:47.515157",
     "exception": false,
     "start_time": "2023-05-09T14:26:47.468254",
     "status": "completed"
    },
    "tags": []
   },
   "outputs": [],
   "source": [
    "df[[\"Order Date\",\"Ship Date\"]]=df[[\"Order Date\",\"Ship Date\"]].apply(pd.to_datetime)\n",
    "\n",
    "df[\"Postal Code\"]=df[\"Postal Code\"].astype(\"object\")"
   ]
  },
  {
   "cell_type": "code",
   "execution_count": 18,
   "id": "911fb9a3",
   "metadata": {
    "execution": {
     "iopub.execute_input": "2023-05-09T14:26:47.553870Z",
     "iopub.status.busy": "2023-05-09T14:26:47.553471Z",
     "iopub.status.idle": "2023-05-09T14:26:47.575836Z",
     "shell.execute_reply": "2023-05-09T14:26:47.574519Z"
    },
    "papermill": {
     "duration": 0.04483,
     "end_time": "2023-05-09T14:26:47.578528",
     "exception": false,
     "start_time": "2023-05-09T14:26:47.533698",
     "status": "completed"
    },
    "tags": []
   },
   "outputs": [
    {
     "data": {
      "text/html": [
       "<div>\n",
       "<style scoped>\n",
       "    .dataframe tbody tr th:only-of-type {\n",
       "        vertical-align: middle;\n",
       "    }\n",
       "\n",
       "    .dataframe tbody tr th {\n",
       "        vertical-align: top;\n",
       "    }\n",
       "\n",
       "    .dataframe thead th {\n",
       "        text-align: right;\n",
       "    }\n",
       "</style>\n",
       "<table border=\"1\" class=\"dataframe\">\n",
       "  <thead>\n",
       "    <tr style=\"text-align: right;\">\n",
       "      <th></th>\n",
       "      <th>Order Date</th>\n",
       "      <th>Ship Date</th>\n",
       "      <th>Ship Mode</th>\n",
       "      <th>Customer ID</th>\n",
       "      <th>Customer Name</th>\n",
       "      <th>Segment</th>\n",
       "      <th>Country</th>\n",
       "      <th>City</th>\n",
       "      <th>State</th>\n",
       "      <th>Postal Code</th>\n",
       "      <th>Region</th>\n",
       "      <th>Product ID</th>\n",
       "      <th>Category</th>\n",
       "      <th>Sub-Category</th>\n",
       "      <th>Product Name</th>\n",
       "      <th>Sales</th>\n",
       "      <th>Quantity</th>\n",
       "      <th>Discount</th>\n",
       "      <th>Profit</th>\n",
       "      <th>Revenue</th>\n",
       "    </tr>\n",
       "    <tr>\n",
       "      <th>Order ID</th>\n",
       "      <th></th>\n",
       "      <th></th>\n",
       "      <th></th>\n",
       "      <th></th>\n",
       "      <th></th>\n",
       "      <th></th>\n",
       "      <th></th>\n",
       "      <th></th>\n",
       "      <th></th>\n",
       "      <th></th>\n",
       "      <th></th>\n",
       "      <th></th>\n",
       "      <th></th>\n",
       "      <th></th>\n",
       "      <th></th>\n",
       "      <th></th>\n",
       "      <th></th>\n",
       "      <th></th>\n",
       "      <th></th>\n",
       "      <th></th>\n",
       "    </tr>\n",
       "  </thead>\n",
       "  <tbody>\n",
       "    <tr>\n",
       "      <th>CA-2016-152156</th>\n",
       "      <td>2016-11-08</td>\n",
       "      <td>2016-11-11</td>\n",
       "      <td>Second Class</td>\n",
       "      <td>CG-12520</td>\n",
       "      <td>Claire Gute</td>\n",
       "      <td>Consumer</td>\n",
       "      <td>United States</td>\n",
       "      <td>Henderson</td>\n",
       "      <td>Kentucky</td>\n",
       "      <td>42420</td>\n",
       "      <td>South</td>\n",
       "      <td>FUR-BO-10001798</td>\n",
       "      <td>Furniture</td>\n",
       "      <td>Bookcases</td>\n",
       "      <td>Bush Somerset Collection Bookcase</td>\n",
       "      <td>261.96</td>\n",
       "      <td>2</td>\n",
       "      <td>0.0</td>\n",
       "      <td>41.9136</td>\n",
       "      <td>220.0464</td>\n",
       "    </tr>\n",
       "    <tr>\n",
       "      <th>CA-2016-152156</th>\n",
       "      <td>2016-11-08</td>\n",
       "      <td>2016-11-11</td>\n",
       "      <td>Second Class</td>\n",
       "      <td>CG-12520</td>\n",
       "      <td>Claire Gute</td>\n",
       "      <td>Consumer</td>\n",
       "      <td>United States</td>\n",
       "      <td>Henderson</td>\n",
       "      <td>Kentucky</td>\n",
       "      <td>42420</td>\n",
       "      <td>South</td>\n",
       "      <td>FUR-CH-10000454</td>\n",
       "      <td>Furniture</td>\n",
       "      <td>Chairs</td>\n",
       "      <td>Hon Deluxe Fabric Upholstered Stacking Chairs,...</td>\n",
       "      <td>731.94</td>\n",
       "      <td>3</td>\n",
       "      <td>0.0</td>\n",
       "      <td>219.5820</td>\n",
       "      <td>512.3580</td>\n",
       "    </tr>\n",
       "  </tbody>\n",
       "</table>\n",
       "</div>"
      ],
      "text/plain": [
       "               Order Date  Ship Date     Ship Mode Customer ID Customer Name  \\\n",
       "Order ID                                                                       \n",
       "CA-2016-152156 2016-11-08 2016-11-11  Second Class    CG-12520   Claire Gute   \n",
       "CA-2016-152156 2016-11-08 2016-11-11  Second Class    CG-12520   Claire Gute   \n",
       "\n",
       "                 Segment        Country       City     State Postal Code  \\\n",
       "Order ID                                                                   \n",
       "CA-2016-152156  Consumer  United States  Henderson  Kentucky       42420   \n",
       "CA-2016-152156  Consumer  United States  Henderson  Kentucky       42420   \n",
       "\n",
       "               Region       Product ID   Category Sub-Category  \\\n",
       "Order ID                                                         \n",
       "CA-2016-152156  South  FUR-BO-10001798  Furniture    Bookcases   \n",
       "CA-2016-152156  South  FUR-CH-10000454  Furniture       Chairs   \n",
       "\n",
       "                                                     Product Name   Sales  \\\n",
       "Order ID                                                                    \n",
       "CA-2016-152156                  Bush Somerset Collection Bookcase  261.96   \n",
       "CA-2016-152156  Hon Deluxe Fabric Upholstered Stacking Chairs,...  731.94   \n",
       "\n",
       "                Quantity  Discount    Profit   Revenue  \n",
       "Order ID                                                \n",
       "CA-2016-152156         2       0.0   41.9136  220.0464  \n",
       "CA-2016-152156         3       0.0  219.5820  512.3580  "
      ]
     },
     "execution_count": 18,
     "metadata": {},
     "output_type": "execute_result"
    }
   ],
   "source": [
    "df.head(2)"
   ]
  },
  {
   "cell_type": "code",
   "execution_count": 19,
   "id": "e47eb1b4",
   "metadata": {
    "execution": {
     "iopub.execute_input": "2023-05-09T14:26:47.618063Z",
     "iopub.status.busy": "2023-05-09T14:26:47.617688Z",
     "iopub.status.idle": "2023-05-09T14:26:47.626118Z",
     "shell.execute_reply": "2023-05-09T14:26:47.625245Z"
    },
    "papermill": {
     "duration": 0.030766,
     "end_time": "2023-05-09T14:26:47.628107",
     "exception": false,
     "start_time": "2023-05-09T14:26:47.597341",
     "status": "completed"
    },
    "tags": []
   },
   "outputs": [
    {
     "data": {
      "text/plain": [
       "Order Date       datetime64[ns]\n",
       "Ship Date        datetime64[ns]\n",
       "Ship Mode                object\n",
       "Customer ID              object\n",
       "Customer Name            object\n",
       "Segment                  object\n",
       "Country                  object\n",
       "City                     object\n",
       "State                    object\n",
       "Postal Code              object\n",
       "Region                   object\n",
       "Product ID               object\n",
       "Category                 object\n",
       "Sub-Category             object\n",
       "Product Name             object\n",
       "Sales                   float64\n",
       "Quantity                  int64\n",
       "Discount                float64\n",
       "Profit                  float64\n",
       "Revenue                 float64\n",
       "dtype: object"
      ]
     },
     "execution_count": 19,
     "metadata": {},
     "output_type": "execute_result"
    }
   ],
   "source": [
    "df.dtypes"
   ]
  },
  {
   "cell_type": "markdown",
   "id": "03fe1710",
   "metadata": {
    "papermill": {
     "duration": 0.019042,
     "end_time": "2023-05-09T14:26:47.665197",
     "exception": false,
     "start_time": "2023-05-09T14:26:47.646155",
     "status": "completed"
    },
    "tags": []
   },
   "source": [
    "# Which are the top 10 selling products?"
   ]
  },
  {
   "cell_type": "code",
   "execution_count": 20,
   "id": "692a2453",
   "metadata": {
    "execution": {
     "iopub.execute_input": "2023-05-09T14:26:47.704813Z",
     "iopub.status.busy": "2023-05-09T14:26:47.704347Z",
     "iopub.status.idle": "2023-05-09T14:26:47.719896Z",
     "shell.execute_reply": "2023-05-09T14:26:47.718726Z"
    },
    "papermill": {
     "duration": 0.03848,
     "end_time": "2023-05-09T14:26:47.722332",
     "exception": false,
     "start_time": "2023-05-09T14:26:47.683852",
     "status": "completed"
    },
    "tags": []
   },
   "outputs": [
    {
     "data": {
      "text/html": [
       "<div>\n",
       "<style scoped>\n",
       "    .dataframe tbody tr th:only-of-type {\n",
       "        vertical-align: middle;\n",
       "    }\n",
       "\n",
       "    .dataframe tbody tr th {\n",
       "        vertical-align: top;\n",
       "    }\n",
       "\n",
       "    .dataframe thead th {\n",
       "        text-align: right;\n",
       "    }\n",
       "</style>\n",
       "<table border=\"1\" class=\"dataframe\">\n",
       "  <thead>\n",
       "    <tr style=\"text-align: right;\">\n",
       "      <th></th>\n",
       "      <th>Quantity</th>\n",
       "    </tr>\n",
       "    <tr>\n",
       "      <th>Product Name</th>\n",
       "      <th></th>\n",
       "    </tr>\n",
       "  </thead>\n",
       "  <tbody>\n",
       "    <tr>\n",
       "      <th>Staples</th>\n",
       "      <td>215</td>\n",
       "    </tr>\n",
       "    <tr>\n",
       "      <th>Staple envelope</th>\n",
       "      <td>170</td>\n",
       "    </tr>\n",
       "    <tr>\n",
       "      <th>Easy-staple paper</th>\n",
       "      <td>150</td>\n",
       "    </tr>\n",
       "    <tr>\n",
       "      <th>Staples in misc. colors</th>\n",
       "      <td>86</td>\n",
       "    </tr>\n",
       "    <tr>\n",
       "      <th>KI Adjustable-Height Table</th>\n",
       "      <td>74</td>\n",
       "    </tr>\n",
       "    <tr>\n",
       "      <th>Avery Non-Stick Binders</th>\n",
       "      <td>71</td>\n",
       "    </tr>\n",
       "    <tr>\n",
       "      <th>Storex Dura Pro Binders</th>\n",
       "      <td>71</td>\n",
       "    </tr>\n",
       "    <tr>\n",
       "      <th>GBC Premium Transparent Covers with Diagonal Lined Pattern</th>\n",
       "      <td>67</td>\n",
       "    </tr>\n",
       "    <tr>\n",
       "      <th>Situations Contoured Folding Chairs, 4/Set</th>\n",
       "      <td>64</td>\n",
       "    </tr>\n",
       "    <tr>\n",
       "      <th>Staple-based wall hangings</th>\n",
       "      <td>62</td>\n",
       "    </tr>\n",
       "  </tbody>\n",
       "</table>\n",
       "</div>"
      ],
      "text/plain": [
       "                                                    Quantity\n",
       "Product Name                                                \n",
       "Staples                                                  215\n",
       "Staple envelope                                          170\n",
       "Easy-staple paper                                        150\n",
       "Staples in misc. colors                                   86\n",
       "KI Adjustable-Height Table                                74\n",
       "Avery Non-Stick Binders                                   71\n",
       "Storex Dura Pro Binders                                   71\n",
       "GBC Premium Transparent Covers with Diagonal Li...        67\n",
       "Situations Contoured Folding Chairs, 4/Set                64\n",
       "Staple-based wall hangings                                62"
      ]
     },
     "execution_count": 20,
     "metadata": {},
     "output_type": "execute_result"
    }
   ],
   "source": [
    "sales=df.groupby(\"Product Name\").agg({\"Quantity\":\"sum\"}).sort_values(\"Quantity\",ascending=False)[:10]\n",
    "sales"
   ]
  },
  {
   "cell_type": "code",
   "execution_count": 21,
   "id": "2953ab7b",
   "metadata": {
    "execution": {
     "iopub.execute_input": "2023-05-09T14:26:47.761042Z",
     "iopub.status.busy": "2023-05-09T14:26:47.760683Z",
     "iopub.status.idle": "2023-05-09T14:26:48.181035Z",
     "shell.execute_reply": "2023-05-09T14:26:48.180119Z"
    },
    "papermill": {
     "duration": 0.442898,
     "end_time": "2023-05-09T14:26:48.183546",
     "exception": false,
     "start_time": "2023-05-09T14:26:47.740648",
     "status": "completed"
    },
    "tags": []
   },
   "outputs": [
    {
     "data": {
      "text/plain": [
       "(array([0, 1, 2, 3, 4, 5, 6, 7, 8, 9]),\n",
       " [Text(0, 0, 'Staples'),\n",
       "  Text(1, 0, 'Staple envelope'),\n",
       "  Text(2, 0, 'Easy-staple paper'),\n",
       "  Text(3, 0, 'Staples in misc. colors'),\n",
       "  Text(4, 0, 'KI Adjustable-Height Table'),\n",
       "  Text(5, 0, 'Avery Non-Stick Binders'),\n",
       "  Text(6, 0, 'Storex Dura Pro Binders'),\n",
       "  Text(7, 0, 'GBC Premium Transparent Covers with Diagonal Lined Pattern'),\n",
       "  Text(8, 0, 'Situations Contoured Folding Chairs, 4/Set'),\n",
       "  Text(9, 0, 'Staple-based wall hangings')])"
      ]
     },
     "execution_count": 21,
     "metadata": {},
     "output_type": "execute_result"
    },
    {
     "data": {
      "image/png": "[encoded data removed]",
      "text/plain": [
       "<Figure size 640x480 with 1 Axes>"
      ]
     },
     "metadata": {},
     "output_type": "display_data"
    }
   ],
   "source": [
    "ax=sns.barplot(x=\"Product Name\",y=\"Quantity\",data=sales.reset_index())\n",
    "\n",
    "for container in ax.containers:\n",
    "    ax.bar_label(container,color='black',size=10)\n",
    "plt.xticks(rotation=\"vertical\")"
   ]
  },
  {
   "cell_type": "markdown",
   "id": "48fdfc5a",
   "metadata": {
    "papermill": {
     "duration": 0.019126,
     "end_time": "2023-05-09T14:26:48.222888",
     "exception": false,
     "start_time": "2023-05-09T14:26:48.203762",
     "status": "completed"
    },
    "tags": []
   },
   "source": [
    "# **Which are the Top 10 products by sales?**"
   ]
  },
  {
   "cell_type": "code",
   "execution_count": 22,
   "id": "1810d25a",
   "metadata": {
    "execution": {
     "iopub.execute_input": "2023-05-09T14:26:48.263466Z",
     "iopub.status.busy": "2023-05-09T14:26:48.263032Z",
     "iopub.status.idle": "2023-05-09T14:26:48.278528Z",
     "shell.execute_reply": "2023-05-09T14:26:48.277409Z"
    },
    "papermill": {
     "duration": 0.03872,
     "end_time": "2023-05-09T14:26:48.280933",
     "exception": false,
     "start_time": "2023-05-09T14:26:48.242213",
     "status": "completed"
    },
    "tags": []
   },
   "outputs": [
    {
     "data": {
      "text/html": [
       "<div>\n",
       "<style scoped>\n",
       "    .dataframe tbody tr th:only-of-type {\n",
       "        vertical-align: middle;\n",
       "    }\n",
       "\n",
       "    .dataframe tbody tr th {\n",
       "        vertical-align: top;\n",
       "    }\n",
       "\n",
       "    .dataframe thead th {\n",
       "        text-align: right;\n",
       "    }\n",
       "</style>\n",
       "<table border=\"1\" class=\"dataframe\">\n",
       "  <thead>\n",
       "    <tr style=\"text-align: right;\">\n",
       "      <th></th>\n",
       "      <th>Sales</th>\n",
       "    </tr>\n",
       "    <tr>\n",
       "      <th>Product Name</th>\n",
       "      <th></th>\n",
       "    </tr>\n",
       "  </thead>\n",
       "  <tbody>\n",
       "    <tr>\n",
       "      <th>Canon imageCLASS 2200 Advanced Copier</th>\n",
       "      <td>61599</td>\n",
       "    </tr>\n",
       "    <tr>\n",
       "      <th>Fellowes PB500 Electric Punch Plastic Comb Binding Machine with Manual Bind</th>\n",
       "      <td>27453</td>\n",
       "    </tr>\n",
       "    <tr>\n",
       "      <th>Cisco TelePresence System EX90 Videoconferencing Unit</th>\n",
       "      <td>22638</td>\n",
       "    </tr>\n",
       "    <tr>\n",
       "      <th>HON 5400 Series Task Chairs for Big and Tall</th>\n",
       "      <td>21870</td>\n",
       "    </tr>\n",
       "    <tr>\n",
       "      <th>GBC DocuBind TL300 Electric Binding System</th>\n",
       "      <td>19823</td>\n",
       "    </tr>\n",
       "    <tr>\n",
       "      <th>GBC Ibimaster 500 Manual ProClick Binding System</th>\n",
       "      <td>19024</td>\n",
       "    </tr>\n",
       "    <tr>\n",
       "      <th>Hewlett Packard LaserJet 3310 Copier</th>\n",
       "      <td>18839</td>\n",
       "    </tr>\n",
       "    <tr>\n",
       "      <th>HP Designjet T520 Inkjet Large Format Printer - 24\" Color</th>\n",
       "      <td>18374</td>\n",
       "    </tr>\n",
       "    <tr>\n",
       "      <th>GBC DocuBind P400 Electric Binding System</th>\n",
       "      <td>17965</td>\n",
       "    </tr>\n",
       "    <tr>\n",
       "      <th>High Speed Automatic Electric Letter Opener</th>\n",
       "      <td>17030</td>\n",
       "    </tr>\n",
       "  </tbody>\n",
       "</table>\n",
       "</div>"
      ],
      "text/plain": [
       "                                                    Sales\n",
       "Product Name                                             \n",
       "Canon imageCLASS 2200 Advanced Copier               61599\n",
       "Fellowes PB500 Electric Punch Plastic Comb Bind...  27453\n",
       "Cisco TelePresence System EX90 Videoconferencin...  22638\n",
       "HON 5400 Series Task Chairs for Big and Tall        21870\n",
       "GBC DocuBind TL300 Electric Binding System          19823\n",
       "GBC Ibimaster 500 Manual ProClick Binding System    19024\n",
       "Hewlett Packard LaserJet 3310 Copier                18839\n",
       "HP Designjet T520 Inkjet Large Format Printer -...  18374\n",
       "GBC DocuBind P400 Electric Binding System           17965\n",
       "High Speed Automatic Electric Letter Opener         17030"
      ]
     },
     "execution_count": 22,
     "metadata": {},
     "output_type": "execute_result"
    }
   ],
   "source": [
    "sale=df.groupby(\"Product Name\").agg({\"Sales\":\"sum\"}).sort_values(\"Sales\",ascending=False).astype(int)[:10]\n",
    "sale"
   ]
  },
  {
   "cell_type": "code",
   "execution_count": 23,
   "id": "ed6f9025",
   "metadata": {
    "execution": {
     "iopub.execute_input": "2023-05-09T14:26:48.323446Z",
     "iopub.status.busy": "2023-05-09T14:26:48.323021Z",
     "iopub.status.idle": "2023-05-09T14:26:48.756212Z",
     "shell.execute_reply": "2023-05-09T14:26:48.755442Z"
    },
    "papermill": {
     "duration": 0.456704,
     "end_time": "2023-05-09T14:26:48.758470",
     "exception": false,
     "start_time": "2023-05-09T14:26:48.301766",
     "status": "completed"
    },
    "tags": []
   },
   "outputs": [
    {
     "data": {
      "text/plain": [
       "(array([0, 1, 2, 3, 4, 5, 6, 7, 8, 9]),\n",
       " [Text(0, 0, 'Canon imageCLASS 2200 Advanced Copier'),\n",
       "  Text(1, 0, 'Fellowes PB500 Electric Punch Plastic Comb Binding Machine with Manual Bind'),\n",
       "  Text(2, 0, 'Cisco TelePresence System EX90 Videoconferencing Unit'),\n",
       "  Text(3, 0, 'HON 5400 Series Task Chairs for Big and Tall'),\n",
       "  Text(4, 0, 'GBC DocuBind TL300 Electric Binding System'),\n",
       "  Text(5, 0, 'GBC Ibimaster 500 Manual ProClick Binding System'),\n",
       "  Text(6, 0, 'Hewlett Packard LaserJet 3310 Copier'),\n",
       "  Text(7, 0, 'HP Designjet T520 Inkjet Large Format Printer - 24\" Color'),\n",
       "  Text(8, 0, 'GBC DocuBind P400 Electric Binding System'),\n",
       "  Text(9, 0, 'High Speed Automatic Electric Letter Opener')])"
      ]
     },
     "execution_count": 23,
     "metadata": {},
     "output_type": "execute_result"
    },
    {
     "data": {
      "image/png": "[encoded data removed]",
      "text/plain": [
       "<Figure size 640x480 with 1 Axes>"
      ]
     },
     "metadata": {},
     "output_type": "display_data"
    }
   ],
   "source": [
    "ax=sns.barplot(x=\"Product Name\",y=\"Sales\",data=sale.reset_index())\n",
    "\n",
    "for container in ax.containers:\n",
    "    ax.bar_label(container,color='black',size=7)\n",
    "plt.xticks(rotation=\"vertical\")"
   ]
  },
  {
   "cell_type": "markdown",
   "id": "8a903293",
   "metadata": {
    "papermill": {
     "duration": 0.020631,
     "end_time": "2023-05-09T14:26:48.800529",
     "exception": false,
     "start_time": "2023-05-09T14:26:48.779898",
     "status": "completed"
    },
    "tags": []
   },
   "source": [
    "# **Which are the most profitable products?**"
   ]
  },
  {
   "cell_type": "code",
   "execution_count": 24,
   "id": "fe4a3bb9",
   "metadata": {
    "execution": {
     "iopub.execute_input": "2023-05-09T14:26:48.844936Z",
     "iopub.status.busy": "2023-05-09T14:26:48.844526Z",
     "iopub.status.idle": "2023-05-09T14:26:48.860634Z",
     "shell.execute_reply": "2023-05-09T14:26:48.859389Z"
    },
    "papermill": {
     "duration": 0.041533,
     "end_time": "2023-05-09T14:26:48.862873",
     "exception": false,
     "start_time": "2023-05-09T14:26:48.821340",
     "status": "completed"
    },
    "tags": []
   },
   "outputs": [
    {
     "data": {
      "text/html": [
       "<div>\n",
       "<style scoped>\n",
       "    .dataframe tbody tr th:only-of-type {\n",
       "        vertical-align: middle;\n",
       "    }\n",
       "\n",
       "    .dataframe tbody tr th {\n",
       "        vertical-align: top;\n",
       "    }\n",
       "\n",
       "    .dataframe thead th {\n",
       "        text-align: right;\n",
       "    }\n",
       "</style>\n",
       "<table border=\"1\" class=\"dataframe\">\n",
       "  <thead>\n",
       "    <tr style=\"text-align: right;\">\n",
       "      <th></th>\n",
       "      <th>Profit</th>\n",
       "    </tr>\n",
       "    <tr>\n",
       "      <th>Product Name</th>\n",
       "      <th></th>\n",
       "    </tr>\n",
       "  </thead>\n",
       "  <tbody>\n",
       "    <tr>\n",
       "      <th>Canon imageCLASS 2200 Advanced Copier</th>\n",
       "      <td>25199</td>\n",
       "    </tr>\n",
       "    <tr>\n",
       "      <th>Fellowes PB500 Electric Punch Plastic Comb Binding Machine with Manual Bind</th>\n",
       "      <td>7753</td>\n",
       "    </tr>\n",
       "    <tr>\n",
       "      <th>Hewlett Packard LaserJet 3310 Copier</th>\n",
       "      <td>6983</td>\n",
       "    </tr>\n",
       "    <tr>\n",
       "      <th>Canon PC1060 Personal Laser Copier</th>\n",
       "      <td>4570</td>\n",
       "    </tr>\n",
       "    <tr>\n",
       "      <th>HP Designjet T520 Inkjet Large Format Printer - 24\" Color</th>\n",
       "      <td>4094</td>\n",
       "    </tr>\n",
       "    <tr>\n",
       "      <th>Ativa V4110MDD Micro-Cut Shredder</th>\n",
       "      <td>3772</td>\n",
       "    </tr>\n",
       "    <tr>\n",
       "      <th>3D Systems Cube Printer, 2nd Generation, Magenta</th>\n",
       "      <td>3717</td>\n",
       "    </tr>\n",
       "    <tr>\n",
       "      <th>Plantronics Savi W720 Multi-Device Wireless Headset System</th>\n",
       "      <td>3696</td>\n",
       "    </tr>\n",
       "    <tr>\n",
       "      <th>Ibico EPK-21 Electric Binding System</th>\n",
       "      <td>3345</td>\n",
       "    </tr>\n",
       "    <tr>\n",
       "      <th>Zebra ZM400 Thermal Label Printer</th>\n",
       "      <td>3343</td>\n",
       "    </tr>\n",
       "  </tbody>\n",
       "</table>\n",
       "</div>"
      ],
      "text/plain": [
       "                                                    Profit\n",
       "Product Name                                              \n",
       "Canon imageCLASS 2200 Advanced Copier                25199\n",
       "Fellowes PB500 Electric Punch Plastic Comb Bind...    7753\n",
       "Hewlett Packard LaserJet 3310 Copier                  6983\n",
       "Canon PC1060 Personal Laser Copier                    4570\n",
       "HP Designjet T520 Inkjet Large Format Printer -...    4094\n",
       "Ativa V4110MDD Micro-Cut Shredder                     3772\n",
       "3D Systems Cube Printer, 2nd Generation, Magenta      3717\n",
       "Plantronics Savi W720 Multi-Device Wireless Hea...    3696\n",
       "Ibico EPK-21 Electric Binding System                  3345\n",
       "Zebra ZM400 Thermal Label Printer                     3343"
      ]
     },
     "execution_count": 24,
     "metadata": {},
     "output_type": "execute_result"
    }
   ],
   "source": [
    "profitable_products=df.groupby(\"Product Name\").agg({\"Profit\":\"sum\"}).sort_values(\"Profit\",ascending=False).astype(int)[:10]\n",
    "profitable_products"
   ]
  },
  {
   "cell_type": "markdown",
   "id": "b3f0ce89",
   "metadata": {
    "papermill": {
     "duration": 0.021065,
     "end_time": "2023-05-09T14:26:48.905692",
     "exception": false,
     "start_time": "2023-05-09T14:26:48.884627",
     "status": "completed"
    },
    "tags": []
   },
   "source": [
    "# **Which are the most profitable category?**"
   ]
  },
  {
   "cell_type": "code",
   "execution_count": 25,
   "id": "469ceb8c",
   "metadata": {
    "execution": {
     "iopub.execute_input": "2023-05-09T14:26:48.950845Z",
     "iopub.status.busy": "2023-05-09T14:26:48.950195Z",
     "iopub.status.idle": "2023-05-09T14:26:48.962792Z",
     "shell.execute_reply": "2023-05-09T14:26:48.961902Z"
    },
    "papermill": {
     "duration": 0.037898,
     "end_time": "2023-05-09T14:26:48.964888",
     "exception": false,
     "start_time": "2023-05-09T14:26:48.926990",
     "status": "completed"
    },
    "tags": []
   },
   "outputs": [
    {
     "data": {
      "text/html": [
       "<div>\n",
       "<style scoped>\n",
       "    .dataframe tbody tr th:only-of-type {\n",
       "        vertical-align: middle;\n",
       "    }\n",
       "\n",
       "    .dataframe tbody tr th {\n",
       "        vertical-align: top;\n",
       "    }\n",
       "\n",
       "    .dataframe thead th {\n",
       "        text-align: right;\n",
       "    }\n",
       "</style>\n",
       "<table border=\"1\" class=\"dataframe\">\n",
       "  <thead>\n",
       "    <tr style=\"text-align: right;\">\n",
       "      <th></th>\n",
       "      <th>Profit</th>\n",
       "    </tr>\n",
       "    <tr>\n",
       "      <th>Category</th>\n",
       "      <th></th>\n",
       "    </tr>\n",
       "  </thead>\n",
       "  <tbody>\n",
       "    <tr>\n",
       "      <th>Technology</th>\n",
       "      <td>145454.9481</td>\n",
       "    </tr>\n",
       "    <tr>\n",
       "      <th>Office Supplies</th>\n",
       "      <td>122490.8008</td>\n",
       "    </tr>\n",
       "    <tr>\n",
       "      <th>Furniture</th>\n",
       "      <td>18451.2728</td>\n",
       "    </tr>\n",
       "  </tbody>\n",
       "</table>\n",
       "</div>"
      ],
      "text/plain": [
       "                      Profit\n",
       "Category                    \n",
       "Technology       145454.9481\n",
       "Office Supplies  122490.8008\n",
       "Furniture         18451.2728"
      ]
     },
     "execution_count": 25,
     "metadata": {},
     "output_type": "execute_result"
    }
   ],
   "source": [
    "profitable_category=df.groupby(\"Category\").agg({\"Profit\":\"sum\"}).sort_values(\"Profit\",ascending=False)\n",
    "profitable_category"
   ]
  },
  {
   "cell_type": "markdown",
   "id": "eb3f22b6",
   "metadata": {
    "papermill": {
     "duration": 0.022044,
     "end_time": "2023-05-09T14:26:49.010714",
     "exception": false,
     "start_time": "2023-05-09T14:26:48.988670",
     "status": "completed"
    },
    "tags": []
   },
   "source": [
    "# **Which are the most profitable sub-category?**"
   ]
  },
  {
   "cell_type": "code",
   "execution_count": 26,
   "id": "06f77f60",
   "metadata": {
    "execution": {
     "iopub.execute_input": "2023-05-09T14:26:49.055934Z",
     "iopub.status.busy": "2023-05-09T14:26:49.055332Z",
     "iopub.status.idle": "2023-05-09T14:26:49.078352Z",
     "shell.execute_reply": "2023-05-09T14:26:49.077189Z"
    },
    "papermill": {
     "duration": 0.048157,
     "end_time": "2023-05-09T14:26:49.080536",
     "exception": false,
     "start_time": "2023-05-09T14:26:49.032379",
     "status": "completed"
    },
    "tags": []
   },
   "outputs": [
    {
     "data": {
      "text/html": [
       "<div>\n",
       "<style scoped>\n",
       "    .dataframe tbody tr th:only-of-type {\n",
       "        vertical-align: middle;\n",
       "    }\n",
       "\n",
       "    .dataframe tbody tr th {\n",
       "        vertical-align: top;\n",
       "    }\n",
       "\n",
       "    .dataframe thead th {\n",
       "        text-align: right;\n",
       "    }\n",
       "</style>\n",
       "<table border=\"1\" class=\"dataframe\">\n",
       "  <thead>\n",
       "    <tr style=\"text-align: right;\">\n",
       "      <th></th>\n",
       "      <th></th>\n",
       "      <th>Sales</th>\n",
       "      <th>Quantity</th>\n",
       "      <th>Discount</th>\n",
       "      <th>Profit</th>\n",
       "      <th>Revenue</th>\n",
       "    </tr>\n",
       "    <tr>\n",
       "      <th>Category</th>\n",
       "      <th>Sub-Category</th>\n",
       "      <th></th>\n",
       "      <th></th>\n",
       "      <th></th>\n",
       "      <th></th>\n",
       "      <th></th>\n",
       "    </tr>\n",
       "  </thead>\n",
       "  <tbody>\n",
       "    <tr>\n",
       "      <th rowspan=\"4\" valign=\"top\">Furniture</th>\n",
       "      <th>Bookcases</th>\n",
       "      <td>114879.9963</td>\n",
       "      <td>868</td>\n",
       "      <td>48.14</td>\n",
       "      <td>-3472.5560</td>\n",
       "      <td>118352.5523</td>\n",
       "    </tr>\n",
       "    <tr>\n",
       "      <th>Chairs</th>\n",
       "      <td>328449.1030</td>\n",
       "      <td>2356</td>\n",
       "      <td>105.00</td>\n",
       "      <td>26590.1663</td>\n",
       "      <td>301858.9367</td>\n",
       "    </tr>\n",
       "    <tr>\n",
       "      <th>Furnishings</th>\n",
       "      <td>91705.1640</td>\n",
       "      <td>3563</td>\n",
       "      <td>132.40</td>\n",
       "      <td>13059.1436</td>\n",
       "      <td>78646.0204</td>\n",
       "    </tr>\n",
       "    <tr>\n",
       "      <th>Tables</th>\n",
       "      <td>206965.5320</td>\n",
       "      <td>1241</td>\n",
       "      <td>83.35</td>\n",
       "      <td>-17725.4811</td>\n",
       "      <td>224691.0131</td>\n",
       "    </tr>\n",
       "    <tr>\n",
       "      <th rowspan=\"9\" valign=\"top\">Office Supplies</th>\n",
       "      <th>Appliances</th>\n",
       "      <td>107532.1610</td>\n",
       "      <td>1729</td>\n",
       "      <td>77.60</td>\n",
       "      <td>18138.0054</td>\n",
       "      <td>89394.1556</td>\n",
       "    </tr>\n",
       "    <tr>\n",
       "      <th>Art</th>\n",
       "      <td>27118.7920</td>\n",
       "      <td>3000</td>\n",
       "      <td>59.60</td>\n",
       "      <td>6527.7870</td>\n",
       "      <td>20591.0050</td>\n",
       "    </tr>\n",
       "    <tr>\n",
       "      <th>Binders</th>\n",
       "      <td>203412.7330</td>\n",
       "      <td>5974</td>\n",
       "      <td>567.00</td>\n",
       "      <td>30221.7633</td>\n",
       "      <td>173190.9697</td>\n",
       "    </tr>\n",
       "    <tr>\n",
       "      <th>Envelopes</th>\n",
       "      <td>16476.4020</td>\n",
       "      <td>906</td>\n",
       "      <td>20.40</td>\n",
       "      <td>6964.1767</td>\n",
       "      <td>9512.2253</td>\n",
       "    </tr>\n",
       "    <tr>\n",
       "      <th>Fasteners</th>\n",
       "      <td>3024.2800</td>\n",
       "      <td>914</td>\n",
       "      <td>17.80</td>\n",
       "      <td>949.5182</td>\n",
       "      <td>2074.7618</td>\n",
       "    </tr>\n",
       "    <tr>\n",
       "      <th>Labels</th>\n",
       "      <td>12486.3120</td>\n",
       "      <td>1400</td>\n",
       "      <td>25.00</td>\n",
       "      <td>5546.2540</td>\n",
       "      <td>6940.0580</td>\n",
       "    </tr>\n",
       "    <tr>\n",
       "      <th>Paper</th>\n",
       "      <td>78479.2060</td>\n",
       "      <td>5178</td>\n",
       "      <td>102.60</td>\n",
       "      <td>34053.5693</td>\n",
       "      <td>44425.6367</td>\n",
       "    </tr>\n",
       "    <tr>\n",
       "      <th>Storage</th>\n",
       "      <td>223843.6080</td>\n",
       "      <td>3158</td>\n",
       "      <td>63.20</td>\n",
       "      <td>21278.8264</td>\n",
       "      <td>202564.7816</td>\n",
       "    </tr>\n",
       "    <tr>\n",
       "      <th>Supplies</th>\n",
       "      <td>46673.5380</td>\n",
       "      <td>647</td>\n",
       "      <td>14.60</td>\n",
       "      <td>-1189.0995</td>\n",
       "      <td>47862.6375</td>\n",
       "    </tr>\n",
       "    <tr>\n",
       "      <th rowspan=\"4\" valign=\"top\">Technology</th>\n",
       "      <th>Accessories</th>\n",
       "      <td>167380.3180</td>\n",
       "      <td>2976</td>\n",
       "      <td>60.80</td>\n",
       "      <td>41936.6357</td>\n",
       "      <td>125443.6823</td>\n",
       "    </tr>\n",
       "    <tr>\n",
       "      <th>Copiers</th>\n",
       "      <td>149528.0300</td>\n",
       "      <td>234</td>\n",
       "      <td>11.00</td>\n",
       "      <td>55617.8249</td>\n",
       "      <td>93910.2051</td>\n",
       "    </tr>\n",
       "    <tr>\n",
       "      <th>Machines</th>\n",
       "      <td>189238.6310</td>\n",
       "      <td>440</td>\n",
       "      <td>35.20</td>\n",
       "      <td>3384.7569</td>\n",
       "      <td>185853.8741</td>\n",
       "    </tr>\n",
       "    <tr>\n",
       "      <th>Phones</th>\n",
       "      <td>330007.0540</td>\n",
       "      <td>3289</td>\n",
       "      <td>137.40</td>\n",
       "      <td>44515.7306</td>\n",
       "      <td>285491.3234</td>\n",
       "    </tr>\n",
       "  </tbody>\n",
       "</table>\n",
       "</div>"
      ],
      "text/plain": [
       "                                    Sales  Quantity  Discount      Profit  \\\n",
       "Category        Sub-Category                                                \n",
       "Furniture       Bookcases     114879.9963       868     48.14  -3472.5560   \n",
       "                Chairs        328449.1030      2356    105.00  26590.1663   \n",
       "                Furnishings    91705.1640      3563    132.40  13059.1436   \n",
       "                Tables        206965.5320      1241     83.35 -17725.4811   \n",
       "Office Supplies Appliances    107532.1610      1729     77.60  18138.0054   \n",
       "                Art            27118.7920      3000     59.60   6527.7870   \n",
       "                Binders       203412.7330      5974    567.00  30221.7633   \n",
       "                Envelopes      16476.4020       906     20.40   6964.1767   \n",
       "                Fasteners       3024.2800       914     17.80    949.5182   \n",
       "                Labels         12486.3120      1400     25.00   5546.2540   \n",
       "                Paper          78479.2060      5178    102.60  34053.5693   \n",
       "                Storage       223843.6080      3158     63.20  21278.8264   \n",
       "                Supplies       46673.5380       647     14.60  -1189.0995   \n",
       "Technology      Accessories   167380.3180      2976     60.80  41936.6357   \n",
       "                Copiers       149528.0300       234     11.00  55617.8249   \n",
       "                Machines      189238.6310       440     35.20   3384.7569   \n",
       "                Phones        330007.0540      3289    137.40  44515.7306   \n",
       "\n",
       "                                  Revenue  \n",
       "Category        Sub-Category               \n",
       "Furniture       Bookcases     118352.5523  \n",
       "                Chairs        301858.9367  \n",
       "                Furnishings    78646.0204  \n",
       "                Tables        224691.0131  \n",
       "Office Supplies Appliances     89394.1556  \n",
       "                Art            20591.0050  \n",
       "                Binders       173190.9697  \n",
       "                Envelopes       9512.2253  \n",
       "                Fasteners       2074.7618  \n",
       "                Labels          6940.0580  \n",
       "                Paper          44425.6367  \n",
       "                Storage       202564.7816  \n",
       "                Supplies       47862.6375  \n",
       "Technology      Accessories   125443.6823  \n",
       "                Copiers        93910.2051  \n",
       "                Machines      185853.8741  \n",
       "                Phones        285491.3234  "
      ]
     },
     "execution_count": 26,
     "metadata": {},
     "output_type": "execute_result"
    }
   ],
   "source": [
    "profitable_subcategory=df.groupby([\"Category\",\"Sub-Category\"]).sum()\n",
    "profitable_subcategory"
   ]
  },
  {
   "cell_type": "markdown",
   "id": "3eecdca2",
   "metadata": {
    "papermill": {
     "duration": 0.02167,
     "end_time": "2023-05-09T14:26:49.123814",
     "exception": false,
     "start_time": "2023-05-09T14:26:49.102144",
     "status": "completed"
    },
    "tags": []
   },
   "source": [
    "# **Which are the most selling products in subcategory?**"
   ]
  },
  {
   "cell_type": "code",
   "execution_count": 27,
   "id": "d18053e0",
   "metadata": {
    "execution": {
     "iopub.execute_input": "2023-05-09T14:26:49.169752Z",
     "iopub.status.busy": "2023-05-09T14:26:49.169030Z",
     "iopub.status.idle": "2023-05-09T14:26:49.187894Z",
     "shell.execute_reply": "2023-05-09T14:26:49.187032Z"
    },
    "papermill": {
     "duration": 0.04435,
     "end_time": "2023-05-09T14:26:49.189983",
     "exception": false,
     "start_time": "2023-05-09T14:26:49.145633",
     "status": "completed"
    },
    "tags": []
   },
   "outputs": [
    {
     "data": {
      "text/html": [
       "<div>\n",
       "<style scoped>\n",
       "    .dataframe tbody tr th:only-of-type {\n",
       "        vertical-align: middle;\n",
       "    }\n",
       "\n",
       "    .dataframe tbody tr th {\n",
       "        vertical-align: top;\n",
       "    }\n",
       "\n",
       "    .dataframe thead th {\n",
       "        text-align: right;\n",
       "    }\n",
       "</style>\n",
       "<table border=\"1\" class=\"dataframe\">\n",
       "  <thead>\n",
       "    <tr style=\"text-align: right;\">\n",
       "      <th></th>\n",
       "      <th>Category</th>\n",
       "      <th>Sub-Category</th>\n",
       "      <th>Quantity</th>\n",
       "    </tr>\n",
       "  </thead>\n",
       "  <tbody>\n",
       "    <tr>\n",
       "      <th>0</th>\n",
       "      <td>Furniture</td>\n",
       "      <td>Bookcases</td>\n",
       "      <td>228</td>\n",
       "    </tr>\n",
       "    <tr>\n",
       "      <th>1</th>\n",
       "      <td>Furniture</td>\n",
       "      <td>Chairs</td>\n",
       "      <td>617</td>\n",
       "    </tr>\n",
       "    <tr>\n",
       "      <th>2</th>\n",
       "      <td>Furniture</td>\n",
       "      <td>Furnishings</td>\n",
       "      <td>957</td>\n",
       "    </tr>\n",
       "    <tr>\n",
       "      <th>3</th>\n",
       "      <td>Furniture</td>\n",
       "      <td>Tables</td>\n",
       "      <td>319</td>\n",
       "    </tr>\n",
       "    <tr>\n",
       "      <th>4</th>\n",
       "      <td>Office Supplies</td>\n",
       "      <td>Appliances</td>\n",
       "      <td>466</td>\n",
       "    </tr>\n",
       "    <tr>\n",
       "      <th>5</th>\n",
       "      <td>Office Supplies</td>\n",
       "      <td>Art</td>\n",
       "      <td>796</td>\n",
       "    </tr>\n",
       "    <tr>\n",
       "      <th>6</th>\n",
       "      <td>Office Supplies</td>\n",
       "      <td>Binders</td>\n",
       "      <td>1523</td>\n",
       "    </tr>\n",
       "    <tr>\n",
       "      <th>7</th>\n",
       "      <td>Office Supplies</td>\n",
       "      <td>Envelopes</td>\n",
       "      <td>254</td>\n",
       "    </tr>\n",
       "    <tr>\n",
       "      <th>8</th>\n",
       "      <td>Office Supplies</td>\n",
       "      <td>Fasteners</td>\n",
       "      <td>217</td>\n",
       "    </tr>\n",
       "    <tr>\n",
       "      <th>9</th>\n",
       "      <td>Office Supplies</td>\n",
       "      <td>Labels</td>\n",
       "      <td>364</td>\n",
       "    </tr>\n",
       "    <tr>\n",
       "      <th>10</th>\n",
       "      <td>Office Supplies</td>\n",
       "      <td>Paper</td>\n",
       "      <td>1370</td>\n",
       "    </tr>\n",
       "    <tr>\n",
       "      <th>11</th>\n",
       "      <td>Office Supplies</td>\n",
       "      <td>Storage</td>\n",
       "      <td>846</td>\n",
       "    </tr>\n",
       "    <tr>\n",
       "      <th>12</th>\n",
       "      <td>Office Supplies</td>\n",
       "      <td>Supplies</td>\n",
       "      <td>190</td>\n",
       "    </tr>\n",
       "    <tr>\n",
       "      <th>13</th>\n",
       "      <td>Technology</td>\n",
       "      <td>Accessories</td>\n",
       "      <td>775</td>\n",
       "    </tr>\n",
       "    <tr>\n",
       "      <th>14</th>\n",
       "      <td>Technology</td>\n",
       "      <td>Copiers</td>\n",
       "      <td>68</td>\n",
       "    </tr>\n",
       "    <tr>\n",
       "      <th>15</th>\n",
       "      <td>Technology</td>\n",
       "      <td>Machines</td>\n",
       "      <td>115</td>\n",
       "    </tr>\n",
       "    <tr>\n",
       "      <th>16</th>\n",
       "      <td>Technology</td>\n",
       "      <td>Phones</td>\n",
       "      <td>889</td>\n",
       "    </tr>\n",
       "  </tbody>\n",
       "</table>\n",
       "</div>"
      ],
      "text/plain": [
       "           Category Sub-Category  Quantity\n",
       "0         Furniture    Bookcases       228\n",
       "1         Furniture       Chairs       617\n",
       "2         Furniture  Furnishings       957\n",
       "3         Furniture       Tables       319\n",
       "4   Office Supplies   Appliances       466\n",
       "5   Office Supplies          Art       796\n",
       "6   Office Supplies      Binders      1523\n",
       "7   Office Supplies    Envelopes       254\n",
       "8   Office Supplies    Fasteners       217\n",
       "9   Office Supplies       Labels       364\n",
       "10  Office Supplies        Paper      1370\n",
       "11  Office Supplies      Storage       846\n",
       "12  Office Supplies     Supplies       190\n",
       "13       Technology  Accessories       775\n",
       "14       Technology      Copiers        68\n",
       "15       Technology     Machines       115\n",
       "16       Technology       Phones       889"
      ]
     },
     "execution_count": 27,
     "metadata": {},
     "output_type": "execute_result"
    }
   ],
   "source": [
    "most_selling_product=df.groupby([\"Category\",\"Sub-Category\"],as_index=False)[\"Quantity\"].count()\n",
    "most_selling_product"
   ]
  },
  {
   "cell_type": "markdown",
   "id": "ef4e1f6a",
   "metadata": {
    "papermill": {
     "duration": 0.024682,
     "end_time": "2023-05-09T14:26:49.237077",
     "exception": false,
     "start_time": "2023-05-09T14:26:49.212395",
     "status": "completed"
    },
    "tags": []
   },
   "source": [
    "# **Which customer segments are the most profitable ?**"
   ]
  },
  {
   "cell_type": "code",
   "execution_count": 28,
   "id": "ff426b80",
   "metadata": {
    "execution": {
     "iopub.execute_input": "2023-05-09T14:26:49.283245Z",
     "iopub.status.busy": "2023-05-09T14:26:49.282576Z",
     "iopub.status.idle": "2023-05-09T14:26:49.295060Z",
     "shell.execute_reply": "2023-05-09T14:26:49.294167Z"
    },
    "papermill": {
     "duration": 0.038189,
     "end_time": "2023-05-09T14:26:49.297263",
     "exception": false,
     "start_time": "2023-05-09T14:26:49.259074",
     "status": "completed"
    },
    "tags": []
   },
   "outputs": [
    {
     "data": {
      "text/html": [
       "<div>\n",
       "<style scoped>\n",
       "    .dataframe tbody tr th:only-of-type {\n",
       "        vertical-align: middle;\n",
       "    }\n",
       "\n",
       "    .dataframe tbody tr th {\n",
       "        vertical-align: top;\n",
       "    }\n",
       "\n",
       "    .dataframe thead th {\n",
       "        text-align: right;\n",
       "    }\n",
       "</style>\n",
       "<table border=\"1\" class=\"dataframe\">\n",
       "  <thead>\n",
       "    <tr style=\"text-align: right;\">\n",
       "      <th></th>\n",
       "      <th>Profit</th>\n",
       "    </tr>\n",
       "    <tr>\n",
       "      <th>Segment</th>\n",
       "      <th></th>\n",
       "    </tr>\n",
       "  </thead>\n",
       "  <tbody>\n",
       "    <tr>\n",
       "      <th>Consumer</th>\n",
       "      <td>134119.2092</td>\n",
       "    </tr>\n",
       "    <tr>\n",
       "      <th>Corporate</th>\n",
       "      <td>91979.1340</td>\n",
       "    </tr>\n",
       "    <tr>\n",
       "      <th>Home Office</th>\n",
       "      <td>60298.6785</td>\n",
       "    </tr>\n",
       "  </tbody>\n",
       "</table>\n",
       "</div>"
      ],
      "text/plain": [
       "                  Profit\n",
       "Segment                 \n",
       "Consumer     134119.2092\n",
       "Corporate     91979.1340\n",
       "Home Office   60298.6785"
      ]
     },
     "execution_count": 28,
     "metadata": {},
     "output_type": "execute_result"
    }
   ],
   "source": [
    "profitable_cus_segment=df.groupby(\"Segment\").agg({\"Profit\":\"sum\"}).sort_values(by=\"Profit\",ascending=False)\n",
    "profitable_cus_segment"
   ]
  },
  {
   "cell_type": "markdown",
   "id": "f082d423",
   "metadata": {
    "papermill": {
     "duration": 0.022954,
     "end_time": "2023-05-09T14:26:49.343849",
     "exception": false,
     "start_time": "2023-05-09T14:26:49.320895",
     "status": "completed"
    },
    "tags": []
   },
   "source": [
    "# **What shipping modes sold the most products?**"
   ]
  },
  {
   "cell_type": "code",
   "execution_count": 29,
   "id": "6ce632f7",
   "metadata": {
    "execution": {
     "iopub.execute_input": "2023-05-09T14:26:49.390702Z",
     "iopub.status.busy": "2023-05-09T14:26:49.389915Z",
     "iopub.status.idle": "2023-05-09T14:26:49.403352Z",
     "shell.execute_reply": "2023-05-09T14:26:49.402025Z"
    },
    "papermill": {
     "duration": 0.039706,
     "end_time": "2023-05-09T14:26:49.405698",
     "exception": false,
     "start_time": "2023-05-09T14:26:49.365992",
     "status": "completed"
    },
    "tags": []
   },
   "outputs": [
    {
     "data": {
      "text/html": [
       "<div>\n",
       "<style scoped>\n",
       "    .dataframe tbody tr th:only-of-type {\n",
       "        vertical-align: middle;\n",
       "    }\n",
       "\n",
       "    .dataframe tbody tr th {\n",
       "        vertical-align: top;\n",
       "    }\n",
       "\n",
       "    .dataframe thead th {\n",
       "        text-align: right;\n",
       "    }\n",
       "</style>\n",
       "<table border=\"1\" class=\"dataframe\">\n",
       "  <thead>\n",
       "    <tr style=\"text-align: right;\">\n",
       "      <th></th>\n",
       "      <th>Sales</th>\n",
       "    </tr>\n",
       "    <tr>\n",
       "      <th>Ship Mode</th>\n",
       "      <th></th>\n",
       "    </tr>\n",
       "  </thead>\n",
       "  <tbody>\n",
       "    <tr>\n",
       "      <th>Standard Class</th>\n",
       "      <td>5968</td>\n",
       "    </tr>\n",
       "    <tr>\n",
       "      <th>Second Class</th>\n",
       "      <td>1945</td>\n",
       "    </tr>\n",
       "    <tr>\n",
       "      <th>First Class</th>\n",
       "      <td>1538</td>\n",
       "    </tr>\n",
       "    <tr>\n",
       "      <th>Same Day</th>\n",
       "      <td>543</td>\n",
       "    </tr>\n",
       "  </tbody>\n",
       "</table>\n",
       "</div>"
      ],
      "text/plain": [
       "                Sales\n",
       "Ship Mode            \n",
       "Standard Class   5968\n",
       "Second Class     1945\n",
       "First Class      1538\n",
       "Same Day          543"
      ]
     },
     "execution_count": 29,
     "metadata": {},
     "output_type": "execute_result"
    }
   ],
   "source": [
    "shipping_modes=df.groupby(\"Ship Mode\").agg({\"Sales\":\"count\"}).sort_values(by=\"Sales\",ascending=False)\n",
    "shipping_modes"
   ]
  },
  {
   "cell_type": "markdown",
   "id": "5195201d",
   "metadata": {
    "papermill": {
     "duration": 0.022646,
     "end_time": "2023-05-09T14:26:49.450724",
     "exception": false,
     "start_time": "2023-05-09T14:26:49.428078",
     "status": "completed"
    },
    "tags": []
   },
   "source": [
    "# **Which are the Top 10 City by sales?**"
   ]
  },
  {
   "cell_type": "code",
   "execution_count": 30,
   "id": "6cb7a107",
   "metadata": {
    "execution": {
     "iopub.execute_input": "2023-05-09T14:26:49.497912Z",
     "iopub.status.busy": "2023-05-09T14:26:49.496852Z",
     "iopub.status.idle": "2023-05-09T14:26:49.511747Z",
     "shell.execute_reply": "2023-05-09T14:26:49.510659Z"
    },
    "papermill": {
     "duration": 0.041218,
     "end_time": "2023-05-09T14:26:49.514228",
     "exception": false,
     "start_time": "2023-05-09T14:26:49.473010",
     "status": "completed"
    },
    "tags": []
   },
   "outputs": [
    {
     "data": {
      "text/html": [
       "<div>\n",
       "<style scoped>\n",
       "    .dataframe tbody tr th:only-of-type {\n",
       "        vertical-align: middle;\n",
       "    }\n",
       "\n",
       "    .dataframe tbody tr th {\n",
       "        vertical-align: top;\n",
       "    }\n",
       "\n",
       "    .dataframe thead th {\n",
       "        text-align: right;\n",
       "    }\n",
       "</style>\n",
       "<table border=\"1\" class=\"dataframe\">\n",
       "  <thead>\n",
       "    <tr style=\"text-align: right;\">\n",
       "      <th></th>\n",
       "      <th>Sales</th>\n",
       "    </tr>\n",
       "    <tr>\n",
       "      <th>City</th>\n",
       "      <th></th>\n",
       "    </tr>\n",
       "  </thead>\n",
       "  <tbody>\n",
       "    <tr>\n",
       "      <th>New York City</th>\n",
       "      <td>256368.1610</td>\n",
       "    </tr>\n",
       "    <tr>\n",
       "      <th>Los Angeles</th>\n",
       "      <td>175851.3410</td>\n",
       "    </tr>\n",
       "    <tr>\n",
       "      <th>Seattle</th>\n",
       "      <td>119540.7420</td>\n",
       "    </tr>\n",
       "    <tr>\n",
       "      <th>San Francisco</th>\n",
       "      <td>112669.0920</td>\n",
       "    </tr>\n",
       "    <tr>\n",
       "      <th>Philadelphia</th>\n",
       "      <td>109077.0130</td>\n",
       "    </tr>\n",
       "    <tr>\n",
       "      <th>Houston</th>\n",
       "      <td>64504.7604</td>\n",
       "    </tr>\n",
       "    <tr>\n",
       "      <th>Chicago</th>\n",
       "      <td>48539.5410</td>\n",
       "    </tr>\n",
       "    <tr>\n",
       "      <th>San Diego</th>\n",
       "      <td>47521.0290</td>\n",
       "    </tr>\n",
       "    <tr>\n",
       "      <th>Jacksonville</th>\n",
       "      <td>44713.1830</td>\n",
       "    </tr>\n",
       "    <tr>\n",
       "      <th>Springfield</th>\n",
       "      <td>43054.3420</td>\n",
       "    </tr>\n",
       "  </tbody>\n",
       "</table>\n",
       "</div>"
      ],
      "text/plain": [
       "                     Sales\n",
       "City                      \n",
       "New York City  256368.1610\n",
       "Los Angeles    175851.3410\n",
       "Seattle        119540.7420\n",
       "San Francisco  112669.0920\n",
       "Philadelphia   109077.0130\n",
       "Houston         64504.7604\n",
       "Chicago         48539.5410\n",
       "San Diego       47521.0290\n",
       "Jacksonville    44713.1830\n",
       "Springfield     43054.3420"
      ]
     },
     "execution_count": 30,
     "metadata": {},
     "output_type": "execute_result"
    }
   ],
   "source": [
    "sales_country=df.groupby(\"City\").agg({\"Sales\":\"sum\"}).sort_values(\"Sales\",ascending=False)[:10]\n",
    "sales_country"
   ]
  },
  {
   "cell_type": "markdown",
   "id": "f523652e",
   "metadata": {
    "papermill": {
     "duration": 0.022074,
     "end_time": "2023-05-09T14:26:49.559265",
     "exception": false,
     "start_time": "2023-05-09T14:26:49.537191",
     "status": "completed"
    },
    "tags": []
   },
   "source": [
    "# **Create a pie chart with the 10 State that have the most sales**"
   ]
  },
  {
   "cell_type": "code",
   "execution_count": 31,
   "id": "53e6e4a5",
   "metadata": {
    "execution": {
     "iopub.execute_input": "2023-05-09T14:26:49.606589Z",
     "iopub.status.busy": "2023-05-09T14:26:49.605761Z",
     "iopub.status.idle": "2023-05-09T14:26:49.853251Z",
     "shell.execute_reply": "2023-05-09T14:26:49.851477Z"
    },
    "papermill": {
     "duration": 0.276846,
     "end_time": "2023-05-09T14:26:49.858661",
     "exception": false,
     "start_time": "2023-05-09T14:26:49.581815",
     "status": "completed"
    },
    "tags": []
   },
   "outputs": [
    {
     "data": {
      "text/plain": [
       "(-1.25, 1.25, -1.25, 1.25)"
      ]
     },
     "execution_count": 31,
     "metadata": {},
     "output_type": "execute_result"
    },
    {
     "data": {
      "image/png": "[encoded data removed]",
      "text/plain": [
       "<Figure size 640x480 with 1 Axes>"
      ]
     },
     "metadata": {},
     "output_type": "display_data"
    }
   ],
   "source": [
    "state=df.groupby(\"State\").sum()[\"Sales\"].sort_values(ascending=False)[:10]\n",
    "labels=state.index\n",
    "\n",
    "colors = sns.color_palette('bright')[0:5]\n",
    "plt.pie(state,colors=colors,  labels = labels,autopct='%1.1f%%')\n",
    "plt.title('State', fontsize = 20)\n",
    "plt.axis('off')\n"
   ]
  },
  {
   "cell_type": "markdown",
   "id": "36c2675c",
   "metadata": {
    "papermill": {
     "duration": 0.024688,
     "end_time": "2023-05-09T14:26:49.918570",
     "exception": false,
     "start_time": "2023-05-09T14:26:49.893882",
     "status": "completed"
    },
    "tags": []
   },
   "source": [
    " # **Who are the top-10 most profitable customers?**"
   ]
  },
  {
   "cell_type": "code",
   "execution_count": 32,
   "id": "06695ddd",
   "metadata": {
    "execution": {
     "iopub.execute_input": "2023-05-09T14:26:49.970066Z",
     "iopub.status.busy": "2023-05-09T14:26:49.968821Z",
     "iopub.status.idle": "2023-05-09T14:26:49.988004Z",
     "shell.execute_reply": "2023-05-09T14:26:49.987062Z"
    },
    "papermill": {
     "duration": 0.047287,
     "end_time": "2023-05-09T14:26:49.990439",
     "exception": false,
     "start_time": "2023-05-09T14:26:49.943152",
     "status": "completed"
    },
    "tags": []
   },
   "outputs": [
    {
     "data": {
      "text/html": [
       "<div>\n",
       "<style scoped>\n",
       "    .dataframe tbody tr th:only-of-type {\n",
       "        vertical-align: middle;\n",
       "    }\n",
       "\n",
       "    .dataframe tbody tr th {\n",
       "        vertical-align: top;\n",
       "    }\n",
       "\n",
       "    .dataframe thead th {\n",
       "        text-align: right;\n",
       "    }\n",
       "</style>\n",
       "<table border=\"1\" class=\"dataframe\">\n",
       "  <thead>\n",
       "    <tr style=\"text-align: right;\">\n",
       "      <th></th>\n",
       "      <th>Customer ID</th>\n",
       "      <th>Customer Name</th>\n",
       "      <th>Profit</th>\n",
       "    </tr>\n",
       "    <tr>\n",
       "      <th>Order ID</th>\n",
       "      <th></th>\n",
       "      <th></th>\n",
       "      <th></th>\n",
       "    </tr>\n",
       "  </thead>\n",
       "  <tbody>\n",
       "    <tr>\n",
       "      <th>CA-2016-118689</th>\n",
       "      <td>TC-20980</td>\n",
       "      <td>Tamara Chand</td>\n",
       "      <td>8399.9760</td>\n",
       "    </tr>\n",
       "    <tr>\n",
       "      <th>CA-2017-140151</th>\n",
       "      <td>RB-19360</td>\n",
       "      <td>Raymond Buch</td>\n",
       "      <td>6719.9808</td>\n",
       "    </tr>\n",
       "    <tr>\n",
       "      <th>CA-2017-166709</th>\n",
       "      <td>HL-15040</td>\n",
       "      <td>Hunter Lopez</td>\n",
       "      <td>5039.9856</td>\n",
       "    </tr>\n",
       "    <tr>\n",
       "      <th>CA-2016-117121</th>\n",
       "      <td>AB-10105</td>\n",
       "      <td>Adrian Barton</td>\n",
       "      <td>4946.3700</td>\n",
       "    </tr>\n",
       "    <tr>\n",
       "      <th>CA-2014-116904</th>\n",
       "      <td>SC-20095</td>\n",
       "      <td>Sanjit Chand</td>\n",
       "      <td>4630.4755</td>\n",
       "    </tr>\n",
       "    <tr>\n",
       "      <th>CA-2017-127180</th>\n",
       "      <td>TA-21385</td>\n",
       "      <td>Tom Ashbrook</td>\n",
       "      <td>3919.9888</td>\n",
       "    </tr>\n",
       "    <tr>\n",
       "      <th>CA-2015-145352</th>\n",
       "      <td>CM-12385</td>\n",
       "      <td>Christopher Martinez</td>\n",
       "      <td>3177.4750</td>\n",
       "    </tr>\n",
       "    <tr>\n",
       "      <th>CA-2016-158841</th>\n",
       "      <td>SE-20110</td>\n",
       "      <td>Sanjit Engle</td>\n",
       "      <td>2799.9840</td>\n",
       "    </tr>\n",
       "    <tr>\n",
       "      <th>US-2016-140158</th>\n",
       "      <td>DR-12940</td>\n",
       "      <td>Daniel Raglin</td>\n",
       "      <td>2591.9568</td>\n",
       "    </tr>\n",
       "    <tr>\n",
       "      <th>CA-2017-138289</th>\n",
       "      <td>AR-10540</td>\n",
       "      <td>Andy Reiter</td>\n",
       "      <td>2504.2216</td>\n",
       "    </tr>\n",
       "  </tbody>\n",
       "</table>\n",
       "</div>"
      ],
      "text/plain": [
       "               Customer ID         Customer Name     Profit\n",
       "Order ID                                                   \n",
       "CA-2016-118689    TC-20980          Tamara Chand  8399.9760\n",
       "CA-2017-140151    RB-19360          Raymond Buch  6719.9808\n",
       "CA-2017-166709    HL-15040          Hunter Lopez  5039.9856\n",
       "CA-2016-117121    AB-10105         Adrian Barton  4946.3700\n",
       "CA-2014-116904    SC-20095          Sanjit Chand  4630.4755\n",
       "CA-2017-127180    TA-21385          Tom Ashbrook  3919.9888\n",
       "CA-2015-145352    CM-12385  Christopher Martinez  3177.4750\n",
       "CA-2016-158841    SE-20110          Sanjit Engle  2799.9840\n",
       "US-2016-140158    DR-12940         Daniel Raglin  2591.9568\n",
       "CA-2017-138289    AR-10540           Andy Reiter  2504.2216"
      ]
     },
     "execution_count": 32,
     "metadata": {},
     "output_type": "execute_result"
    }
   ],
   "source": [
    "customer=df.sort_values(\"Profit\",ascending=False)[:10][[\"Customer ID\",\"Customer Name\",\"Profit\"]]\n",
    "customer"
   ]
  },
  {
   "cell_type": "markdown",
   "id": "1841a275",
   "metadata": {
    "papermill": {
     "duration": 0.02346,
     "end_time": "2023-05-09T14:26:50.037895",
     "exception": false,
     "start_time": "2023-05-09T14:26:50.014435",
     "status": "completed"
    },
    "tags": []
   },
   "source": [
    "# **Add a new column (Month and Year)**"
   ]
  },
  {
   "cell_type": "code",
   "execution_count": 33,
   "id": "6b36b8af",
   "metadata": {
    "execution": {
     "iopub.execute_input": "2023-05-09T14:26:50.087213Z",
     "iopub.status.busy": "2023-05-09T14:26:50.086836Z",
     "iopub.status.idle": "2023-05-09T14:26:50.113827Z",
     "shell.execute_reply": "2023-05-09T14:26:50.112581Z"
    },
    "papermill": {
     "duration": 0.054234,
     "end_time": "2023-05-09T14:26:50.116271",
     "exception": false,
     "start_time": "2023-05-09T14:26:50.062037",
     "status": "completed"
    },
    "tags": []
   },
   "outputs": [
    {
     "data": {
      "text/html": [
       "<div>\n",
       "<style scoped>\n",
       "    .dataframe tbody tr th:only-of-type {\n",
       "        vertical-align: middle;\n",
       "    }\n",
       "\n",
       "    .dataframe tbody tr th {\n",
       "        vertical-align: top;\n",
       "    }\n",
       "\n",
       "    .dataframe thead th {\n",
       "        text-align: right;\n",
       "    }\n",
       "</style>\n",
       "<table border=\"1\" class=\"dataframe\">\n",
       "  <thead>\n",
       "    <tr style=\"text-align: right;\">\n",
       "      <th></th>\n",
       "      <th>Order Date</th>\n",
       "      <th>Ship Date</th>\n",
       "      <th>Ship Mode</th>\n",
       "      <th>Customer ID</th>\n",
       "      <th>Customer Name</th>\n",
       "      <th>Segment</th>\n",
       "      <th>Country</th>\n",
       "      <th>City</th>\n",
       "      <th>State</th>\n",
       "      <th>Postal Code</th>\n",
       "      <th>...</th>\n",
       "      <th>Category</th>\n",
       "      <th>Sub-Category</th>\n",
       "      <th>Product Name</th>\n",
       "      <th>Sales</th>\n",
       "      <th>Quantity</th>\n",
       "      <th>Discount</th>\n",
       "      <th>Profit</th>\n",
       "      <th>Revenue</th>\n",
       "      <th>month</th>\n",
       "      <th>year</th>\n",
       "    </tr>\n",
       "    <tr>\n",
       "      <th>Order ID</th>\n",
       "      <th></th>\n",
       "      <th></th>\n",
       "      <th></th>\n",
       "      <th></th>\n",
       "      <th></th>\n",
       "      <th></th>\n",
       "      <th></th>\n",
       "      <th></th>\n",
       "      <th></th>\n",
       "      <th></th>\n",
       "      <th></th>\n",
       "      <th></th>\n",
       "      <th></th>\n",
       "      <th></th>\n",
       "      <th></th>\n",
       "      <th></th>\n",
       "      <th></th>\n",
       "      <th></th>\n",
       "      <th></th>\n",
       "      <th></th>\n",
       "      <th></th>\n",
       "    </tr>\n",
       "  </thead>\n",
       "  <tbody>\n",
       "    <tr>\n",
       "      <th>CA-2016-152156</th>\n",
       "      <td>2016-11-08</td>\n",
       "      <td>2016-11-11</td>\n",
       "      <td>Second Class</td>\n",
       "      <td>CG-12520</td>\n",
       "      <td>Claire Gute</td>\n",
       "      <td>Consumer</td>\n",
       "      <td>United States</td>\n",
       "      <td>Henderson</td>\n",
       "      <td>Kentucky</td>\n",
       "      <td>42420</td>\n",
       "      <td>...</td>\n",
       "      <td>Furniture</td>\n",
       "      <td>Bookcases</td>\n",
       "      <td>Bush Somerset Collection Bookcase</td>\n",
       "      <td>261.96</td>\n",
       "      <td>2</td>\n",
       "      <td>0.0</td>\n",
       "      <td>41.9136</td>\n",
       "      <td>220.0464</td>\n",
       "      <td>11</td>\n",
       "      <td>2016</td>\n",
       "    </tr>\n",
       "    <tr>\n",
       "      <th>CA-2016-152156</th>\n",
       "      <td>2016-11-08</td>\n",
       "      <td>2016-11-11</td>\n",
       "      <td>Second Class</td>\n",
       "      <td>CG-12520</td>\n",
       "      <td>Claire Gute</td>\n",
       "      <td>Consumer</td>\n",
       "      <td>United States</td>\n",
       "      <td>Henderson</td>\n",
       "      <td>Kentucky</td>\n",
       "      <td>42420</td>\n",
       "      <td>...</td>\n",
       "      <td>Furniture</td>\n",
       "      <td>Chairs</td>\n",
       "      <td>Hon Deluxe Fabric Upholstered Stacking Chairs,...</td>\n",
       "      <td>731.94</td>\n",
       "      <td>3</td>\n",
       "      <td>0.0</td>\n",
       "      <td>219.5820</td>\n",
       "      <td>512.3580</td>\n",
       "      <td>11</td>\n",
       "      <td>2016</td>\n",
       "    </tr>\n",
       "  </tbody>\n",
       "</table>\n",
       "<p>2 rows × 22 columns</p>\n",
       "</div>"
      ],
      "text/plain": [
       "               Order Date  Ship Date     Ship Mode Customer ID Customer Name  \\\n",
       "Order ID                                                                       \n",
       "CA-2016-152156 2016-11-08 2016-11-11  Second Class    CG-12520   Claire Gute   \n",
       "CA-2016-152156 2016-11-08 2016-11-11  Second Class    CG-12520   Claire Gute   \n",
       "\n",
       "                 Segment        Country       City     State Postal Code  ...  \\\n",
       "Order ID                                                                  ...   \n",
       "CA-2016-152156  Consumer  United States  Henderson  Kentucky       42420  ...   \n",
       "CA-2016-152156  Consumer  United States  Henderson  Kentucky       42420  ...   \n",
       "\n",
       "                 Category Sub-Category  \\\n",
       "Order ID                                 \n",
       "CA-2016-152156  Furniture    Bookcases   \n",
       "CA-2016-152156  Furniture       Chairs   \n",
       "\n",
       "                                                     Product Name   Sales  \\\n",
       "Order ID                                                                    \n",
       "CA-2016-152156                  Bush Somerset Collection Bookcase  261.96   \n",
       "CA-2016-152156  Hon Deluxe Fabric Upholstered Stacking Chairs,...  731.94   \n",
       "\n",
       "               Quantity  Discount    Profit   Revenue  month  year  \n",
       "Order ID                                                            \n",
       "CA-2016-152156        2       0.0   41.9136  220.0464     11  2016  \n",
       "CA-2016-152156        3       0.0  219.5820  512.3580     11  2016  \n",
       "\n",
       "[2 rows x 22 columns]"
      ]
     },
     "execution_count": 33,
     "metadata": {},
     "output_type": "execute_result"
    }
   ],
   "source": [
    "df[\"month\"]=df[\"Order Date\"].dt.month\n",
    "df[\"year\"]=df[\"Order Date\"].dt.year\n",
    "df.head(2)"
   ]
  },
  {
   "cell_type": "markdown",
   "id": "83403a76",
   "metadata": {
    "papermill": {
     "duration": 0.024154,
     "end_time": "2023-05-09T14:26:50.164316",
     "exception": false,
     "start_time": "2023-05-09T14:26:50.140162",
     "status": "completed"
    },
    "tags": []
   },
   "source": [
    "# **Total sales values by year and month**"
   ]
  },
  {
   "cell_type": "code",
   "execution_count": 34,
   "id": "10dc42d1",
   "metadata": {
    "execution": {
     "iopub.execute_input": "2023-05-09T14:26:50.213708Z",
     "iopub.status.busy": "2023-05-09T14:26:50.213321Z",
     "iopub.status.idle": "2023-05-09T14:26:50.241418Z",
     "shell.execute_reply": "2023-05-09T14:26:50.240158Z"
    },
    "papermill": {
     "duration": 0.056063,
     "end_time": "2023-05-09T14:26:50.244072",
     "exception": false,
     "start_time": "2023-05-09T14:26:50.188009",
     "status": "completed"
    },
    "tags": []
   },
   "outputs": [
    {
     "data": {
      "text/html": [
       "<div>\n",
       "<style scoped>\n",
       "    .dataframe tbody tr th:only-of-type {\n",
       "        vertical-align: middle;\n",
       "    }\n",
       "\n",
       "    .dataframe tbody tr th {\n",
       "        vertical-align: top;\n",
       "    }\n",
       "\n",
       "    .dataframe thead th {\n",
       "        text-align: right;\n",
       "    }\n",
       "</style>\n",
       "<table border=\"1\" class=\"dataframe\">\n",
       "  <thead>\n",
       "    <tr style=\"text-align: right;\">\n",
       "      <th></th>\n",
       "      <th></th>\n",
       "      <th>Sales</th>\n",
       "      <th>Quantity</th>\n",
       "      <th>Discount</th>\n",
       "      <th>Profit</th>\n",
       "      <th>Revenue</th>\n",
       "    </tr>\n",
       "    <tr>\n",
       "      <th>year</th>\n",
       "      <th>month</th>\n",
       "      <th></th>\n",
       "      <th></th>\n",
       "      <th></th>\n",
       "      <th></th>\n",
       "      <th></th>\n",
       "    </tr>\n",
       "  </thead>\n",
       "  <tbody>\n",
       "    <tr>\n",
       "      <th rowspan=\"12\" valign=\"top\">2014</th>\n",
       "      <th>1</th>\n",
       "      <td>14236.8950</td>\n",
       "      <td>284</td>\n",
       "      <td>10.00</td>\n",
       "      <td>2450.1907</td>\n",
       "      <td>11786.7043</td>\n",
       "    </tr>\n",
       "    <tr>\n",
       "      <th>2</th>\n",
       "      <td>4519.8920</td>\n",
       "      <td>159</td>\n",
       "      <td>8.10</td>\n",
       "      <td>862.3084</td>\n",
       "      <td>3657.5836</td>\n",
       "    </tr>\n",
       "    <tr>\n",
       "      <th>3</th>\n",
       "      <td>55691.0090</td>\n",
       "      <td>585</td>\n",
       "      <td>26.30</td>\n",
       "      <td>498.7299</td>\n",
       "      <td>55192.2791</td>\n",
       "    </tr>\n",
       "    <tr>\n",
       "      <th>4</th>\n",
       "      <td>28295.3450</td>\n",
       "      <td>536</td>\n",
       "      <td>14.85</td>\n",
       "      <td>3488.8352</td>\n",
       "      <td>24806.5098</td>\n",
       "    </tr>\n",
       "    <tr>\n",
       "      <th>5</th>\n",
       "      <td>23648.2870</td>\n",
       "      <td>466</td>\n",
       "      <td>18.95</td>\n",
       "      <td>2738.7096</td>\n",
       "      <td>20909.5774</td>\n",
       "    </tr>\n",
       "    <tr>\n",
       "      <th>6</th>\n",
       "      <td>34595.1276</td>\n",
       "      <td>521</td>\n",
       "      <td>23.22</td>\n",
       "      <td>4976.5244</td>\n",
       "      <td>29618.6032</td>\n",
       "    </tr>\n",
       "    <tr>\n",
       "      <th>7</th>\n",
       "      <td>33946.3930</td>\n",
       "      <td>550</td>\n",
       "      <td>24.55</td>\n",
       "      <td>-841.4826</td>\n",
       "      <td>34787.8756</td>\n",
       "    </tr>\n",
       "    <tr>\n",
       "      <th>8</th>\n",
       "      <td>27909.4685</td>\n",
       "      <td>609</td>\n",
       "      <td>20.05</td>\n",
       "      <td>5318.1050</td>\n",
       "      <td>22591.3635</td>\n",
       "    </tr>\n",
       "    <tr>\n",
       "      <th>9</th>\n",
       "      <td>81777.3508</td>\n",
       "      <td>1000</td>\n",
       "      <td>42.87</td>\n",
       "      <td>8328.0994</td>\n",
       "      <td>73449.2514</td>\n",
       "    </tr>\n",
       "    <tr>\n",
       "      <th>10</th>\n",
       "      <td>31453.3930</td>\n",
       "      <td>573</td>\n",
       "      <td>25.45</td>\n",
       "      <td>3448.2573</td>\n",
       "      <td>28005.1357</td>\n",
       "    </tr>\n",
       "    <tr>\n",
       "      <th>11</th>\n",
       "      <td>78628.7167</td>\n",
       "      <td>1219</td>\n",
       "      <td>48.07</td>\n",
       "      <td>9292.1269</td>\n",
       "      <td>69336.5898</td>\n",
       "    </tr>\n",
       "    <tr>\n",
       "      <th>12</th>\n",
       "      <td>69545.6205</td>\n",
       "      <td>1079</td>\n",
       "      <td>53.05</td>\n",
       "      <td>8983.5699</td>\n",
       "      <td>60562.0506</td>\n",
       "    </tr>\n",
       "    <tr>\n",
       "      <th rowspan=\"12\" valign=\"top\">2015</th>\n",
       "      <th>1</th>\n",
       "      <td>18174.0756</td>\n",
       "      <td>236</td>\n",
       "      <td>10.32</td>\n",
       "      <td>-3281.0070</td>\n",
       "      <td>21455.0826</td>\n",
       "    </tr>\n",
       "    <tr>\n",
       "      <th>2</th>\n",
       "      <td>11951.4110</td>\n",
       "      <td>239</td>\n",
       "      <td>8.30</td>\n",
       "      <td>2813.8508</td>\n",
       "      <td>9137.5602</td>\n",
       "    </tr>\n",
       "    <tr>\n",
       "      <th>3</th>\n",
       "      <td>38726.2520</td>\n",
       "      <td>515</td>\n",
       "      <td>19.34</td>\n",
       "      <td>9732.0978</td>\n",
       "      <td>28994.1542</td>\n",
       "    </tr>\n",
       "    <tr>\n",
       "      <th>4</th>\n",
       "      <td>34195.2085</td>\n",
       "      <td>543</td>\n",
       "      <td>28.15</td>\n",
       "      <td>4187.4962</td>\n",
       "      <td>30007.7123</td>\n",
       "    </tr>\n",
       "    <tr>\n",
       "      <th>5</th>\n",
       "      <td>30131.6865</td>\n",
       "      <td>575</td>\n",
       "      <td>24.25</td>\n",
       "      <td>4667.8690</td>\n",
       "      <td>25463.8175</td>\n",
       "    </tr>\n",
       "    <tr>\n",
       "      <th>6</th>\n",
       "      <td>24797.2920</td>\n",
       "      <td>486</td>\n",
       "      <td>23.80</td>\n",
       "      <td>3335.5572</td>\n",
       "      <td>21461.7348</td>\n",
       "    </tr>\n",
       "    <tr>\n",
       "      <th>7</th>\n",
       "      <td>28765.3250</td>\n",
       "      <td>557</td>\n",
       "      <td>23.85</td>\n",
       "      <td>3288.6483</td>\n",
       "      <td>25476.6767</td>\n",
       "    </tr>\n",
       "    <tr>\n",
       "      <th>8</th>\n",
       "      <td>36898.3322</td>\n",
       "      <td>598</td>\n",
       "      <td>24.87</td>\n",
       "      <td>5355.8084</td>\n",
       "      <td>31542.5238</td>\n",
       "    </tr>\n",
       "    <tr>\n",
       "      <th>9</th>\n",
       "      <td>64595.9180</td>\n",
       "      <td>1086</td>\n",
       "      <td>41.30</td>\n",
       "      <td>8209.1627</td>\n",
       "      <td>56386.7553</td>\n",
       "    </tr>\n",
       "    <tr>\n",
       "      <th>10</th>\n",
       "      <td>31404.9235</td>\n",
       "      <td>631</td>\n",
       "      <td>26.95</td>\n",
       "      <td>2817.3660</td>\n",
       "      <td>28587.5575</td>\n",
       "    </tr>\n",
       "    <tr>\n",
       "      <th>11</th>\n",
       "      <td>75972.5635</td>\n",
       "      <td>1310</td>\n",
       "      <td>52.59</td>\n",
       "      <td>12474.7884</td>\n",
       "      <td>63497.7751</td>\n",
       "    </tr>\n",
       "    <tr>\n",
       "      <th>12</th>\n",
       "      <td>74919.5212</td>\n",
       "      <td>1203</td>\n",
       "      <td>43.37</td>\n",
       "      <td>8016.9659</td>\n",
       "      <td>66902.5553</td>\n",
       "    </tr>\n",
       "    <tr>\n",
       "      <th rowspan=\"12\" valign=\"top\">2016</th>\n",
       "      <th>1</th>\n",
       "      <td>18542.4910</td>\n",
       "      <td>358</td>\n",
       "      <td>11.80</td>\n",
       "      <td>2824.8233</td>\n",
       "      <td>15717.6677</td>\n",
       "    </tr>\n",
       "    <tr>\n",
       "      <th>2</th>\n",
       "      <td>22978.8150</td>\n",
       "      <td>306</td>\n",
       "      <td>8.00</td>\n",
       "      <td>5004.5795</td>\n",
       "      <td>17974.2355</td>\n",
       "    </tr>\n",
       "    <tr>\n",
       "      <th>3</th>\n",
       "      <td>51715.8750</td>\n",
       "      <td>579</td>\n",
       "      <td>31.12</td>\n",
       "      <td>3611.9680</td>\n",
       "      <td>48103.9070</td>\n",
       "    </tr>\n",
       "    <tr>\n",
       "      <th>4</th>\n",
       "      <td>38750.0390</td>\n",
       "      <td>635</td>\n",
       "      <td>26.50</td>\n",
       "      <td>2977.8149</td>\n",
       "      <td>35772.2241</td>\n",
       "    </tr>\n",
       "    <tr>\n",
       "      <th>5</th>\n",
       "      <td>56987.7280</td>\n",
       "      <td>863</td>\n",
       "      <td>41.50</td>\n",
       "      <td>8662.1464</td>\n",
       "      <td>48325.5816</td>\n",
       "    </tr>\n",
       "    <tr>\n",
       "      <th>6</th>\n",
       "      <td>40344.5340</td>\n",
       "      <td>742</td>\n",
       "      <td>27.60</td>\n",
       "      <td>4750.3781</td>\n",
       "      <td>35594.1559</td>\n",
       "    </tr>\n",
       "    <tr>\n",
       "      <th>7</th>\n",
       "      <td>39261.9630</td>\n",
       "      <td>758</td>\n",
       "      <td>32.05</td>\n",
       "      <td>4432.8779</td>\n",
       "      <td>34829.0851</td>\n",
       "    </tr>\n",
       "    <tr>\n",
       "      <th>8</th>\n",
       "      <td>31115.3743</td>\n",
       "      <td>693</td>\n",
       "      <td>32.67</td>\n",
       "      <td>2062.0693</td>\n",
       "      <td>29053.3050</td>\n",
       "    </tr>\n",
       "    <tr>\n",
       "      <th>9</th>\n",
       "      <td>73410.0249</td>\n",
       "      <td>1316</td>\n",
       "      <td>54.24</td>\n",
       "      <td>9328.6576</td>\n",
       "      <td>64081.3673</td>\n",
       "    </tr>\n",
       "    <tr>\n",
       "      <th>10</th>\n",
       "      <td>59687.7450</td>\n",
       "      <td>767</td>\n",
       "      <td>28.85</td>\n",
       "      <td>16243.1425</td>\n",
       "      <td>43444.6025</td>\n",
       "    </tr>\n",
       "    <tr>\n",
       "      <th>11</th>\n",
       "      <td>79411.9658</td>\n",
       "      <td>1406</td>\n",
       "      <td>58.32</td>\n",
       "      <td>4011.4075</td>\n",
       "      <td>75400.5583</td>\n",
       "    </tr>\n",
       "    <tr>\n",
       "      <th>12</th>\n",
       "      <td>96999.0430</td>\n",
       "      <td>1414</td>\n",
       "      <td>47.67</td>\n",
       "      <td>17885.3093</td>\n",
       "      <td>79113.7337</td>\n",
       "    </tr>\n",
       "    <tr>\n",
       "      <th rowspan=\"12\" valign=\"top\">2017</th>\n",
       "      <th>1</th>\n",
       "      <td>43971.3740</td>\n",
       "      <td>597</td>\n",
       "      <td>25.00</td>\n",
       "      <td>7140.4391</td>\n",
       "      <td>36830.9349</td>\n",
       "    </tr>\n",
       "    <tr>\n",
       "      <th>2</th>\n",
       "      <td>20301.1334</td>\n",
       "      <td>363</td>\n",
       "      <td>19.47</td>\n",
       "      <td>1613.8720</td>\n",
       "      <td>18687.2614</td>\n",
       "    </tr>\n",
       "    <tr>\n",
       "      <th>3</th>\n",
       "      <td>58872.3528</td>\n",
       "      <td>885</td>\n",
       "      <td>31.14</td>\n",
       "      <td>14751.8915</td>\n",
       "      <td>44120.4613</td>\n",
       "    </tr>\n",
       "    <tr>\n",
       "      <th>4</th>\n",
       "      <td>36521.5361</td>\n",
       "      <td>733</td>\n",
       "      <td>39.47</td>\n",
       "      <td>933.2900</td>\n",
       "      <td>35588.2461</td>\n",
       "    </tr>\n",
       "    <tr>\n",
       "      <th>5</th>\n",
       "      <td>44261.1102</td>\n",
       "      <td>887</td>\n",
       "      <td>36.89</td>\n",
       "      <td>6342.5828</td>\n",
       "      <td>37918.5274</td>\n",
       "    </tr>\n",
       "    <tr>\n",
       "      <th>6</th>\n",
       "      <td>52981.7257</td>\n",
       "      <td>931</td>\n",
       "      <td>42.12</td>\n",
       "      <td>8223.3357</td>\n",
       "      <td>44758.3900</td>\n",
       "    </tr>\n",
       "    <tr>\n",
       "      <th>7</th>\n",
       "      <td>45264.4160</td>\n",
       "      <td>840</td>\n",
       "      <td>31.65</td>\n",
       "      <td>6952.6212</td>\n",
       "      <td>38311.7948</td>\n",
       "    </tr>\n",
       "    <tr>\n",
       "      <th>8</th>\n",
       "      <td>63120.8880</td>\n",
       "      <td>884</td>\n",
       "      <td>31.30</td>\n",
       "      <td>9040.9557</td>\n",
       "      <td>54079.9323</td>\n",
       "    </tr>\n",
       "    <tr>\n",
       "      <th>9</th>\n",
       "      <td>87866.6520</td>\n",
       "      <td>1660</td>\n",
       "      <td>67.65</td>\n",
       "      <td>10991.5556</td>\n",
       "      <td>76875.0964</td>\n",
       "    </tr>\n",
       "    <tr>\n",
       "      <th>10</th>\n",
       "      <td>77776.9232</td>\n",
       "      <td>1133</td>\n",
       "      <td>51.92</td>\n",
       "      <td>9275.2755</td>\n",
       "      <td>68501.6477</td>\n",
       "    </tr>\n",
       "    <tr>\n",
       "      <th>11</th>\n",
       "      <td>118447.8250</td>\n",
       "      <td>1840</td>\n",
       "      <td>73.89</td>\n",
       "      <td>9690.1037</td>\n",
       "      <td>108757.7213</td>\n",
       "    </tr>\n",
       "    <tr>\n",
       "      <th>12</th>\n",
       "      <td>83829.3188</td>\n",
       "      <td>1723</td>\n",
       "      <td>67.72</td>\n",
       "      <td>8483.3468</td>\n",
       "      <td>75345.9720</td>\n",
       "    </tr>\n",
       "  </tbody>\n",
       "</table>\n",
       "</div>"
      ],
      "text/plain": [
       "                  Sales  Quantity  Discount      Profit      Revenue\n",
       "year month                                                          \n",
       "2014 1       14236.8950       284     10.00   2450.1907   11786.7043\n",
       "     2        4519.8920       159      8.10    862.3084    3657.5836\n",
       "     3       55691.0090       585     26.30    498.7299   55192.2791\n",
       "     4       28295.3450       536     14.85   3488.8352   24806.5098\n",
       "     5       23648.2870       466     18.95   2738.7096   20909.5774\n",
       "     6       34595.1276       521     23.22   4976.5244   29618.6032\n",
       "     7       33946.3930       550     24.55   -841.4826   34787.8756\n",
       "     8       27909.4685       609     20.05   5318.1050   22591.3635\n",
       "     9       81777.3508      1000     42.87   8328.0994   73449.2514\n",
       "     10      31453.3930       573     25.45   3448.2573   28005.1357\n",
       "     11      78628.7167      1219     48.07   9292.1269   69336.5898\n",
       "     12      69545.6205      1079     53.05   8983.5699   60562.0506\n",
       "2015 1       18174.0756       236     10.32  -3281.0070   21455.0826\n",
       "     2       11951.4110       239      8.30   2813.8508    9137.5602\n",
       "     3       38726.2520       515     19.34   9732.0978   28994.1542\n",
       "     4       34195.2085       543     28.15   4187.4962   30007.7123\n",
       "     5       30131.6865       575     24.25   4667.8690   25463.8175\n",
       "     6       24797.2920       486     23.80   3335.5572   21461.7348\n",
       "     7       28765.3250       557     23.85   3288.6483   25476.6767\n",
       "     8       36898.3322       598     24.87   5355.8084   31542.5238\n",
       "     9       64595.9180      1086     41.30   8209.1627   56386.7553\n",
       "     10      31404.9235       631     26.95   2817.3660   28587.5575\n",
       "     11      75972.5635      1310     52.59  12474.7884   63497.7751\n",
       "     12      74919.5212      1203     43.37   8016.9659   66902.5553\n",
       "2016 1       18542.4910       358     11.80   2824.8233   15717.6677\n",
       "     2       22978.8150       306      8.00   5004.5795   17974.2355\n",
       "     3       51715.8750       579     31.12   3611.9680   48103.9070\n",
       "     4       38750.0390       635     26.50   2977.8149   35772.2241\n",
       "     5       56987.7280       863     41.50   8662.1464   48325.5816\n",
       "     6       40344.5340       742     27.60   4750.3781   35594.1559\n",
       "     7       39261.9630       758     32.05   4432.8779   34829.0851\n",
       "     8       31115.3743       693     32.67   2062.0693   29053.3050\n",
       "     9       73410.0249      1316     54.24   9328.6576   64081.3673\n",
       "     10      59687.7450       767     28.85  16243.1425   43444.6025\n",
       "     11      79411.9658      1406     58.32   4011.4075   75400.5583\n",
       "     12      96999.0430      1414     47.67  17885.3093   79113.7337\n",
       "2017 1       43971.3740       597     25.00   7140.4391   36830.9349\n",
       "     2       20301.1334       363     19.47   1613.8720   18687.2614\n",
       "     3       58872.3528       885     31.14  14751.8915   44120.4613\n",
       "     4       36521.5361       733     39.47    933.2900   35588.2461\n",
       "     5       44261.1102       887     36.89   6342.5828   37918.5274\n",
       "     6       52981.7257       931     42.12   8223.3357   44758.3900\n",
       "     7       45264.4160       840     31.65   6952.6212   38311.7948\n",
       "     8       63120.8880       884     31.30   9040.9557   54079.9323\n",
       "     9       87866.6520      1660     67.65  10991.5556   76875.0964\n",
       "     10      77776.9232      1133     51.92   9275.2755   68501.6477\n",
       "     11     118447.8250      1840     73.89   9690.1037  108757.7213\n",
       "     12      83829.3188      1723     67.72   8483.3468   75345.9720"
      ]
     },
     "execution_count": 34,
     "metadata": {},
     "output_type": "execute_result"
    }
   ],
   "source": [
    "year_month_sales=df.groupby([\"year\",\"month\"]).sum()\n",
    "year_month_sales"
   ]
  },
  {
   "cell_type": "markdown",
   "id": "eed5f201",
   "metadata": {
    "papermill": {
     "duration": 0.024098,
     "end_time": "2023-05-09T14:26:50.292629",
     "exception": false,
     "start_time": "2023-05-09T14:26:50.268531",
     "status": "completed"
    },
    "tags": []
   },
   "source": [
    "# **Total sales chart by the year**"
   ]
  },
  {
   "cell_type": "code",
   "execution_count": 35,
   "id": "92007c7c",
   "metadata": {
    "execution": {
     "iopub.execute_input": "2023-05-09T14:26:50.343497Z",
     "iopub.status.busy": "2023-05-09T14:26:50.343104Z",
     "iopub.status.idle": "2023-05-09T14:26:50.610913Z",
     "shell.execute_reply": "2023-05-09T14:26:50.609760Z"
    },
    "papermill": {
     "duration": 0.296621,
     "end_time": "2023-05-09T14:26:50.613578",
     "exception": false,
     "start_time": "2023-05-09T14:26:50.316957",
     "status": "completed"
    },
    "tags": []
   },
   "outputs": [
    {
     "data": {
      "text/plain": [
       "(array([0, 1, 2, 3]),\n",
       " [Text(0, 0, '2014'),\n",
       "  Text(1, 0, '2015'),\n",
       "  Text(2, 0, '2016'),\n",
       "  Text(3, 0, '2017')])"
      ]
     },
     "execution_count": 35,
     "metadata": {},
     "output_type": "execute_result"
    },
    {
     "data": {
      "image/png": "[encoded data removed]",
      "text/plain": [
       "<Figure size 640x480 with 1 Axes>"
      ]
     },
     "metadata": {},
     "output_type": "display_data"
    }
   ],
   "source": [
    "year_sale=df.groupby(\"year\").agg({\"Sales\":\"sum\"}).sort_values(\"Sales\",ascending=False).astype(int)\n",
    "   \n",
    "    \n",
    "ax=sns.barplot(x=\"year\",y=\"Sales\",data=year_sale.reset_index())\n",
    "\n",
    "for container in ax.containers:\n",
    "    ax.bar_label(container,color='black',size=10)\n",
    "plt.xticks(rotation=\"vertical\")"
   ]
  },
  {
   "cell_type": "markdown",
   "id": "c996f0be",
   "metadata": {
    "papermill": {
     "duration": 0.024236,
     "end_time": "2023-05-09T14:26:50.662657",
     "exception": false,
     "start_time": "2023-05-09T14:26:50.638421",
     "status": "completed"
    },
    "tags": []
   },
   "source": [
    "# **Profit vs Discount**"
   ]
  },
  {
   "cell_type": "code",
   "execution_count": 36,
   "id": "d352b2ff",
   "metadata": {
    "execution": {
     "iopub.execute_input": "2023-05-09T14:26:50.714501Z",
     "iopub.status.busy": "2023-05-09T14:26:50.713778Z",
     "iopub.status.idle": "2023-05-09T14:26:50.981629Z",
     "shell.execute_reply": "2023-05-09T14:26:50.980743Z"
    },
    "papermill": {
     "duration": 0.296398,
     "end_time": "2023-05-09T14:26:50.983935",
     "exception": false,
     "start_time": "2023-05-09T14:26:50.687537",
     "status": "completed"
    },
    "tags": []
   },
   "outputs": [
    {
     "data": {
      "image/png": "[encoded data removed]",
      "text/plain": [
       "<Figure size 640x480 with 1 Axes>"
      ]
     },
     "metadata": {},
     "output_type": "display_data"
    }
   ],
   "source": [
    "ax=sns.scatterplot(x=df[\"Sales\"],y=df[\"Profit\"],data=df)\n",
    "ax.set_xlabel(\"Sales\",fontsize=25)\n",
    "ax.set_ylabel(\"Profit\",fontsize=25)\n",
    "plt.show()"
   ]
  },
  {
   "cell_type": "code",
   "execution_count": 37,
   "id": "4e3484c6",
   "metadata": {
    "execution": {
     "iopub.execute_input": "2023-05-09T14:26:51.046543Z",
     "iopub.status.busy": "2023-05-09T14:26:51.044842Z",
     "iopub.status.idle": "2023-05-09T14:26:51.373214Z",
     "shell.execute_reply": "2023-05-09T14:26:51.372040Z"
    },
    "papermill": {
     "duration": 0.364852,
     "end_time": "2023-05-09T14:26:51.376011",
     "exception": false,
     "start_time": "2023-05-09T14:26:51.011159",
     "status": "completed"
    },
    "tags": []
   },
   "outputs": [
    {
     "data": {
      "image/png": "[encoded data removed]",
      "text/plain": [
       "<Figure size 1400x800 with 1 Axes>"
      ]
     },
     "metadata": {},
     "output_type": "display_data"
    }
   ],
   "source": [
    "fig,ax = plt.subplots(figsize=(14,8))\n",
    "ax.scatter(df['Sales'],df['Profit'])\n",
    "ax.set_xlabel('Sales')\n",
    "ax.set_ylabel('Profit')\n",
    "plt.show()"
   ]
  },
  {
   "cell_type": "markdown",
   "id": "214d51ff",
   "metadata": {
    "papermill": {
     "duration": 0.032587,
     "end_time": "2023-05-09T14:26:51.445532",
     "exception": false,
     "start_time": "2023-05-09T14:26:51.412945",
     "status": "completed"
    },
    "tags": []
   },
   "source": [
    "# **Profit Vs Discount**"
   ]
  },
  {
   "cell_type": "code",
   "execution_count": 38,
   "id": "4bf92983",
   "metadata": {
    "execution": {
     "iopub.execute_input": "2023-05-09T14:26:51.505456Z",
     "iopub.status.busy": "2023-05-09T14:26:51.504340Z",
     "iopub.status.idle": "2023-05-09T14:26:52.231252Z",
     "shell.execute_reply": "2023-05-09T14:26:52.230439Z"
    },
    "papermill": {
     "duration": 0.761372,
     "end_time": "2023-05-09T14:26:52.234019",
     "exception": false,
     "start_time": "2023-05-09T14:26:51.472647",
     "status": "completed"
    },
    "tags": []
   },
   "outputs": [
    {
     "data": {
      "text/plain": [
       "<AxesSubplot: xlabel='Discount', ylabel='Profit'>"
      ]
     },
     "execution_count": 38,
     "metadata": {},
     "output_type": "execute_result"
    },
    {
     "data": {
      "image/png": "[encoded data removed]",
      "text/plain": [
       "<Figure size 640x480 with 1 Axes>"
      ]
     },
     "metadata": {},
     "output_type": "display_data"
    }
   ],
   "source": [
    "sns.lineplot(x=\"Discount\",y=\"Profit\",data=df)\n"
   ]
  },
  {
   "cell_type": "code",
   "execution_count": 39,
   "id": "4024e4c8",
   "metadata": {
    "execution": {
     "iopub.execute_input": "2023-05-09T14:26:52.292257Z",
     "iopub.status.busy": "2023-05-09T14:26:52.291862Z",
     "iopub.status.idle": "2023-05-09T14:26:52.783888Z",
     "shell.execute_reply": "2023-05-09T14:26:52.782639Z"
    },
    "papermill": {
     "duration": 0.523297,
     "end_time": "2023-05-09T14:26:52.786165",
     "exception": false,
     "start_time": "2023-05-09T14:26:52.262868",
     "status": "completed"
    },
    "tags": []
   },
   "outputs": [
    {
     "data": {
      "text/plain": [
       "Text(0, 0.5, 'Profit/Loss and sales')"
      ]
     },
     "execution_count": 39,
     "metadata": {},
     "output_type": "execute_result"
    },
    {
     "data": {
      "image/png": "[encoded data removed]",
      "text/plain": [
       "<Figure size 640x480 with 1 Axes>"
      ]
     },
     "metadata": {},
     "output_type": "display_data"
    }
   ],
   "source": [
    "df.groupby(\"Segment\")[[\"Profit\",\"Sales\"]].sum().plot.bar(color=[\"#CD5C5C\",\"#BC8F8F\"])\n",
    "\n",
    "plt.ylabel(\"Profit/Loss and sales\")"
   ]
  },
  {
   "cell_type": "markdown",
   "id": "77396900",
   "metadata": {
    "papermill": {
     "duration": 0.026438,
     "end_time": "2023-05-09T14:26:52.840973",
     "exception": false,
     "start_time": "2023-05-09T14:26:52.814535",
     "status": "completed"
    },
    "tags": []
   },
   "source": [
    "# **Profit/loss & Sales across states**"
   ]
  },
  {
   "cell_type": "code",
   "execution_count": 40,
   "id": "923500b4",
   "metadata": {
    "execution": {
     "iopub.execute_input": "2023-05-09T14:26:52.896608Z",
     "iopub.status.busy": "2023-05-09T14:26:52.895905Z",
     "iopub.status.idle": "2023-05-09T14:26:53.686659Z",
     "shell.execute_reply": "2023-05-09T14:26:53.685493Z"
    },
    "papermill": {
     "duration": 0.822031,
     "end_time": "2023-05-09T14:26:53.689739",
     "exception": false,
     "start_time": "2023-05-09T14:26:52.867708",
     "status": "completed"
    },
    "tags": []
   },
   "outputs": [
    {
     "data": {
      "image/png": "[encoded data removed]",
      "text/plain": [
       "<Figure size 1500x800 with 1 Axes>"
      ]
     },
     "metadata": {},
     "output_type": "display_data"
    }
   ],
   "source": [
    "state_details=df.groupby('State')[[\"Sales\",\"Profit\"]].sum().sort_values(by=\"Sales\",ascending=False).plot.bar(color=['#32CD32',\"#FF0000\"],figsize=(15,8))\n"
   ]
  },
  {
   "cell_type": "code",
   "execution_count": 41,
   "id": "7624bef8",
   "metadata": {
    "execution": {
     "iopub.execute_input": "2023-05-09T14:26:53.750518Z",
     "iopub.status.busy": "2023-05-09T14:26:53.749710Z",
     "iopub.status.idle": "2023-05-09T14:26:53.774514Z",
     "shell.execute_reply": "2023-05-09T14:26:53.773204Z"
    },
    "papermill": {
     "duration": 0.058493,
     "end_time": "2023-05-09T14:26:53.777678",
     "exception": false,
     "start_time": "2023-05-09T14:26:53.719185",
     "status": "completed"
    },
    "tags": []
   },
   "outputs": [
    {
     "data": {
      "text/html": [
       "<div>\n",
       "<style scoped>\n",
       "    .dataframe tbody tr th:only-of-type {\n",
       "        vertical-align: middle;\n",
       "    }\n",
       "\n",
       "    .dataframe tbody tr th {\n",
       "        vertical-align: top;\n",
       "    }\n",
       "\n",
       "    .dataframe thead th {\n",
       "        text-align: right;\n",
       "    }\n",
       "</style>\n",
       "<table border=\"1\" class=\"dataframe\">\n",
       "  <thead>\n",
       "    <tr style=\"text-align: right;\">\n",
       "      <th></th>\n",
       "      <th>Order Date</th>\n",
       "      <th>Ship Date</th>\n",
       "      <th>Ship Mode</th>\n",
       "      <th>Customer ID</th>\n",
       "      <th>Customer Name</th>\n",
       "      <th>Segment</th>\n",
       "      <th>Country</th>\n",
       "      <th>City</th>\n",
       "      <th>State</th>\n",
       "      <th>Postal Code</th>\n",
       "      <th>...</th>\n",
       "      <th>Category</th>\n",
       "      <th>Sub-Category</th>\n",
       "      <th>Product Name</th>\n",
       "      <th>Sales</th>\n",
       "      <th>Quantity</th>\n",
       "      <th>Discount</th>\n",
       "      <th>Profit</th>\n",
       "      <th>Revenue</th>\n",
       "      <th>month</th>\n",
       "      <th>year</th>\n",
       "    </tr>\n",
       "    <tr>\n",
       "      <th>Order ID</th>\n",
       "      <th></th>\n",
       "      <th></th>\n",
       "      <th></th>\n",
       "      <th></th>\n",
       "      <th></th>\n",
       "      <th></th>\n",
       "      <th></th>\n",
       "      <th></th>\n",
       "      <th></th>\n",
       "      <th></th>\n",
       "      <th></th>\n",
       "      <th></th>\n",
       "      <th></th>\n",
       "      <th></th>\n",
       "      <th></th>\n",
       "      <th></th>\n",
       "      <th></th>\n",
       "      <th></th>\n",
       "      <th></th>\n",
       "      <th></th>\n",
       "      <th></th>\n",
       "    </tr>\n",
       "  </thead>\n",
       "  <tbody>\n",
       "    <tr>\n",
       "      <th>CA-2016-152156</th>\n",
       "      <td>2016-11-08</td>\n",
       "      <td>2016-11-11</td>\n",
       "      <td>Second Class</td>\n",
       "      <td>CG-12520</td>\n",
       "      <td>Claire Gute</td>\n",
       "      <td>Consumer</td>\n",
       "      <td>United States</td>\n",
       "      <td>Henderson</td>\n",
       "      <td>Kentucky</td>\n",
       "      <td>42420</td>\n",
       "      <td>...</td>\n",
       "      <td>Furniture</td>\n",
       "      <td>Bookcases</td>\n",
       "      <td>Bush Somerset Collection Bookcase</td>\n",
       "      <td>261.96</td>\n",
       "      <td>2</td>\n",
       "      <td>0.0</td>\n",
       "      <td>41.9136</td>\n",
       "      <td>220.0464</td>\n",
       "      <td>11</td>\n",
       "      <td>2016</td>\n",
       "    </tr>\n",
       "    <tr>\n",
       "      <th>CA-2016-152156</th>\n",
       "      <td>2016-11-08</td>\n",
       "      <td>2016-11-11</td>\n",
       "      <td>Second Class</td>\n",
       "      <td>CG-12520</td>\n",
       "      <td>Claire Gute</td>\n",
       "      <td>Consumer</td>\n",
       "      <td>United States</td>\n",
       "      <td>Henderson</td>\n",
       "      <td>Kentucky</td>\n",
       "      <td>42420</td>\n",
       "      <td>...</td>\n",
       "      <td>Furniture</td>\n",
       "      <td>Chairs</td>\n",
       "      <td>Hon Deluxe Fabric Upholstered Stacking Chairs,...</td>\n",
       "      <td>731.94</td>\n",
       "      <td>3</td>\n",
       "      <td>0.0</td>\n",
       "      <td>219.5820</td>\n",
       "      <td>512.3580</td>\n",
       "      <td>11</td>\n",
       "      <td>2016</td>\n",
       "    </tr>\n",
       "  </tbody>\n",
       "</table>\n",
       "<p>2 rows × 22 columns</p>\n",
       "</div>"
      ],
      "text/plain": [
       "               Order Date  Ship Date     Ship Mode Customer ID Customer Name  \\\n",
       "Order ID                                                                       \n",
       "CA-2016-152156 2016-11-08 2016-11-11  Second Class    CG-12520   Claire Gute   \n",
       "CA-2016-152156 2016-11-08 2016-11-11  Second Class    CG-12520   Claire Gute   \n",
       "\n",
       "                 Segment        Country       City     State Postal Code  ...  \\\n",
       "Order ID                                                                  ...   \n",
       "CA-2016-152156  Consumer  United States  Henderson  Kentucky       42420  ...   \n",
       "CA-2016-152156  Consumer  United States  Henderson  Kentucky       42420  ...   \n",
       "\n",
       "                 Category Sub-Category  \\\n",
       "Order ID                                 \n",
       "CA-2016-152156  Furniture    Bookcases   \n",
       "CA-2016-152156  Furniture       Chairs   \n",
       "\n",
       "                                                     Product Name   Sales  \\\n",
       "Order ID                                                                    \n",
       "CA-2016-152156                  Bush Somerset Collection Bookcase  261.96   \n",
       "CA-2016-152156  Hon Deluxe Fabric Upholstered Stacking Chairs,...  731.94   \n",
       "\n",
       "               Quantity  Discount    Profit   Revenue  month  year  \n",
       "Order ID                                                            \n",
       "CA-2016-152156        2       0.0   41.9136  220.0464     11  2016  \n",
       "CA-2016-152156        3       0.0  219.5820  512.3580     11  2016  \n",
       "\n",
       "[2 rows x 22 columns]"
      ]
     },
     "execution_count": 41,
     "metadata": {},
     "output_type": "execute_result"
    }
   ],
   "source": [
    "df.head(2)"
   ]
  },
  {
   "cell_type": "code",
   "execution_count": 42,
   "id": "c144f3ea",
   "metadata": {
    "execution": {
     "iopub.execute_input": "2023-05-09T14:26:53.836945Z",
     "iopub.status.busy": "2023-05-09T14:26:53.835921Z",
     "iopub.status.idle": "2023-05-09T14:26:53.844034Z",
     "shell.execute_reply": "2023-05-09T14:26:53.843251Z"
    },
    "papermill": {
     "duration": 0.040269,
     "end_time": "2023-05-09T14:26:53.846298",
     "exception": false,
     "start_time": "2023-05-09T14:26:53.806029",
     "status": "completed"
    },
    "tags": []
   },
   "outputs": [],
   "source": [
    "df[\"Status\"]=np.where(df[\"Profit\"]>0,\"Profit\",np.where(df[\"Profit\"]<0,\"Loss\",\"B/E\"))"
   ]
  },
  {
   "cell_type": "code",
   "execution_count": 43,
   "id": "350117fa",
   "metadata": {
    "execution": {
     "iopub.execute_input": "2023-05-09T14:26:53.906075Z",
     "iopub.status.busy": "2023-05-09T14:26:53.905455Z",
     "iopub.status.idle": "2023-05-09T14:26:53.931883Z",
     "shell.execute_reply": "2023-05-09T14:26:53.930794Z"
    },
    "papermill": {
     "duration": 0.059235,
     "end_time": "2023-05-09T14:26:53.934295",
     "exception": false,
     "start_time": "2023-05-09T14:26:53.875060",
     "status": "completed"
    },
    "tags": []
   },
   "outputs": [
    {
     "data": {
      "text/html": [
       "<div>\n",
       "<style scoped>\n",
       "    .dataframe tbody tr th:only-of-type {\n",
       "        vertical-align: middle;\n",
       "    }\n",
       "\n",
       "    .dataframe tbody tr th {\n",
       "        vertical-align: top;\n",
       "    }\n",
       "\n",
       "    .dataframe thead th {\n",
       "        text-align: right;\n",
       "    }\n",
       "</style>\n",
       "<table border=\"1\" class=\"dataframe\">\n",
       "  <thead>\n",
       "    <tr style=\"text-align: right;\">\n",
       "      <th></th>\n",
       "      <th>Order Date</th>\n",
       "      <th>Ship Date</th>\n",
       "      <th>Ship Mode</th>\n",
       "      <th>Customer ID</th>\n",
       "      <th>Customer Name</th>\n",
       "      <th>Segment</th>\n",
       "      <th>Country</th>\n",
       "      <th>City</th>\n",
       "      <th>State</th>\n",
       "      <th>Postal Code</th>\n",
       "      <th>...</th>\n",
       "      <th>Sub-Category</th>\n",
       "      <th>Product Name</th>\n",
       "      <th>Sales</th>\n",
       "      <th>Quantity</th>\n",
       "      <th>Discount</th>\n",
       "      <th>Profit</th>\n",
       "      <th>Revenue</th>\n",
       "      <th>month</th>\n",
       "      <th>year</th>\n",
       "      <th>Status</th>\n",
       "    </tr>\n",
       "    <tr>\n",
       "      <th>Order ID</th>\n",
       "      <th></th>\n",
       "      <th></th>\n",
       "      <th></th>\n",
       "      <th></th>\n",
       "      <th></th>\n",
       "      <th></th>\n",
       "      <th></th>\n",
       "      <th></th>\n",
       "      <th></th>\n",
       "      <th></th>\n",
       "      <th></th>\n",
       "      <th></th>\n",
       "      <th></th>\n",
       "      <th></th>\n",
       "      <th></th>\n",
       "      <th></th>\n",
       "      <th></th>\n",
       "      <th></th>\n",
       "      <th></th>\n",
       "      <th></th>\n",
       "      <th></th>\n",
       "    </tr>\n",
       "  </thead>\n",
       "  <tbody>\n",
       "    <tr>\n",
       "      <th>CA-2016-152156</th>\n",
       "      <td>2016-11-08</td>\n",
       "      <td>2016-11-11</td>\n",
       "      <td>Second Class</td>\n",
       "      <td>CG-12520</td>\n",
       "      <td>Claire Gute</td>\n",
       "      <td>Consumer</td>\n",
       "      <td>United States</td>\n",
       "      <td>Henderson</td>\n",
       "      <td>Kentucky</td>\n",
       "      <td>42420</td>\n",
       "      <td>...</td>\n",
       "      <td>Bookcases</td>\n",
       "      <td>Bush Somerset Collection Bookcase</td>\n",
       "      <td>261.9600</td>\n",
       "      <td>2</td>\n",
       "      <td>0.00</td>\n",
       "      <td>41.9136</td>\n",
       "      <td>220.0464</td>\n",
       "      <td>11</td>\n",
       "      <td>2016</td>\n",
       "      <td>Profit</td>\n",
       "    </tr>\n",
       "    <tr>\n",
       "      <th>CA-2016-152156</th>\n",
       "      <td>2016-11-08</td>\n",
       "      <td>2016-11-11</td>\n",
       "      <td>Second Class</td>\n",
       "      <td>CG-12520</td>\n",
       "      <td>Claire Gute</td>\n",
       "      <td>Consumer</td>\n",
       "      <td>United States</td>\n",
       "      <td>Henderson</td>\n",
       "      <td>Kentucky</td>\n",
       "      <td>42420</td>\n",
       "      <td>...</td>\n",
       "      <td>Chairs</td>\n",
       "      <td>Hon Deluxe Fabric Upholstered Stacking Chairs,...</td>\n",
       "      <td>731.9400</td>\n",
       "      <td>3</td>\n",
       "      <td>0.00</td>\n",
       "      <td>219.5820</td>\n",
       "      <td>512.3580</td>\n",
       "      <td>11</td>\n",
       "      <td>2016</td>\n",
       "      <td>Profit</td>\n",
       "    </tr>\n",
       "    <tr>\n",
       "      <th>CA-2016-138688</th>\n",
       "      <td>2016-06-12</td>\n",
       "      <td>2016-06-16</td>\n",
       "      <td>Second Class</td>\n",
       "      <td>DV-13045</td>\n",
       "      <td>Darrin Van Huff</td>\n",
       "      <td>Corporate</td>\n",
       "      <td>United States</td>\n",
       "      <td>Los Angeles</td>\n",
       "      <td>California</td>\n",
       "      <td>90036</td>\n",
       "      <td>...</td>\n",
       "      <td>Labels</td>\n",
       "      <td>Self-Adhesive Address Labels for Typewriters b...</td>\n",
       "      <td>14.6200</td>\n",
       "      <td>2</td>\n",
       "      <td>0.00</td>\n",
       "      <td>6.8714</td>\n",
       "      <td>7.7486</td>\n",
       "      <td>6</td>\n",
       "      <td>2016</td>\n",
       "      <td>Profit</td>\n",
       "    </tr>\n",
       "    <tr>\n",
       "      <th>US-2015-108966</th>\n",
       "      <td>2015-10-11</td>\n",
       "      <td>2015-10-18</td>\n",
       "      <td>Standard Class</td>\n",
       "      <td>SO-20335</td>\n",
       "      <td>Sean O'Donnell</td>\n",
       "      <td>Consumer</td>\n",
       "      <td>United States</td>\n",
       "      <td>Fort Lauderdale</td>\n",
       "      <td>Florida</td>\n",
       "      <td>33311</td>\n",
       "      <td>...</td>\n",
       "      <td>Tables</td>\n",
       "      <td>Bretford CR4500 Series Slim Rectangular Table</td>\n",
       "      <td>957.5775</td>\n",
       "      <td>5</td>\n",
       "      <td>0.45</td>\n",
       "      <td>-383.0310</td>\n",
       "      <td>1340.6085</td>\n",
       "      <td>10</td>\n",
       "      <td>2015</td>\n",
       "      <td>Loss</td>\n",
       "    </tr>\n",
       "    <tr>\n",
       "      <th>US-2015-108966</th>\n",
       "      <td>2015-10-11</td>\n",
       "      <td>2015-10-18</td>\n",
       "      <td>Standard Class</td>\n",
       "      <td>SO-20335</td>\n",
       "      <td>Sean O'Donnell</td>\n",
       "      <td>Consumer</td>\n",
       "      <td>United States</td>\n",
       "      <td>Fort Lauderdale</td>\n",
       "      <td>Florida</td>\n",
       "      <td>33311</td>\n",
       "      <td>...</td>\n",
       "      <td>Storage</td>\n",
       "      <td>Eldon Fold 'N Roll Cart System</td>\n",
       "      <td>22.3680</td>\n",
       "      <td>2</td>\n",
       "      <td>0.20</td>\n",
       "      <td>2.5164</td>\n",
       "      <td>19.8516</td>\n",
       "      <td>10</td>\n",
       "      <td>2015</td>\n",
       "      <td>Profit</td>\n",
       "    </tr>\n",
       "    <tr>\n",
       "      <th>CA-2014-115812</th>\n",
       "      <td>2014-06-09</td>\n",
       "      <td>2014-06-14</td>\n",
       "      <td>Standard Class</td>\n",
       "      <td>BH-11710</td>\n",
       "      <td>Brosina Hoffman</td>\n",
       "      <td>Consumer</td>\n",
       "      <td>United States</td>\n",
       "      <td>Los Angeles</td>\n",
       "      <td>California</td>\n",
       "      <td>90032</td>\n",
       "      <td>...</td>\n",
       "      <td>Furnishings</td>\n",
       "      <td>Eldon Expressions Wood and Plastic Desk Access...</td>\n",
       "      <td>48.8600</td>\n",
       "      <td>7</td>\n",
       "      <td>0.00</td>\n",
       "      <td>14.1694</td>\n",
       "      <td>34.6906</td>\n",
       "      <td>6</td>\n",
       "      <td>2014</td>\n",
       "      <td>Profit</td>\n",
       "    </tr>\n",
       "    <tr>\n",
       "      <th>CA-2014-115812</th>\n",
       "      <td>2014-06-09</td>\n",
       "      <td>2014-06-14</td>\n",
       "      <td>Standard Class</td>\n",
       "      <td>BH-11710</td>\n",
       "      <td>Brosina Hoffman</td>\n",
       "      <td>Consumer</td>\n",
       "      <td>United States</td>\n",
       "      <td>Los Angeles</td>\n",
       "      <td>California</td>\n",
       "      <td>90032</td>\n",
       "      <td>...</td>\n",
       "      <td>Art</td>\n",
       "      <td>Newell 322</td>\n",
       "      <td>7.2800</td>\n",
       "      <td>4</td>\n",
       "      <td>0.00</td>\n",
       "      <td>1.9656</td>\n",
       "      <td>5.3144</td>\n",
       "      <td>6</td>\n",
       "      <td>2014</td>\n",
       "      <td>Profit</td>\n",
       "    </tr>\n",
       "    <tr>\n",
       "      <th>CA-2014-115812</th>\n",
       "      <td>2014-06-09</td>\n",
       "      <td>2014-06-14</td>\n",
       "      <td>Standard Class</td>\n",
       "      <td>BH-11710</td>\n",
       "      <td>Brosina Hoffman</td>\n",
       "      <td>Consumer</td>\n",
       "      <td>United States</td>\n",
       "      <td>Los Angeles</td>\n",
       "      <td>California</td>\n",
       "      <td>90032</td>\n",
       "      <td>...</td>\n",
       "      <td>Phones</td>\n",
       "      <td>Mitel 5320 IP Phone VoIP phone</td>\n",
       "      <td>907.1520</td>\n",
       "      <td>6</td>\n",
       "      <td>0.20</td>\n",
       "      <td>90.7152</td>\n",
       "      <td>816.4368</td>\n",
       "      <td>6</td>\n",
       "      <td>2014</td>\n",
       "      <td>Profit</td>\n",
       "    </tr>\n",
       "    <tr>\n",
       "      <th>CA-2014-115812</th>\n",
       "      <td>2014-06-09</td>\n",
       "      <td>2014-06-14</td>\n",
       "      <td>Standard Class</td>\n",
       "      <td>BH-11710</td>\n",
       "      <td>Brosina Hoffman</td>\n",
       "      <td>Consumer</td>\n",
       "      <td>United States</td>\n",
       "      <td>Los Angeles</td>\n",
       "      <td>California</td>\n",
       "      <td>90032</td>\n",
       "      <td>...</td>\n",
       "      <td>Binders</td>\n",
       "      <td>DXL Angle-View Binders with Locking Rings by S...</td>\n",
       "      <td>18.5040</td>\n",
       "      <td>3</td>\n",
       "      <td>0.20</td>\n",
       "      <td>5.7825</td>\n",
       "      <td>12.7215</td>\n",
       "      <td>6</td>\n",
       "      <td>2014</td>\n",
       "      <td>Profit</td>\n",
       "    </tr>\n",
       "    <tr>\n",
       "      <th>CA-2014-115812</th>\n",
       "      <td>2014-06-09</td>\n",
       "      <td>2014-06-14</td>\n",
       "      <td>Standard Class</td>\n",
       "      <td>BH-11710</td>\n",
       "      <td>Brosina Hoffman</td>\n",
       "      <td>Consumer</td>\n",
       "      <td>United States</td>\n",
       "      <td>Los Angeles</td>\n",
       "      <td>California</td>\n",
       "      <td>90032</td>\n",
       "      <td>...</td>\n",
       "      <td>Appliances</td>\n",
       "      <td>Belkin F5C206VTEL 6 Outlet Surge</td>\n",
       "      <td>114.9000</td>\n",
       "      <td>5</td>\n",
       "      <td>0.00</td>\n",
       "      <td>34.4700</td>\n",
       "      <td>80.4300</td>\n",
       "      <td>6</td>\n",
       "      <td>2014</td>\n",
       "      <td>Profit</td>\n",
       "    </tr>\n",
       "  </tbody>\n",
       "</table>\n",
       "<p>10 rows × 23 columns</p>\n",
       "</div>"
      ],
      "text/plain": [
       "               Order Date  Ship Date       Ship Mode Customer ID  \\\n",
       "Order ID                                                           \n",
       "CA-2016-152156 2016-11-08 2016-11-11    Second Class    CG-12520   \n",
       "CA-2016-152156 2016-11-08 2016-11-11    Second Class    CG-12520   \n",
       "CA-2016-138688 2016-06-12 2016-06-16    Second Class    DV-13045   \n",
       "US-2015-108966 2015-10-11 2015-10-18  Standard Class    SO-20335   \n",
       "US-2015-108966 2015-10-11 2015-10-18  Standard Class    SO-20335   \n",
       "CA-2014-115812 2014-06-09 2014-06-14  Standard Class    BH-11710   \n",
       "CA-2014-115812 2014-06-09 2014-06-14  Standard Class    BH-11710   \n",
       "CA-2014-115812 2014-06-09 2014-06-14  Standard Class    BH-11710   \n",
       "CA-2014-115812 2014-06-09 2014-06-14  Standard Class    BH-11710   \n",
       "CA-2014-115812 2014-06-09 2014-06-14  Standard Class    BH-11710   \n",
       "\n",
       "                  Customer Name    Segment        Country             City  \\\n",
       "Order ID                                                                     \n",
       "CA-2016-152156      Claire Gute   Consumer  United States        Henderson   \n",
       "CA-2016-152156      Claire Gute   Consumer  United States        Henderson   \n",
       "CA-2016-138688  Darrin Van Huff  Corporate  United States      Los Angeles   \n",
       "US-2015-108966   Sean O'Donnell   Consumer  United States  Fort Lauderdale   \n",
       "US-2015-108966   Sean O'Donnell   Consumer  United States  Fort Lauderdale   \n",
       "CA-2014-115812  Brosina Hoffman   Consumer  United States      Los Angeles   \n",
       "CA-2014-115812  Brosina Hoffman   Consumer  United States      Los Angeles   \n",
       "CA-2014-115812  Brosina Hoffman   Consumer  United States      Los Angeles   \n",
       "CA-2014-115812  Brosina Hoffman   Consumer  United States      Los Angeles   \n",
       "CA-2014-115812  Brosina Hoffman   Consumer  United States      Los Angeles   \n",
       "\n",
       "                     State Postal Code  ... Sub-Category  \\\n",
       "Order ID                                ...                \n",
       "CA-2016-152156    Kentucky       42420  ...    Bookcases   \n",
       "CA-2016-152156    Kentucky       42420  ...       Chairs   \n",
       "CA-2016-138688  California       90036  ...       Labels   \n",
       "US-2015-108966     Florida       33311  ...       Tables   \n",
       "US-2015-108966     Florida       33311  ...      Storage   \n",
       "CA-2014-115812  California       90032  ...  Furnishings   \n",
       "CA-2014-115812  California       90032  ...          Art   \n",
       "CA-2014-115812  California       90032  ...       Phones   \n",
       "CA-2014-115812  California       90032  ...      Binders   \n",
       "CA-2014-115812  California       90032  ...   Appliances   \n",
       "\n",
       "                                                     Product Name     Sales  \\\n",
       "Order ID                                                                      \n",
       "CA-2016-152156                  Bush Somerset Collection Bookcase  261.9600   \n",
       "CA-2016-152156  Hon Deluxe Fabric Upholstered Stacking Chairs,...  731.9400   \n",
       "CA-2016-138688  Self-Adhesive Address Labels for Typewriters b...   14.6200   \n",
       "US-2015-108966      Bretford CR4500 Series Slim Rectangular Table  957.5775   \n",
       "US-2015-108966                     Eldon Fold 'N Roll Cart System   22.3680   \n",
       "CA-2014-115812  Eldon Expressions Wood and Plastic Desk Access...   48.8600   \n",
       "CA-2014-115812                                         Newell 322    7.2800   \n",
       "CA-2014-115812                     Mitel 5320 IP Phone VoIP phone  907.1520   \n",
       "CA-2014-115812  DXL Angle-View Binders with Locking Rings by S...   18.5040   \n",
       "CA-2014-115812                   Belkin F5C206VTEL 6 Outlet Surge  114.9000   \n",
       "\n",
       "               Quantity Discount    Profit    Revenue  month  year  Status  \n",
       "Order ID                                                                    \n",
       "CA-2016-152156        2     0.00   41.9136   220.0464     11  2016  Profit  \n",
       "CA-2016-152156        3     0.00  219.5820   512.3580     11  2016  Profit  \n",
       "CA-2016-138688        2     0.00    6.8714     7.7486      6  2016  Profit  \n",
       "US-2015-108966        5     0.45 -383.0310  1340.6085     10  2015    Loss  \n",
       "US-2015-108966        2     0.20    2.5164    19.8516     10  2015  Profit  \n",
       "CA-2014-115812        7     0.00   14.1694    34.6906      6  2014  Profit  \n",
       "CA-2014-115812        4     0.00    1.9656     5.3144      6  2014  Profit  \n",
       "CA-2014-115812        6     0.20   90.7152   816.4368      6  2014  Profit  \n",
       "CA-2014-115812        3     0.20    5.7825    12.7215      6  2014  Profit  \n",
       "CA-2014-115812        5     0.00   34.4700    80.4300      6  2014  Profit  \n",
       "\n",
       "[10 rows x 23 columns]"
      ]
     },
     "execution_count": 43,
     "metadata": {},
     "output_type": "execute_result"
    }
   ],
   "source": [
    "df.head(10)"
   ]
  },
  {
   "cell_type": "markdown",
   "id": "aedcf8aa",
   "metadata": {
    "papermill": {
     "duration": 0.028432,
     "end_time": "2023-05-09T14:26:53.991920",
     "exception": false,
     "start_time": "2023-05-09T14:26:53.963488",
     "status": "completed"
    },
    "tags": []
   },
   "source": [
    "# **Features Scaling**"
   ]
  },
  {
   "cell_type": "code",
   "execution_count": 44,
   "id": "416224c3",
   "metadata": {
    "execution": {
     "iopub.execute_input": "2023-05-09T14:26:54.052155Z",
     "iopub.status.busy": "2023-05-09T14:26:54.051780Z",
     "iopub.status.idle": "2023-05-09T14:26:54.056675Z",
     "shell.execute_reply": "2023-05-09T14:26:54.055714Z"
    },
    "papermill": {
     "duration": 0.037084,
     "end_time": "2023-05-09T14:26:54.058741",
     "exception": false,
     "start_time": "2023-05-09T14:26:54.021657",
     "status": "completed"
    },
    "tags": []
   },
   "outputs": [],
   "source": [
    "pipeline=Pipeline([\n",
    "    (\"robust_scaler\",RobustScaler()),\n",
    "    (\"std_scaler\",StandardScaler())\n",
    "])"
   ]
  },
  {
   "cell_type": "code",
   "execution_count": 45,
   "id": "0b4d1677",
   "metadata": {
    "execution": {
     "iopub.execute_input": "2023-05-09T14:26:54.118785Z",
     "iopub.status.busy": "2023-05-09T14:26:54.117925Z",
     "iopub.status.idle": "2023-05-09T14:26:54.126861Z",
     "shell.execute_reply": "2023-05-09T14:26:54.125951Z"
    },
    "papermill": {
     "duration": 0.041339,
     "end_time": "2023-05-09T14:26:54.128938",
     "exception": false,
     "start_time": "2023-05-09T14:26:54.087599",
     "status": "completed"
    },
    "tags": []
   },
   "outputs": [
    {
     "data": {
      "text/plain": [
       "Index(['Sales', 'Quantity', 'Discount', 'Revenue'], dtype='object')"
      ]
     },
     "execution_count": 45,
     "metadata": {},
     "output_type": "execute_result"
    }
   ],
   "source": [
    "to_be_processed=df.select_dtypes(include=[\"float64\",\"int64\"]).drop(columns={\"Profit\",\"month\",\"year\"})\n",
    "\n",
    "to_be_processed.columns"
   ]
  },
  {
   "cell_type": "code",
   "execution_count": 46,
   "id": "53a9f17b",
   "metadata": {
    "execution": {
     "iopub.execute_input": "2023-05-09T14:26:54.189830Z",
     "iopub.status.busy": "2023-05-09T14:26:54.189171Z",
     "iopub.status.idle": "2023-05-09T14:26:54.223294Z",
     "shell.execute_reply": "2023-05-09T14:26:54.222217Z"
    },
    "papermill": {
     "duration": 0.066827,
     "end_time": "2023-05-09T14:26:54.225459",
     "exception": false,
     "start_time": "2023-05-09T14:26:54.158632",
     "status": "completed"
    },
    "tags": []
   },
   "outputs": [
    {
     "data": {
      "text/html": [
       "<div>\n",
       "<style scoped>\n",
       "    .dataframe tbody tr th:only-of-type {\n",
       "        vertical-align: middle;\n",
       "    }\n",
       "\n",
       "    .dataframe tbody tr th {\n",
       "        vertical-align: top;\n",
       "    }\n",
       "\n",
       "    .dataframe thead th {\n",
       "        text-align: right;\n",
       "    }\n",
       "</style>\n",
       "<table border=\"1\" class=\"dataframe\">\n",
       "  <thead>\n",
       "    <tr style=\"text-align: right;\">\n",
       "      <th></th>\n",
       "      <th>Order Date</th>\n",
       "      <th>Ship Date</th>\n",
       "      <th>Ship Mode</th>\n",
       "      <th>Customer ID</th>\n",
       "      <th>Customer Name</th>\n",
       "      <th>Segment</th>\n",
       "      <th>Country</th>\n",
       "      <th>City</th>\n",
       "      <th>State</th>\n",
       "      <th>Postal Code</th>\n",
       "      <th>...</th>\n",
       "      <th>Sub-Category</th>\n",
       "      <th>Product Name</th>\n",
       "      <th>Sales</th>\n",
       "      <th>Quantity</th>\n",
       "      <th>Discount</th>\n",
       "      <th>Profit</th>\n",
       "      <th>Revenue</th>\n",
       "      <th>month</th>\n",
       "      <th>year</th>\n",
       "      <th>Status</th>\n",
       "    </tr>\n",
       "    <tr>\n",
       "      <th>Order ID</th>\n",
       "      <th></th>\n",
       "      <th></th>\n",
       "      <th></th>\n",
       "      <th></th>\n",
       "      <th></th>\n",
       "      <th></th>\n",
       "      <th></th>\n",
       "      <th></th>\n",
       "      <th></th>\n",
       "      <th></th>\n",
       "      <th></th>\n",
       "      <th></th>\n",
       "      <th></th>\n",
       "      <th></th>\n",
       "      <th></th>\n",
       "      <th></th>\n",
       "      <th></th>\n",
       "      <th></th>\n",
       "      <th></th>\n",
       "      <th></th>\n",
       "      <th></th>\n",
       "    </tr>\n",
       "  </thead>\n",
       "  <tbody>\n",
       "    <tr>\n",
       "      <th>CA-2016-152156</th>\n",
       "      <td>2016-11-08</td>\n",
       "      <td>2016-11-11</td>\n",
       "      <td>Second Class</td>\n",
       "      <td>CG-12520</td>\n",
       "      <td>Claire Gute</td>\n",
       "      <td>Consumer</td>\n",
       "      <td>United States</td>\n",
       "      <td>Henderson</td>\n",
       "      <td>Kentucky</td>\n",
       "      <td>42420</td>\n",
       "      <td>...</td>\n",
       "      <td>Bookcases</td>\n",
       "      <td>Bush Somerset Collection Bookcase</td>\n",
       "      <td>0.051510</td>\n",
       "      <td>-0.804303</td>\n",
       "      <td>-0.756643</td>\n",
       "      <td>41.9136</td>\n",
       "      <td>0.034214</td>\n",
       "      <td>11</td>\n",
       "      <td>2016</td>\n",
       "      <td>Profit</td>\n",
       "    </tr>\n",
       "    <tr>\n",
       "      <th>CA-2016-152156</th>\n",
       "      <td>2016-11-08</td>\n",
       "      <td>2016-11-11</td>\n",
       "      <td>Second Class</td>\n",
       "      <td>CG-12520</td>\n",
       "      <td>Claire Gute</td>\n",
       "      <td>Consumer</td>\n",
       "      <td>United States</td>\n",
       "      <td>Henderson</td>\n",
       "      <td>Kentucky</td>\n",
       "      <td>42420</td>\n",
       "      <td>...</td>\n",
       "      <td>Chairs</td>\n",
       "      <td>Hon Deluxe Fabric Upholstered Stacking Chairs,...</td>\n",
       "      <td>0.805633</td>\n",
       "      <td>-0.354865</td>\n",
       "      <td>-0.756643</td>\n",
       "      <td>219.5820</td>\n",
       "      <td>0.564906</td>\n",
       "      <td>11</td>\n",
       "      <td>2016</td>\n",
       "      <td>Profit</td>\n",
       "    </tr>\n",
       "    <tr>\n",
       "      <th>CA-2016-138688</th>\n",
       "      <td>2016-06-12</td>\n",
       "      <td>2016-06-16</td>\n",
       "      <td>Second Class</td>\n",
       "      <td>DV-13045</td>\n",
       "      <td>Darrin Van Huff</td>\n",
       "      <td>Corporate</td>\n",
       "      <td>United States</td>\n",
       "      <td>Los Angeles</td>\n",
       "      <td>California</td>\n",
       "      <td>90036</td>\n",
       "      <td>...</td>\n",
       "      <td>Labels</td>\n",
       "      <td>Self-Adhesive Address Labels for Typewriters b...</td>\n",
       "      <td>-0.345368</td>\n",
       "      <td>-0.804303</td>\n",
       "      <td>-0.756643</td>\n",
       "      <td>6.8714</td>\n",
       "      <td>-0.351213</td>\n",
       "      <td>6</td>\n",
       "      <td>2016</td>\n",
       "      <td>Profit</td>\n",
       "    </tr>\n",
       "    <tr>\n",
       "      <th>US-2015-108966</th>\n",
       "      <td>2015-10-11</td>\n",
       "      <td>2015-10-18</td>\n",
       "      <td>Standard Class</td>\n",
       "      <td>SO-20335</td>\n",
       "      <td>Sean O'Donnell</td>\n",
       "      <td>Consumer</td>\n",
       "      <td>United States</td>\n",
       "      <td>Fort Lauderdale</td>\n",
       "      <td>Florida</td>\n",
       "      <td>33311</td>\n",
       "      <td>...</td>\n",
       "      <td>Tables</td>\n",
       "      <td>Bretford CR4500 Series Slim Rectangular Table</td>\n",
       "      <td>1.167688</td>\n",
       "      <td>0.544012</td>\n",
       "      <td>1.423149</td>\n",
       "      <td>-383.0310</td>\n",
       "      <td>2.068596</td>\n",
       "      <td>10</td>\n",
       "      <td>2015</td>\n",
       "      <td>Loss</td>\n",
       "    </tr>\n",
       "    <tr>\n",
       "      <th>US-2015-108966</th>\n",
       "      <td>2015-10-11</td>\n",
       "      <td>2015-10-18</td>\n",
       "      <td>Standard Class</td>\n",
       "      <td>SO-20335</td>\n",
       "      <td>Sean O'Donnell</td>\n",
       "      <td>Consumer</td>\n",
       "      <td>United States</td>\n",
       "      <td>Fort Lauderdale</td>\n",
       "      <td>Florida</td>\n",
       "      <td>33311</td>\n",
       "      <td>...</td>\n",
       "      <td>Storage</td>\n",
       "      <td>Eldon Fold 'N Roll Cart System</td>\n",
       "      <td>-0.332935</td>\n",
       "      <td>-0.804303</td>\n",
       "      <td>0.212153</td>\n",
       "      <td>2.5164</td>\n",
       "      <td>-0.329240</td>\n",
       "      <td>10</td>\n",
       "      <td>2015</td>\n",
       "      <td>Profit</td>\n",
       "    </tr>\n",
       "  </tbody>\n",
       "</table>\n",
       "<p>5 rows × 23 columns</p>\n",
       "</div>"
      ],
      "text/plain": [
       "               Order Date  Ship Date       Ship Mode Customer ID  \\\n",
       "Order ID                                                           \n",
       "CA-2016-152156 2016-11-08 2016-11-11    Second Class    CG-12520   \n",
       "CA-2016-152156 2016-11-08 2016-11-11    Second Class    CG-12520   \n",
       "CA-2016-138688 2016-06-12 2016-06-16    Second Class    DV-13045   \n",
       "US-2015-108966 2015-10-11 2015-10-18  Standard Class    SO-20335   \n",
       "US-2015-108966 2015-10-11 2015-10-18  Standard Class    SO-20335   \n",
       "\n",
       "                  Customer Name    Segment        Country             City  \\\n",
       "Order ID                                                                     \n",
       "CA-2016-152156      Claire Gute   Consumer  United States        Henderson   \n",
       "CA-2016-152156      Claire Gute   Consumer  United States        Henderson   \n",
       "CA-2016-138688  Darrin Van Huff  Corporate  United States      Los Angeles   \n",
       "US-2015-108966   Sean O'Donnell   Consumer  United States  Fort Lauderdale   \n",
       "US-2015-108966   Sean O'Donnell   Consumer  United States  Fort Lauderdale   \n",
       "\n",
       "                     State Postal Code  ... Sub-Category  \\\n",
       "Order ID                                ...                \n",
       "CA-2016-152156    Kentucky       42420  ...    Bookcases   \n",
       "CA-2016-152156    Kentucky       42420  ...       Chairs   \n",
       "CA-2016-138688  California       90036  ...       Labels   \n",
       "US-2015-108966     Florida       33311  ...       Tables   \n",
       "US-2015-108966     Florida       33311  ...      Storage   \n",
       "\n",
       "                                                     Product Name     Sales  \\\n",
       "Order ID                                                                      \n",
       "CA-2016-152156                  Bush Somerset Collection Bookcase  0.051510   \n",
       "CA-2016-152156  Hon Deluxe Fabric Upholstered Stacking Chairs,...  0.805633   \n",
       "CA-2016-138688  Self-Adhesive Address Labels for Typewriters b... -0.345368   \n",
       "US-2015-108966      Bretford CR4500 Series Slim Rectangular Table  1.167688   \n",
       "US-2015-108966                     Eldon Fold 'N Roll Cart System -0.332935   \n",
       "\n",
       "                Quantity  Discount    Profit   Revenue  month  year  Status  \n",
       "Order ID                                                                     \n",
       "CA-2016-152156 -0.804303 -0.756643   41.9136  0.034214     11  2016  Profit  \n",
       "CA-2016-152156 -0.354865 -0.756643  219.5820  0.564906     11  2016  Profit  \n",
       "CA-2016-138688 -0.804303 -0.756643    6.8714 -0.351213      6  2016  Profit  \n",
       "US-2015-108966  0.544012  1.423149 -383.0310  2.068596     10  2015    Loss  \n",
       "US-2015-108966 -0.804303  0.212153    2.5164 -0.329240     10  2015  Profit  \n",
       "\n",
       "[5 rows x 23 columns]"
      ]
     },
     "execution_count": 46,
     "metadata": {},
     "output_type": "execute_result"
    }
   ],
   "source": [
    "for col in to_be_processed.columns:\n",
    "    df[col]=pipeline.fit_transform(np.array(df[col]).reshape(-1,1))\n",
    "    \n",
    "df.head(5)"
   ]
  },
  {
   "cell_type": "markdown",
   "id": "8a479342",
   "metadata": {
    "papermill": {
     "duration": 0.034109,
     "end_time": "2023-05-09T14:26:54.288872",
     "exception": false,
     "start_time": "2023-05-09T14:26:54.254763",
     "status": "completed"
    },
    "tags": []
   },
   "source": [
    "# **Encoding categorical data to numeric data**"
   ]
  },
  {
   "cell_type": "code",
   "execution_count": 47,
   "id": "dd3d15e8",
   "metadata": {
    "execution": {
     "iopub.execute_input": "2023-05-09T14:26:54.350291Z",
     "iopub.status.busy": "2023-05-09T14:26:54.349526Z",
     "iopub.status.idle": "2023-05-09T14:26:54.356446Z",
     "shell.execute_reply": "2023-05-09T14:26:54.355677Z"
    },
    "papermill": {
     "duration": 0.039714,
     "end_time": "2023-05-09T14:26:54.358714",
     "exception": false,
     "start_time": "2023-05-09T14:26:54.319000",
     "status": "completed"
    },
    "tags": []
   },
   "outputs": [],
   "source": [
    "df.drop([\"Country\",'Customer ID','Product ID', 'Customer Name','Product ID'],axis=1,inplace=True)"
   ]
  },
  {
   "cell_type": "code",
   "execution_count": 48,
   "id": "2ebcf59d",
   "metadata": {
    "execution": {
     "iopub.execute_input": "2023-05-09T14:26:54.421181Z",
     "iopub.status.busy": "2023-05-09T14:26:54.420501Z",
     "iopub.status.idle": "2023-05-09T14:26:54.428415Z",
     "shell.execute_reply": "2023-05-09T14:26:54.427269Z"
    },
    "papermill": {
     "duration": 0.041657,
     "end_time": "2023-05-09T14:26:54.430913",
     "exception": false,
     "start_time": "2023-05-09T14:26:54.389256",
     "status": "completed"
    },
    "tags": []
   },
   "outputs": [],
   "source": [
    "df.drop(\"Product Name\",axis=1,inplace=True)"
   ]
  },
  {
   "cell_type": "code",
   "execution_count": 49,
   "id": "f85ab216",
   "metadata": {
    "execution": {
     "iopub.execute_input": "2023-05-09T14:26:54.493017Z",
     "iopub.status.busy": "2023-05-09T14:26:54.491852Z",
     "iopub.status.idle": "2023-05-09T14:26:54.500215Z",
     "shell.execute_reply": "2023-05-09T14:26:54.499162Z"
    },
    "papermill": {
     "duration": 0.041902,
     "end_time": "2023-05-09T14:26:54.502627",
     "exception": false,
     "start_time": "2023-05-09T14:26:54.460725",
     "status": "completed"
    },
    "tags": []
   },
   "outputs": [],
   "source": [
    "df.drop([\"Order Date\",\"Ship Date\"],axis=1,inplace=True)"
   ]
  },
  {
   "cell_type": "code",
   "execution_count": 50,
   "id": "7e862e7e",
   "metadata": {
    "execution": {
     "iopub.execute_input": "2023-05-09T14:26:54.563579Z",
     "iopub.status.busy": "2023-05-09T14:26:54.562625Z",
     "iopub.status.idle": "2023-05-09T14:26:54.598717Z",
     "shell.execute_reply": "2023-05-09T14:26:54.597658Z"
    },
    "papermill": {
     "duration": 0.069206,
     "end_time": "2023-05-09T14:26:54.601266",
     "exception": false,
     "start_time": "2023-05-09T14:26:54.532060",
     "status": "completed"
    },
    "tags": []
   },
   "outputs": [],
   "source": [
    "le=LabelEncoder()\n",
    "cat_data=df.select_dtypes(include=\"object\").drop(columns={\"Status\",})\n",
    "for col in cat_data.columns:\n",
    "    df[col]=le.fit_transform(df[col])\n"
   ]
  },
  {
   "cell_type": "code",
   "execution_count": 51,
   "id": "6b49aa00",
   "metadata": {
    "execution": {
     "iopub.execute_input": "2023-05-09T14:26:54.662237Z",
     "iopub.status.busy": "2023-05-09T14:26:54.661425Z",
     "iopub.status.idle": "2023-05-09T14:26:54.682731Z",
     "shell.execute_reply": "2023-05-09T14:26:54.681806Z"
    },
    "papermill": {
     "duration": 0.054421,
     "end_time": "2023-05-09T14:26:54.684803",
     "exception": false,
     "start_time": "2023-05-09T14:26:54.630382",
     "status": "completed"
    },
    "tags": []
   },
   "outputs": [
    {
     "data": {
      "text/html": [
       "<div>\n",
       "<style scoped>\n",
       "    .dataframe tbody tr th:only-of-type {\n",
       "        vertical-align: middle;\n",
       "    }\n",
       "\n",
       "    .dataframe tbody tr th {\n",
       "        vertical-align: top;\n",
       "    }\n",
       "\n",
       "    .dataframe thead th {\n",
       "        text-align: right;\n",
       "    }\n",
       "</style>\n",
       "<table border=\"1\" class=\"dataframe\">\n",
       "  <thead>\n",
       "    <tr style=\"text-align: right;\">\n",
       "      <th></th>\n",
       "      <th>Ship Mode</th>\n",
       "      <th>Segment</th>\n",
       "      <th>City</th>\n",
       "      <th>State</th>\n",
       "      <th>Postal Code</th>\n",
       "      <th>Region</th>\n",
       "      <th>Category</th>\n",
       "      <th>Sub-Category</th>\n",
       "      <th>Sales</th>\n",
       "      <th>Quantity</th>\n",
       "      <th>Discount</th>\n",
       "      <th>Profit</th>\n",
       "      <th>Revenue</th>\n",
       "      <th>month</th>\n",
       "      <th>year</th>\n",
       "      <th>Status</th>\n",
       "    </tr>\n",
       "    <tr>\n",
       "      <th>Order ID</th>\n",
       "      <th></th>\n",
       "      <th></th>\n",
       "      <th></th>\n",
       "      <th></th>\n",
       "      <th></th>\n",
       "      <th></th>\n",
       "      <th></th>\n",
       "      <th></th>\n",
       "      <th></th>\n",
       "      <th></th>\n",
       "      <th></th>\n",
       "      <th></th>\n",
       "      <th></th>\n",
       "      <th></th>\n",
       "      <th></th>\n",
       "      <th></th>\n",
       "    </tr>\n",
       "  </thead>\n",
       "  <tbody>\n",
       "    <tr>\n",
       "      <th>CA-2016-152156</th>\n",
       "      <td>2</td>\n",
       "      <td>0</td>\n",
       "      <td>194</td>\n",
       "      <td>15</td>\n",
       "      <td>217</td>\n",
       "      <td>2</td>\n",
       "      <td>0</td>\n",
       "      <td>4</td>\n",
       "      <td>0.051510</td>\n",
       "      <td>-0.804303</td>\n",
       "      <td>-0.756643</td>\n",
       "      <td>41.9136</td>\n",
       "      <td>0.034214</td>\n",
       "      <td>11</td>\n",
       "      <td>2016</td>\n",
       "      <td>Profit</td>\n",
       "    </tr>\n",
       "    <tr>\n",
       "      <th>CA-2016-152156</th>\n",
       "      <td>2</td>\n",
       "      <td>0</td>\n",
       "      <td>194</td>\n",
       "      <td>15</td>\n",
       "      <td>217</td>\n",
       "      <td>2</td>\n",
       "      <td>0</td>\n",
       "      <td>5</td>\n",
       "      <td>0.805633</td>\n",
       "      <td>-0.354865</td>\n",
       "      <td>-0.756643</td>\n",
       "      <td>219.5820</td>\n",
       "      <td>0.564906</td>\n",
       "      <td>11</td>\n",
       "      <td>2016</td>\n",
       "      <td>Profit</td>\n",
       "    </tr>\n",
       "    <tr>\n",
       "      <th>CA-2016-138688</th>\n",
       "      <td>2</td>\n",
       "      <td>1</td>\n",
       "      <td>266</td>\n",
       "      <td>3</td>\n",
       "      <td>517</td>\n",
       "      <td>3</td>\n",
       "      <td>1</td>\n",
       "      <td>10</td>\n",
       "      <td>-0.345368</td>\n",
       "      <td>-0.804303</td>\n",
       "      <td>-0.756643</td>\n",
       "      <td>6.8714</td>\n",
       "      <td>-0.351213</td>\n",
       "      <td>6</td>\n",
       "      <td>2016</td>\n",
       "      <td>Profit</td>\n",
       "    </tr>\n",
       "    <tr>\n",
       "      <th>US-2015-108966</th>\n",
       "      <td>3</td>\n",
       "      <td>0</td>\n",
       "      <td>153</td>\n",
       "      <td>8</td>\n",
       "      <td>170</td>\n",
       "      <td>2</td>\n",
       "      <td>0</td>\n",
       "      <td>16</td>\n",
       "      <td>1.167688</td>\n",
       "      <td>0.544012</td>\n",
       "      <td>1.423149</td>\n",
       "      <td>-383.0310</td>\n",
       "      <td>2.068596</td>\n",
       "      <td>10</td>\n",
       "      <td>2015</td>\n",
       "      <td>Loss</td>\n",
       "    </tr>\n",
       "    <tr>\n",
       "      <th>US-2015-108966</th>\n",
       "      <td>3</td>\n",
       "      <td>0</td>\n",
       "      <td>153</td>\n",
       "      <td>8</td>\n",
       "      <td>170</td>\n",
       "      <td>2</td>\n",
       "      <td>1</td>\n",
       "      <td>14</td>\n",
       "      <td>-0.332935</td>\n",
       "      <td>-0.804303</td>\n",
       "      <td>0.212153</td>\n",
       "      <td>2.5164</td>\n",
       "      <td>-0.329240</td>\n",
       "      <td>10</td>\n",
       "      <td>2015</td>\n",
       "      <td>Profit</td>\n",
       "    </tr>\n",
       "    <tr>\n",
       "      <th>...</th>\n",
       "      <td>...</td>\n",
       "      <td>...</td>\n",
       "      <td>...</td>\n",
       "      <td>...</td>\n",
       "      <td>...</td>\n",
       "      <td>...</td>\n",
       "      <td>...</td>\n",
       "      <td>...</td>\n",
       "      <td>...</td>\n",
       "      <td>...</td>\n",
       "      <td>...</td>\n",
       "      <td>...</td>\n",
       "      <td>...</td>\n",
       "      <td>...</td>\n",
       "      <td>...</td>\n",
       "      <td>...</td>\n",
       "    </tr>\n",
       "    <tr>\n",
       "      <th>CA-2014-110422</th>\n",
       "      <td>2</td>\n",
       "      <td>0</td>\n",
       "      <td>295</td>\n",
       "      <td>8</td>\n",
       "      <td>169</td>\n",
       "      <td>2</td>\n",
       "      <td>0</td>\n",
       "      <td>9</td>\n",
       "      <td>-0.328314</td>\n",
       "      <td>-0.354865</td>\n",
       "      <td>0.212153</td>\n",
       "      <td>4.1028</td>\n",
       "      <td>-0.326892</td>\n",
       "      <td>1</td>\n",
       "      <td>2014</td>\n",
       "      <td>Profit</td>\n",
       "    </tr>\n",
       "    <tr>\n",
       "      <th>CA-2017-121258</th>\n",
       "      <td>3</td>\n",
       "      <td>0</td>\n",
       "      <td>104</td>\n",
       "      <td>3</td>\n",
       "      <td>555</td>\n",
       "      <td>3</td>\n",
       "      <td>0</td>\n",
       "      <td>9</td>\n",
       "      <td>-0.221269</td>\n",
       "      <td>-0.804303</td>\n",
       "      <td>-0.756643</td>\n",
       "      <td>15.6332</td>\n",
       "      <td>-0.226710</td>\n",
       "      <td>2</td>\n",
       "      <td>2017</td>\n",
       "      <td>Profit</td>\n",
       "    </tr>\n",
       "    <tr>\n",
       "      <th>CA-2017-121258</th>\n",
       "      <td>3</td>\n",
       "      <td>0</td>\n",
       "      <td>104</td>\n",
       "      <td>3</td>\n",
       "      <td>555</td>\n",
       "      <td>3</td>\n",
       "      <td>2</td>\n",
       "      <td>13</td>\n",
       "      <td>0.046080</td>\n",
       "      <td>-0.804303</td>\n",
       "      <td>0.212153</td>\n",
       "      <td>19.3932</td>\n",
       "      <td>0.068956</td>\n",
       "      <td>2</td>\n",
       "      <td>2017</td>\n",
       "      <td>Profit</td>\n",
       "    </tr>\n",
       "    <tr>\n",
       "      <th>CA-2017-121258</th>\n",
       "      <td>3</td>\n",
       "      <td>0</td>\n",
       "      <td>104</td>\n",
       "      <td>3</td>\n",
       "      <td>555</td>\n",
       "      <td>3</td>\n",
       "      <td>1</td>\n",
       "      <td>12</td>\n",
       "      <td>-0.321331</td>\n",
       "      <td>0.094574</td>\n",
       "      <td>-0.756643</td>\n",
       "      <td>13.3200</td>\n",
       "      <td>-0.335725</td>\n",
       "      <td>2</td>\n",
       "      <td>2017</td>\n",
       "      <td>Profit</td>\n",
       "    </tr>\n",
       "    <tr>\n",
       "      <th>CA-2017-119914</th>\n",
       "      <td>2</td>\n",
       "      <td>0</td>\n",
       "      <td>517</td>\n",
       "      <td>3</td>\n",
       "      <td>560</td>\n",
       "      <td>3</td>\n",
       "      <td>1</td>\n",
       "      <td>1</td>\n",
       "      <td>0.021344</td>\n",
       "      <td>-0.804303</td>\n",
       "      <td>-0.756643</td>\n",
       "      <td>72.9480</td>\n",
       "      <td>-0.056261</td>\n",
       "      <td>5</td>\n",
       "      <td>2017</td>\n",
       "      <td>Profit</td>\n",
       "    </tr>\n",
       "  </tbody>\n",
       "</table>\n",
       "<p>9994 rows × 16 columns</p>\n",
       "</div>"
      ],
      "text/plain": [
       "                Ship Mode  Segment  City  State  Postal Code  Region  \\\n",
       "Order ID                                                               \n",
       "CA-2016-152156          2        0   194     15          217       2   \n",
       "CA-2016-152156          2        0   194     15          217       2   \n",
       "CA-2016-138688          2        1   266      3          517       3   \n",
       "US-2015-108966          3        0   153      8          170       2   \n",
       "US-2015-108966          3        0   153      8          170       2   \n",
       "...                   ...      ...   ...    ...          ...     ...   \n",
       "CA-2014-110422          2        0   295      8          169       2   \n",
       "CA-2017-121258          3        0   104      3          555       3   \n",
       "CA-2017-121258          3        0   104      3          555       3   \n",
       "CA-2017-121258          3        0   104      3          555       3   \n",
       "CA-2017-119914          2        0   517      3          560       3   \n",
       "\n",
       "                Category  Sub-Category     Sales  Quantity  Discount  \\\n",
       "Order ID                                                               \n",
       "CA-2016-152156         0             4  0.051510 -0.804303 -0.756643   \n",
       "CA-2016-152156         0             5  0.805633 -0.354865 -0.756643   \n",
       "CA-2016-138688         1            10 -0.345368 -0.804303 -0.756643   \n",
       "US-2015-108966         0            16  1.167688  0.544012  1.423149   \n",
       "US-2015-108966         1            14 -0.332935 -0.804303  0.212153   \n",
       "...                  ...           ...       ...       ...       ...   \n",
       "CA-2014-110422         0             9 -0.328314 -0.354865  0.212153   \n",
       "CA-2017-121258         0             9 -0.221269 -0.804303 -0.756643   \n",
       "CA-2017-121258         2            13  0.046080 -0.804303  0.212153   \n",
       "CA-2017-121258         1            12 -0.321331  0.094574 -0.756643   \n",
       "CA-2017-119914         1             1  0.021344 -0.804303 -0.756643   \n",
       "\n",
       "                  Profit   Revenue  month  year  Status  \n",
       "Order ID                                                 \n",
       "CA-2016-152156   41.9136  0.034214     11  2016  Profit  \n",
       "CA-2016-152156  219.5820  0.564906     11  2016  Profit  \n",
       "CA-2016-138688    6.8714 -0.351213      6  2016  Profit  \n",
       "US-2015-108966 -383.0310  2.068596     10  2015    Loss  \n",
       "US-2015-108966    2.5164 -0.329240     10  2015  Profit  \n",
       "...                  ...       ...    ...   ...     ...  \n",
       "CA-2014-110422    4.1028 -0.326892      1  2014  Profit  \n",
       "CA-2017-121258   15.6332 -0.226710      2  2017  Profit  \n",
       "CA-2017-121258   19.3932  0.068956      2  2017  Profit  \n",
       "CA-2017-121258   13.3200 -0.335725      2  2017  Profit  \n",
       "CA-2017-119914   72.9480 -0.056261      5  2017  Profit  \n",
       "\n",
       "[9994 rows x 16 columns]"
      ]
     },
     "execution_count": 51,
     "metadata": {},
     "output_type": "execute_result"
    }
   ],
   "source": [
    "df"
   ]
  },
  {
   "cell_type": "code",
   "execution_count": 52,
   "id": "a6573e2b",
   "metadata": {
    "execution": {
     "iopub.execute_input": "2023-05-09T14:26:54.747033Z",
     "iopub.status.busy": "2023-05-09T14:26:54.745838Z",
     "iopub.status.idle": "2023-05-09T14:26:54.755702Z",
     "shell.execute_reply": "2023-05-09T14:26:54.754600Z"
    },
    "papermill": {
     "duration": 0.04323,
     "end_time": "2023-05-09T14:26:54.757865",
     "exception": false,
     "start_time": "2023-05-09T14:26:54.714635",
     "status": "completed"
    },
    "tags": []
   },
   "outputs": [
    {
     "data": {
      "text/plain": [
       "((9994, 15), (9994,))"
      ]
     },
     "execution_count": 52,
     "metadata": {},
     "output_type": "execute_result"
    }
   ],
   "source": [
    "Xt=df.drop(columns={\"Status\"})\n",
    "\n",
    "yt=df[\"Status\"]\n",
    "\n",
    "Xt.shape,yt.shape"
   ]
  },
  {
   "cell_type": "markdown",
   "id": "d4daed35",
   "metadata": {
    "papermill": {
     "duration": 0.029655,
     "end_time": "2023-05-09T14:26:54.817697",
     "exception": false,
     "start_time": "2023-05-09T14:26:54.788042",
     "status": "completed"
    },
    "tags": []
   },
   "source": [
    "# **Data Balancing**"
   ]
  },
  {
   "cell_type": "code",
   "execution_count": 53,
   "id": "8bdb5af1",
   "metadata": {
    "execution": {
     "iopub.execute_input": "2023-05-09T14:26:54.880546Z",
     "iopub.status.busy": "2023-05-09T14:26:54.879633Z",
     "iopub.status.idle": "2023-05-09T14:26:54.893096Z",
     "shell.execute_reply": "2023-05-09T14:26:54.891929Z"
    },
    "papermill": {
     "duration": 0.04765,
     "end_time": "2023-05-09T14:26:54.895561",
     "exception": false,
     "start_time": "2023-05-09T14:26:54.847911",
     "status": "completed"
    },
    "tags": []
   },
   "outputs": [
    {
     "data": {
      "text/html": [
       "<style>#sk-container-id-1 {color: black;background-color: white;}#sk-container-id-1 pre{padding: 0;}#sk-container-id-1 div.sk-toggleable {background-color: white;}#sk-container-id-1 label.sk-toggleable__label {cursor: pointer;display: block;width: 100%;margin-bottom: 0;padding: 0.3em;box-sizing: border-box;text-align: center;}#sk-container-id-1 label.sk-toggleable__label-arrow:before {content: \"▸\";float: left;margin-right: 0.25em;color: #696969;}#sk-container-id-1 label.sk-toggleable__label-arrow:hover:before {color: black;}#sk-container-id-1 div.sk-estimator:hover label.sk-toggleable__label-arrow:before {color: black;}#sk-container-id-1 div.sk-toggleable__content {max-height: 0;max-width: 0;overflow: hidden;text-align: left;background-color: #f0f8ff;}#sk-container-id-1 div.sk-toggleable__content pre {margin: 0.2em;color: black;border-radius: 0.25em;background-color: #f0f8ff;}#sk-container-id-1 input.sk-toggleable__control:checked~div.sk-toggleable__content {max-height: 200px;max-width: 100%;overflow: auto;}#sk-container-id-1 input.sk-toggleable__control:checked~label.sk-toggleable__label-arrow:before {content: \"▾\";}#sk-container-id-1 div.sk-estimator input.sk-toggleable__control:checked~label.sk-toggleable__label {background-color: #d4ebff;}#sk-container-id-1 div.sk-label input.sk-toggleable__control:checked~label.sk-toggleable__label {background-color: #d4ebff;}#sk-container-id-1 input.sk-hidden--visually {border: 0;clip: rect(1px 1px 1px 1px);clip: rect(1px, 1px, 1px, 1px);height: 1px;margin: -1px;overflow: hidden;padding: 0;position: absolute;width: 1px;}#sk-container-id-1 div.sk-estimator {font-family: monospace;background-color: #f0f8ff;border: 1px dotted black;border-radius: 0.25em;box-sizing: border-box;margin-bottom: 0.5em;}#sk-container-id-1 div.sk-estimator:hover {background-color: #d4ebff;}#sk-container-id-1 div.sk-parallel-item::after {content: \"\";width: 100%;border-bottom: 1px solid gray;flex-grow: 1;}#sk-container-id-1 div.sk-label:hover label.sk-toggleable__label {background-color: #d4ebff;}#sk-container-id-1 div.sk-serial::before {content: \"\";position: absolute;border-left: 1px solid gray;box-sizing: border-box;top: 0;bottom: 0;left: 50%;z-index: 0;}#sk-container-id-1 div.sk-serial {display: flex;flex-direction: column;align-items: center;background-color: white;padding-right: 0.2em;padding-left: 0.2em;position: relative;}#sk-container-id-1 div.sk-item {position: relative;z-index: 1;}#sk-container-id-1 div.sk-parallel {display: flex;align-items: stretch;justify-content: center;background-color: white;position: relative;}#sk-container-id-1 div.sk-item::before, #sk-container-id-1 div.sk-parallel-item::before {content: \"\";position: absolute;border-left: 1px solid gray;box-sizing: border-box;top: 0;bottom: 0;left: 50%;z-index: -1;}#sk-container-id-1 div.sk-parallel-item {display: flex;flex-direction: column;z-index: 1;position: relative;background-color: white;}#sk-container-id-1 div.sk-parallel-item:first-child::after {align-self: flex-end;width: 50%;}#sk-container-id-1 div.sk-parallel-item:last-child::after {align-self: flex-start;width: 50%;}#sk-container-id-1 div.sk-parallel-item:only-child::after {width: 0;}#sk-container-id-1 div.sk-dashed-wrapped {border: 1px dashed gray;margin: 0 0.4em 0.5em 0.4em;box-sizing: border-box;padding-bottom: 0.4em;background-color: white;}#sk-container-id-1 div.sk-label label {font-family: monospace;font-weight: bold;display: inline-block;line-height: 1.2em;}#sk-container-id-1 div.sk-label-container {text-align: center;}#sk-container-id-1 div.sk-container {/* jupyter's `normalize.less` sets `[hidden] { display: none; }` but bootstrap.min.css set `[hidden] { display: none !important; }` so we also need the `!important` here to be able to override the default hidden behavior on the sphinx rendered scikit-learn.org. See: https://github.com/scikit-learn/scikit-learn/issues/21755 */display: inline-block !important;position: relative;}#sk-container-id-1 div.sk-text-repr-fallback {display: none;}</style><div id=\"sk-container-id-1\" class=\"sk-top-container\"><div class=\"sk-text-repr-fallback\"><pre>SMOTETomek(random_state=10)</pre><b>In a Jupyter environment, please rerun this cell to show the HTML representation or trust the notebook. <br />On GitHub, the HTML representation is unable to render, please try loading this page with nbviewer.org.</b></div><div class=\"sk-container\" hidden><div class=\"sk-item\"><div class=\"sk-estimator sk-toggleable\"><input class=\"sk-toggleable__control sk-hidden--visually\" id=\"sk-estimator-id-1\" type=\"checkbox\" checked><label for=\"sk-estimator-id-1\" class=\"sk-toggleable__label sk-toggleable__label-arrow\">SMOTETomek</label><div class=\"sk-toggleable__content\"><pre>SMOTETomek(random_state=10)</pre></div></div></div></div></div>"
      ],
      "text/plain": [
       "SMOTETomek(random_state=10)"
      ]
     },
     "execution_count": 53,
     "metadata": {},
     "output_type": "execute_result"
    }
   ],
   "source": [
    "smt=SMOTETomek(random_state=10)\n",
    "smt"
   ]
  },
  {
   "cell_type": "code",
   "execution_count": 54,
   "id": "984b5275",
   "metadata": {
    "execution": {
     "iopub.execute_input": "2023-05-09T14:26:54.961077Z",
     "iopub.status.busy": "2023-05-09T14:26:54.960475Z",
     "iopub.status.idle": "2023-05-09T14:26:55.519362Z",
     "shell.execute_reply": "2023-05-09T14:26:55.518216Z"
    },
    "papermill": {
     "duration": 0.594849,
     "end_time": "2023-05-09T14:26:55.521863",
     "exception": false,
     "start_time": "2023-05-09T14:26:54.927014",
     "status": "completed"
    },
    "tags": []
   },
   "outputs": [
    {
     "data": {
      "text/plain": [
       "((24164, 15), (24164,))"
      ]
     },
     "execution_count": 54,
     "metadata": {},
     "output_type": "execute_result"
    }
   ],
   "source": [
    "X_res,y_res = smt.fit_resample(Xt,yt)\n",
    "X_res.shape,y_res.shape"
   ]
  },
  {
   "cell_type": "code",
   "execution_count": 55,
   "id": "b51b9ef8",
   "metadata": {
    "execution": {
     "iopub.execute_input": "2023-05-09T14:26:55.588458Z",
     "iopub.status.busy": "2023-05-09T14:26:55.587726Z",
     "iopub.status.idle": "2023-05-09T14:26:56.065752Z",
     "shell.execute_reply": "2023-05-09T14:26:56.064502Z"
    },
    "papermill": {
     "duration": 0.513832,
     "end_time": "2023-05-09T14:26:56.068039",
     "exception": false,
     "start_time": "2023-05-09T14:26:55.554207",
     "status": "completed"
    },
    "tags": []
   },
   "outputs": [
    {
     "data": {
      "image/png": "[encoded data removed]",
      "text/plain": [
       "<Figure size 1000x400 with 2 Axes>"
      ]
     },
     "metadata": {},
     "output_type": "display_data"
    }
   ],
   "source": [
    "sns.set_style(\"darkgrid\")\n",
    "plt.figure(figsize=(10,4))\n",
    "plt.subplot(1,2,1)\n",
    "plt.bar(yt.value_counts(normalize=True).index,\n",
    "        yt.value_counts(normalize=True).values,\n",
    "       color=[\"#95B9C7\",\"#87AFC7\",\"#659EC7\"])\n",
    "plt.title(\"Before balancing\")\n",
    "\n",
    "plt.subplot(1,2,2)\n",
    "plt.bar(y_res.value_counts(normalize=True).index,\n",
    "        y_res.value_counts(normalize=True).values,\n",
    "       color=[\"#25383C\",\"#2C3539\",\"#033E3E\"])\n",
    "plt.title(\"After balancing\")\n",
    "\n",
    "plt.tight_layout(pad=4)\n",
    "plt.show()"
   ]
  },
  {
   "cell_type": "markdown",
   "id": "aafec60f",
   "metadata": {
    "papermill": {
     "duration": 0.031712,
     "end_time": "2023-05-09T14:26:56.131614",
     "exception": false,
     "start_time": "2023-05-09T14:26:56.099902",
     "status": "completed"
    },
    "tags": []
   },
   "source": [
    "# **Features and labels**"
   ]
  },
  {
   "cell_type": "code",
   "execution_count": 56,
   "id": "c48fd4f6",
   "metadata": {
    "execution": {
     "iopub.execute_input": "2023-05-09T14:26:56.198802Z",
     "iopub.status.busy": "2023-05-09T14:26:56.198107Z",
     "iopub.status.idle": "2023-05-09T14:26:56.207771Z",
     "shell.execute_reply": "2023-05-09T14:26:56.206346Z"
    },
    "papermill": {
     "duration": 0.045974,
     "end_time": "2023-05-09T14:26:56.209944",
     "exception": false,
     "start_time": "2023-05-09T14:26:56.163970",
     "status": "completed"
    },
    "tags": []
   },
   "outputs": [
    {
     "data": {
      "text/plain": [
       "((24164, 14), (24164,))"
      ]
     },
     "execution_count": 56,
     "metadata": {},
     "output_type": "execute_result"
    }
   ],
   "source": [
    "#Feature\n",
    "X=X_res.drop(columns={\"Profit\"})\n",
    "\n",
    "#Labels\n",
    "\n",
    "y=X_res[\"Profit\"]\n",
    "\n",
    "X.shape,y.shape"
   ]
  },
  {
   "cell_type": "markdown",
   "id": "ba06f991",
   "metadata": {
    "papermill": {
     "duration": 0.031546,
     "end_time": "2023-05-09T14:26:56.272809",
     "exception": false,
     "start_time": "2023-05-09T14:26:56.241263",
     "status": "completed"
    },
    "tags": []
   },
   "source": [
    "# **Splitting the data into training data and testing data**"
   ]
  },
  {
   "cell_type": "code",
   "execution_count": 57,
   "id": "a3a23d02",
   "metadata": {
    "execution": {
     "iopub.execute_input": "2023-05-09T14:26:56.338769Z",
     "iopub.status.busy": "2023-05-09T14:26:56.338362Z",
     "iopub.status.idle": "2023-05-09T14:26:56.353815Z",
     "shell.execute_reply": "2023-05-09T14:26:56.352560Z"
    },
    "papermill": {
     "duration": 0.051331,
     "end_time": "2023-05-09T14:26:56.356241",
     "exception": false,
     "start_time": "2023-05-09T14:26:56.304910",
     "status": "completed"
    },
    "tags": []
   },
   "outputs": [],
   "source": [
    "X_train,X_test,y_train,y_test = train_test_split(X,y,test_size=0.2,shuffle=True,random_state=10)"
   ]
  },
  {
   "cell_type": "markdown",
   "id": "9c3d8c4d",
   "metadata": {
    "papermill": {
     "duration": 0.031565,
     "end_time": "2023-05-09T14:26:56.419156",
     "exception": false,
     "start_time": "2023-05-09T14:26:56.387591",
     "status": "completed"
    },
    "tags": []
   },
   "source": [
    "# Model Selection\n",
    "\n",
    "* Selecting regression model\n",
    "# Linear Regression \n",
    "\n",
    "* Linear Regression model"
   ]
  },
  {
   "cell_type": "code",
   "execution_count": 58,
   "id": "62d0615f",
   "metadata": {
    "execution": {
     "iopub.execute_input": "2023-05-09T14:26:56.485931Z",
     "iopub.status.busy": "2023-05-09T14:26:56.485377Z",
     "iopub.status.idle": "2023-05-09T14:26:56.538158Z",
     "shell.execute_reply": "2023-05-09T14:26:56.536610Z"
    },
    "papermill": {
     "duration": 0.091185,
     "end_time": "2023-05-09T14:26:56.542156",
     "exception": false,
     "start_time": "2023-05-09T14:26:56.450971",
     "status": "completed"
    },
    "tags": []
   },
   "outputs": [
    {
     "data": {
      "text/html": [
       "<style>#sk-container-id-2 {color: black;background-color: white;}#sk-container-id-2 pre{padding: 0;}#sk-container-id-2 div.sk-toggleable {background-color: white;}#sk-container-id-2 label.sk-toggleable__label {cursor: pointer;display: block;width: 100%;margin-bottom: 0;padding: 0.3em;box-sizing: border-box;text-align: center;}#sk-container-id-2 label.sk-toggleable__label-arrow:before {content: \"▸\";float: left;margin-right: 0.25em;color: #696969;}#sk-container-id-2 label.sk-toggleable__label-arrow:hover:before {color: black;}#sk-container-id-2 div.sk-estimator:hover label.sk-toggleable__label-arrow:before {color: black;}#sk-container-id-2 div.sk-toggleable__content {max-height: 0;max-width: 0;overflow: hidden;text-align: left;background-color: #f0f8ff;}#sk-container-id-2 div.sk-toggleable__content pre {margin: 0.2em;color: black;border-radius: 0.25em;background-color: #f0f8ff;}#sk-container-id-2 input.sk-toggleable__control:checked~div.sk-toggleable__content {max-height: 200px;max-width: 100%;overflow: auto;}#sk-container-id-2 input.sk-toggleable__control:checked~label.sk-toggleable__label-arrow:before {content: \"▾\";}#sk-container-id-2 div.sk-estimator input.sk-toggleable__control:checked~label.sk-toggleable__label {background-color: #d4ebff;}#sk-container-id-2 div.sk-label input.sk-toggleable__control:checked~label.sk-toggleable__label {background-color: #d4ebff;}#sk-container-id-2 input.sk-hidden--visually {border: 0;clip: rect(1px 1px 1px 1px);clip: rect(1px, 1px, 1px, 1px);height: 1px;margin: -1px;overflow: hidden;padding: 0;position: absolute;width: 1px;}#sk-container-id-2 div.sk-estimator {font-family: monospace;background-color: #f0f8ff;border: 1px dotted black;border-radius: 0.25em;box-sizing: border-box;margin-bottom: 0.5em;}#sk-container-id-2 div.sk-estimator:hover {background-color: #d4ebff;}#sk-container-id-2 div.sk-parallel-item::after {content: \"\";width: 100%;border-bottom: 1px solid gray;flex-grow: 1;}#sk-container-id-2 div.sk-label:hover label.sk-toggleable__label {background-color: #d4ebff;}#sk-container-id-2 div.sk-serial::before {content: \"\";position: absolute;border-left: 1px solid gray;box-sizing: border-box;top: 0;bottom: 0;left: 50%;z-index: 0;}#sk-container-id-2 div.sk-serial {display: flex;flex-direction: column;align-items: center;background-color: white;padding-right: 0.2em;padding-left: 0.2em;position: relative;}#sk-container-id-2 div.sk-item {position: relative;z-index: 1;}#sk-container-id-2 div.sk-parallel {display: flex;align-items: stretch;justify-content: center;background-color: white;position: relative;}#sk-container-id-2 div.sk-item::before, #sk-container-id-2 div.sk-parallel-item::before {content: \"\";position: absolute;border-left: 1px solid gray;box-sizing: border-box;top: 0;bottom: 0;left: 50%;z-index: -1;}#sk-container-id-2 div.sk-parallel-item {display: flex;flex-direction: column;z-index: 1;position: relative;background-color: white;}#sk-container-id-2 div.sk-parallel-item:first-child::after {align-self: flex-end;width: 50%;}#sk-container-id-2 div.sk-parallel-item:last-child::after {align-self: flex-start;width: 50%;}#sk-container-id-2 div.sk-parallel-item:only-child::after {width: 0;}#sk-container-id-2 div.sk-dashed-wrapped {border: 1px dashed gray;margin: 0 0.4em 0.5em 0.4em;box-sizing: border-box;padding-bottom: 0.4em;background-color: white;}#sk-container-id-2 div.sk-label label {font-family: monospace;font-weight: bold;display: inline-block;line-height: 1.2em;}#sk-container-id-2 div.sk-label-container {text-align: center;}#sk-container-id-2 div.sk-container {/* jupyter's `normalize.less` sets `[hidden] { display: none; }` but bootstrap.min.css set `[hidden] { display: none !important; }` so we also need the `!important` here to be able to override the default hidden behavior on the sphinx rendered scikit-learn.org. See: https://github.com/scikit-learn/scikit-learn/issues/21755 */display: inline-block !important;position: relative;}#sk-container-id-2 div.sk-text-repr-fallback {display: none;}</style><div id=\"sk-container-id-2\" class=\"sk-top-container\"><div class=\"sk-text-repr-fallback\"><pre>LinearRegression()</pre><b>In a Jupyter environment, please rerun this cell to show the HTML representation or trust the notebook. <br />On GitHub, the HTML representation is unable to render, please try loading this page with nbviewer.org.</b></div><div class=\"sk-container\" hidden><div class=\"sk-item\"><div class=\"sk-estimator sk-toggleable\"><input class=\"sk-toggleable__control sk-hidden--visually\" id=\"sk-estimator-id-2\" type=\"checkbox\" checked><label for=\"sk-estimator-id-2\" class=\"sk-toggleable__label sk-toggleable__label-arrow\">LinearRegression</label><div class=\"sk-toggleable__content\"><pre>LinearRegression()</pre></div></div></div></div></div>"
      ],
      "text/plain": [
       "LinearRegression()"
      ]
     },
     "execution_count": 58,
     "metadata": {},
     "output_type": "execute_result"
    }
   ],
   "source": [
    "linearR_model = LinearRegression()\n",
    "linearR_model.fit(X_train,y_train)"
   ]
  },
  {
   "cell_type": "code",
   "execution_count": 59,
   "id": "0fa1de19",
   "metadata": {
    "execution": {
     "iopub.execute_input": "2023-05-09T14:26:56.670468Z",
     "iopub.status.busy": "2023-05-09T14:26:56.670022Z",
     "iopub.status.idle": "2023-05-09T14:26:56.687096Z",
     "shell.execute_reply": "2023-05-09T14:26:56.685340Z"
    },
    "papermill": {
     "duration": 0.069702,
     "end_time": "2023-05-09T14:26:56.691901",
     "exception": false,
     "start_time": "2023-05-09T14:26:56.622199",
     "status": "completed"
    },
    "tags": []
   },
   "outputs": [
    {
     "name": "stdout",
     "output_type": "stream",
     "text": [
      "4.7780059330607e-13\n"
     ]
    }
   ],
   "source": [
    "y_pred = linearR_model.predict(X_test)\n",
    "print(mean_absolute_error(y_test, y_pred))\n"
   ]
  },
  {
   "cell_type": "code",
   "execution_count": null,
   "id": "180eb43d",
   "metadata": {
    "papermill": {
     "duration": 0.048223,
     "end_time": "2023-05-09T14:26:56.820057",
     "exception": false,
     "start_time": "2023-05-09T14:26:56.771834",
     "status": "completed"
    },
    "tags": []
   },
   "outputs": [],
   "source": []
  }
 ],
 "metadata": {
  "kernelspec": {
   "display_name": "Python 3",
   "language": "python",
   "name": "python3"
  },
  "language_info": {
   "codemirror_mode": {
    "name": "ipython",
    "version": 3
   },
   "file_extension": ".py",
   "mimetype": "text/x-python",
   "name": "python",
   "nbconvert_exporter": "python",
   "pygments_lexer": "ipython3",
   "version": "3.10.10"
  },
  "papermill": {
   "default_parameters": {},
   "duration": 26.708881,
   "end_time": "2023-05-09T14:26:57.976078",
   "environment_variables": {},
   "exception": null,
   "input_path": "__notebook__.ipynb",
   "output_path": "__notebook__.ipynb",
   "parameters": {},
   "start_time": "2023-05-09T14:26:31.267197",
   "version": "2.4.0"
  }
 },
 "nbformat": 4,
 "nbformat_minor": 5
}
